{
 "cells": [
  {
   "cell_type": "markdown",
   "metadata": {},
   "source": [
    "# Titanic - Machine Learning from Disasters\n",
    "## Kaggle Competition"
   ]
  },
  {
   "cell_type": "markdown",
   "metadata": {},
   "source": [
    "#### RMS Titanic was a British passenger liner that sank in the North Atlantic Ocean in the early hours of 15 April 1912, after colliding with an iceberg during her maiden voyage from Southampton to New York City. There were an estimated 2,224 passengers and crew aboard, and more than 1,500 died, making it one of the deadliest commercial peacetime maritime disasters in modern history. RMS Titanic was the largest ship afloat at the time she entered service and was the second of three Olympic-class ocean liners operated by the White Star Line.\n",
    "\n",
    "### In this exercise, we will try to predict whether a passenger on the Titanic would have survived or not."
   ]
  },
  {
   "cell_type": "markdown",
   "metadata": {},
   "source": [
    "### Import the necessary libraries"
   ]
  },
  {
   "cell_type": "code",
   "execution_count": 1,
   "metadata": {},
   "outputs": [],
   "source": [
    "# Import our libraries\n",
    "import pandas as pd\n",
    "import numpy as np\n",
    "\n",
    "# Import sklearn libraries\n",
    "from sklearn.model_selection import train_test_split, GridSearchCV, StratifiedKFold, cross_val_score\n",
    "from sklearn.model_selection import cross_validate\n",
    "from sklearn.metrics import accuracy_score, precision_score, recall_score, roc_curve, precision_recall_curve, auc, make_scorer, confusion_matrix, f1_score, fbeta_score\n",
    "\n",
    "# Import the Naive Bayes, logistic regression, Bagging, RandomForest, AdaBoost, GradientBoost, Decision Trees and SVM Classifier\n",
    "\n",
    "from sklearn.naive_bayes import MultinomialNB\n",
    "from sklearn.ensemble import BaggingClassifier, RandomForestClassifier, AdaBoostClassifier, GradientBoostingClassifier\n",
    "from sklearn.linear_model import LogisticRegression\n",
    "from sklearn.tree import DecisionTreeClassifier\n",
    "from sklearn import svm\n",
    "from xgboost import XGBClassifier\n",
    "\n",
    "import seaborn as sns\n",
    "import matplotlib.pyplot as plt\n",
    "%matplotlib inline\n",
    "#from matplotlib import style\n",
    "#plt.style.use('bmh')\n",
    "#plt.style.use('ggplot')\n",
    "plt.style.use('seaborn-notebook')\n",
    "\n",
    "from matplotlib.ticker import StrMethodFormatter\n",
    "\n",
    "from sklearn.preprocessing import StandardScaler, MinMaxScaler, LabelBinarizer\n"
   ]
  },
  {
   "cell_type": "markdown",
   "metadata": {},
   "source": [
    "### Read the training and testing data"
   ]
  },
  {
   "cell_type": "code",
   "execution_count": 2,
   "metadata": {},
   "outputs": [],
   "source": [
    "#titanic_features = pd.read_csv('train.csv')\n",
    "test_df = pd.read_csv(\"data/test.csv\")\n",
    "train_df = pd.read_csv(\"data/train.csv\")"
   ]
  },
  {
   "cell_type": "markdown",
   "metadata": {},
   "source": [
    "### Exploratory Analysis"
   ]
  },
  {
   "cell_type": "code",
   "execution_count": 3,
   "metadata": {},
   "outputs": [
    {
     "name": "stdout",
     "output_type": "stream",
     "text": [
      "<class 'pandas.core.frame.DataFrame'>\n",
      "RangeIndex: 891 entries, 0 to 890\n",
      "Data columns (total 12 columns):\n",
      "PassengerId    891 non-null int64\n",
      "Survived       891 non-null int64\n",
      "Pclass         891 non-null int64\n",
      "Name           891 non-null object\n",
      "Sex            891 non-null object\n",
      "Age            714 non-null float64\n",
      "SibSp          891 non-null int64\n",
      "Parch          891 non-null int64\n",
      "Ticket         891 non-null object\n",
      "Fare           891 non-null float64\n",
      "Cabin          204 non-null object\n",
      "Embarked       889 non-null object\n",
      "dtypes: float64(2), int64(5), object(5)\n",
      "memory usage: 83.6+ KB\n"
     ]
    }
   ],
   "source": [
    "train_df.info()"
   ]
  },
  {
   "cell_type": "code",
   "execution_count": 4,
   "metadata": {},
   "outputs": [
    {
     "data": {
      "text/plain": [
       "(891, 12)"
      ]
     },
     "execution_count": 4,
     "metadata": {},
     "output_type": "execute_result"
    }
   ],
   "source": [
    "train_df.shape"
   ]
  },
  {
   "cell_type": "code",
   "execution_count": 5,
   "metadata": {},
   "outputs": [
    {
     "data": {
      "text/plain": [
       "(418, 11)"
      ]
     },
     "execution_count": 5,
     "metadata": {},
     "output_type": "execute_result"
    }
   ],
   "source": [
    "test_df.shape"
   ]
  },
  {
   "cell_type": "code",
   "execution_count": 6,
   "metadata": {},
   "outputs": [
    {
     "name": "stdout",
     "output_type": "stream",
     "text": [
      "<class 'pandas.core.frame.DataFrame'>\n",
      "RangeIndex: 418 entries, 0 to 417\n",
      "Data columns (total 11 columns):\n",
      "PassengerId    418 non-null int64\n",
      "Pclass         418 non-null int64\n",
      "Name           418 non-null object\n",
      "Sex            418 non-null object\n",
      "Age            332 non-null float64\n",
      "SibSp          418 non-null int64\n",
      "Parch          418 non-null int64\n",
      "Ticket         418 non-null object\n",
      "Fare           417 non-null float64\n",
      "Cabin          91 non-null object\n",
      "Embarked       418 non-null object\n",
      "dtypes: float64(2), int64(4), object(5)\n",
      "memory usage: 36.0+ KB\n"
     ]
    }
   ],
   "source": [
    "test_df.info()"
   ]
  },
  {
   "cell_type": "code",
   "execution_count": 7,
   "metadata": {},
   "outputs": [
    {
     "data": {
      "text/html": [
       "<div>\n",
       "<style scoped>\n",
       "    .dataframe tbody tr th:only-of-type {\n",
       "        vertical-align: middle;\n",
       "    }\n",
       "\n",
       "    .dataframe tbody tr th {\n",
       "        vertical-align: top;\n",
       "    }\n",
       "\n",
       "    .dataframe thead th {\n",
       "        text-align: right;\n",
       "    }\n",
       "</style>\n",
       "<table border=\"1\" class=\"dataframe\">\n",
       "  <thead>\n",
       "    <tr style=\"text-align: right;\">\n",
       "      <th></th>\n",
       "      <th>PassengerId</th>\n",
       "      <th>Survived</th>\n",
       "      <th>Pclass</th>\n",
       "      <th>Name</th>\n",
       "      <th>Sex</th>\n",
       "      <th>Age</th>\n",
       "      <th>SibSp</th>\n",
       "      <th>Parch</th>\n",
       "      <th>Ticket</th>\n",
       "      <th>Fare</th>\n",
       "      <th>Cabin</th>\n",
       "      <th>Embarked</th>\n",
       "    </tr>\n",
       "  </thead>\n",
       "  <tbody>\n",
       "    <tr>\n",
       "      <th>0</th>\n",
       "      <td>1</td>\n",
       "      <td>0</td>\n",
       "      <td>3</td>\n",
       "      <td>Braund, Mr. Owen Harris</td>\n",
       "      <td>male</td>\n",
       "      <td>22.0</td>\n",
       "      <td>1</td>\n",
       "      <td>0</td>\n",
       "      <td>A/5 21171</td>\n",
       "      <td>7.2500</td>\n",
       "      <td>NaN</td>\n",
       "      <td>S</td>\n",
       "    </tr>\n",
       "    <tr>\n",
       "      <th>1</th>\n",
       "      <td>2</td>\n",
       "      <td>1</td>\n",
       "      <td>1</td>\n",
       "      <td>Cumings, Mrs. John Bradley (Florence Briggs Th...</td>\n",
       "      <td>female</td>\n",
       "      <td>38.0</td>\n",
       "      <td>1</td>\n",
       "      <td>0</td>\n",
       "      <td>PC 17599</td>\n",
       "      <td>71.2833</td>\n",
       "      <td>C85</td>\n",
       "      <td>C</td>\n",
       "    </tr>\n",
       "    <tr>\n",
       "      <th>2</th>\n",
       "      <td>3</td>\n",
       "      <td>1</td>\n",
       "      <td>3</td>\n",
       "      <td>Heikkinen, Miss. Laina</td>\n",
       "      <td>female</td>\n",
       "      <td>26.0</td>\n",
       "      <td>0</td>\n",
       "      <td>0</td>\n",
       "      <td>STON/O2. 3101282</td>\n",
       "      <td>7.9250</td>\n",
       "      <td>NaN</td>\n",
       "      <td>S</td>\n",
       "    </tr>\n",
       "    <tr>\n",
       "      <th>3</th>\n",
       "      <td>4</td>\n",
       "      <td>1</td>\n",
       "      <td>1</td>\n",
       "      <td>Futrelle, Mrs. Jacques Heath (Lily May Peel)</td>\n",
       "      <td>female</td>\n",
       "      <td>35.0</td>\n",
       "      <td>1</td>\n",
       "      <td>0</td>\n",
       "      <td>113803</td>\n",
       "      <td>53.1000</td>\n",
       "      <td>C123</td>\n",
       "      <td>S</td>\n",
       "    </tr>\n",
       "    <tr>\n",
       "      <th>4</th>\n",
       "      <td>5</td>\n",
       "      <td>0</td>\n",
       "      <td>3</td>\n",
       "      <td>Allen, Mr. William Henry</td>\n",
       "      <td>male</td>\n",
       "      <td>35.0</td>\n",
       "      <td>0</td>\n",
       "      <td>0</td>\n",
       "      <td>373450</td>\n",
       "      <td>8.0500</td>\n",
       "      <td>NaN</td>\n",
       "      <td>S</td>\n",
       "    </tr>\n",
       "  </tbody>\n",
       "</table>\n",
       "</div>"
      ],
      "text/plain": [
       "   PassengerId  Survived  Pclass  \\\n",
       "0            1         0       3   \n",
       "1            2         1       1   \n",
       "2            3         1       3   \n",
       "3            4         1       1   \n",
       "4            5         0       3   \n",
       "\n",
       "                                                Name     Sex   Age  SibSp  \\\n",
       "0                            Braund, Mr. Owen Harris    male  22.0      1   \n",
       "1  Cumings, Mrs. John Bradley (Florence Briggs Th...  female  38.0      1   \n",
       "2                             Heikkinen, Miss. Laina  female  26.0      0   \n",
       "3       Futrelle, Mrs. Jacques Heath (Lily May Peel)  female  35.0      1   \n",
       "4                           Allen, Mr. William Henry    male  35.0      0   \n",
       "\n",
       "   Parch            Ticket     Fare Cabin Embarked  \n",
       "0      0         A/5 21171   7.2500   NaN        S  \n",
       "1      0          PC 17599  71.2833   C85        C  \n",
       "2      0  STON/O2. 3101282   7.9250   NaN        S  \n",
       "3      0            113803  53.1000  C123        S  \n",
       "4      0            373450   8.0500   NaN        S  "
      ]
     },
     "execution_count": 7,
     "metadata": {},
     "output_type": "execute_result"
    }
   ],
   "source": [
    "train_df.head()"
   ]
  },
  {
   "cell_type": "markdown",
   "metadata": {},
   "source": [
    "## Features:\n",
    "* `survival`: Survival \n",
    "* `PassengerId`: Unique Id of a passenger\n",
    "* `pclass`: Ticket class     \n",
    "* `sex`: Sex     \n",
    "* `Age`: Age in years     \n",
    "* `sibsp`: # of siblings / spouses aboard the Titanic     \n",
    "* `parch`: # of parents / children aboard the Titanic     \n",
    "* `ticket`: Ticket number     \n",
    "* `fare`: Passenger fare     \n",
    "* `cabin`: Cabin number     \n",
    "* `embarked`: Port of Embarkation"
   ]
  },
  {
   "cell_type": "code",
   "execution_count": 8,
   "metadata": {},
   "outputs": [
    {
     "data": {
      "text/html": [
       "<div>\n",
       "<style scoped>\n",
       "    .dataframe tbody tr th:only-of-type {\n",
       "        vertical-align: middle;\n",
       "    }\n",
       "\n",
       "    .dataframe tbody tr th {\n",
       "        vertical-align: top;\n",
       "    }\n",
       "\n",
       "    .dataframe thead th {\n",
       "        text-align: right;\n",
       "    }\n",
       "</style>\n",
       "<table border=\"1\" class=\"dataframe\">\n",
       "  <thead>\n",
       "    <tr style=\"text-align: right;\">\n",
       "      <th></th>\n",
       "      <th>PassengerId</th>\n",
       "      <th>Survived</th>\n",
       "      <th>Pclass</th>\n",
       "      <th>Age</th>\n",
       "      <th>SibSp</th>\n",
       "      <th>Parch</th>\n",
       "      <th>Fare</th>\n",
       "    </tr>\n",
       "  </thead>\n",
       "  <tbody>\n",
       "    <tr>\n",
       "      <th>count</th>\n",
       "      <td>891.000000</td>\n",
       "      <td>891.000000</td>\n",
       "      <td>891.000000</td>\n",
       "      <td>714.000000</td>\n",
       "      <td>891.000000</td>\n",
       "      <td>891.000000</td>\n",
       "      <td>891.000000</td>\n",
       "    </tr>\n",
       "    <tr>\n",
       "      <th>mean</th>\n",
       "      <td>446.000000</td>\n",
       "      <td>0.383838</td>\n",
       "      <td>2.308642</td>\n",
       "      <td>29.699118</td>\n",
       "      <td>0.523008</td>\n",
       "      <td>0.381594</td>\n",
       "      <td>32.204208</td>\n",
       "    </tr>\n",
       "    <tr>\n",
       "      <th>std</th>\n",
       "      <td>257.353842</td>\n",
       "      <td>0.486592</td>\n",
       "      <td>0.836071</td>\n",
       "      <td>14.526497</td>\n",
       "      <td>1.102743</td>\n",
       "      <td>0.806057</td>\n",
       "      <td>49.693429</td>\n",
       "    </tr>\n",
       "    <tr>\n",
       "      <th>min</th>\n",
       "      <td>1.000000</td>\n",
       "      <td>0.000000</td>\n",
       "      <td>1.000000</td>\n",
       "      <td>0.420000</td>\n",
       "      <td>0.000000</td>\n",
       "      <td>0.000000</td>\n",
       "      <td>0.000000</td>\n",
       "    </tr>\n",
       "    <tr>\n",
       "      <th>25%</th>\n",
       "      <td>223.500000</td>\n",
       "      <td>0.000000</td>\n",
       "      <td>2.000000</td>\n",
       "      <td>20.125000</td>\n",
       "      <td>0.000000</td>\n",
       "      <td>0.000000</td>\n",
       "      <td>7.910400</td>\n",
       "    </tr>\n",
       "    <tr>\n",
       "      <th>50%</th>\n",
       "      <td>446.000000</td>\n",
       "      <td>0.000000</td>\n",
       "      <td>3.000000</td>\n",
       "      <td>28.000000</td>\n",
       "      <td>0.000000</td>\n",
       "      <td>0.000000</td>\n",
       "      <td>14.454200</td>\n",
       "    </tr>\n",
       "    <tr>\n",
       "      <th>75%</th>\n",
       "      <td>668.500000</td>\n",
       "      <td>1.000000</td>\n",
       "      <td>3.000000</td>\n",
       "      <td>38.000000</td>\n",
       "      <td>1.000000</td>\n",
       "      <td>0.000000</td>\n",
       "      <td>31.000000</td>\n",
       "    </tr>\n",
       "    <tr>\n",
       "      <th>max</th>\n",
       "      <td>891.000000</td>\n",
       "      <td>1.000000</td>\n",
       "      <td>3.000000</td>\n",
       "      <td>80.000000</td>\n",
       "      <td>8.000000</td>\n",
       "      <td>6.000000</td>\n",
       "      <td>512.329200</td>\n",
       "    </tr>\n",
       "  </tbody>\n",
       "</table>\n",
       "</div>"
      ],
      "text/plain": [
       "       PassengerId    Survived      Pclass         Age       SibSp  \\\n",
       "count   891.000000  891.000000  891.000000  714.000000  891.000000   \n",
       "mean    446.000000    0.383838    2.308642   29.699118    0.523008   \n",
       "std     257.353842    0.486592    0.836071   14.526497    1.102743   \n",
       "min       1.000000    0.000000    1.000000    0.420000    0.000000   \n",
       "25%     223.500000    0.000000    2.000000   20.125000    0.000000   \n",
       "50%     446.000000    0.000000    3.000000   28.000000    0.000000   \n",
       "75%     668.500000    1.000000    3.000000   38.000000    1.000000   \n",
       "max     891.000000    1.000000    3.000000   80.000000    8.000000   \n",
       "\n",
       "            Parch        Fare  \n",
       "count  891.000000  891.000000  \n",
       "mean     0.381594   32.204208  \n",
       "std      0.806057   49.693429  \n",
       "min      0.000000    0.000000  \n",
       "25%      0.000000    7.910400  \n",
       "50%      0.000000   14.454200  \n",
       "75%      0.000000   31.000000  \n",
       "max      6.000000  512.329200  "
      ]
     },
     "execution_count": 8,
     "metadata": {},
     "output_type": "execute_result"
    }
   ],
   "source": [
    "train_df.describe()"
   ]
  },
  {
   "cell_type": "markdown",
   "metadata": {},
   "source": [
    "#### From the table above, we can note a few things:\n",
    "* ##### We have a few categorical variabes that need to be either converted to numerical or one-hot encoded, so that the machine learning algorithms can process them. \n",
    "* ##### The features have widely different ranges, and we will need to convert into roughly the same scale. \n",
    "* ##### Some features contain missing values (NaN = not a number), that we need to deal with."
   ]
  },
  {
   "cell_type": "markdown",
   "metadata": {},
   "source": [
    "### Missing data "
   ]
  },
  {
   "cell_type": "markdown",
   "metadata": {},
   "source": [
    "`Age` and `Embarked`"
   ]
  },
  {
   "cell_type": "code",
   "execution_count": 9,
   "metadata": {},
   "outputs": [
    {
     "data": {
      "text/html": [
       "<div>\n",
       "<style scoped>\n",
       "    .dataframe tbody tr th:only-of-type {\n",
       "        vertical-align: middle;\n",
       "    }\n",
       "\n",
       "    .dataframe tbody tr th {\n",
       "        vertical-align: top;\n",
       "    }\n",
       "\n",
       "    .dataframe thead th {\n",
       "        text-align: right;\n",
       "    }\n",
       "</style>\n",
       "<table border=\"1\" class=\"dataframe\">\n",
       "  <thead>\n",
       "    <tr style=\"text-align: right;\">\n",
       "      <th></th>\n",
       "      <th>Total</th>\n",
       "      <th>%</th>\n",
       "    </tr>\n",
       "  </thead>\n",
       "  <tbody>\n",
       "    <tr>\n",
       "      <th>Cabin</th>\n",
       "      <td>687</td>\n",
       "      <td>77.1</td>\n",
       "    </tr>\n",
       "    <tr>\n",
       "      <th>Age</th>\n",
       "      <td>177</td>\n",
       "      <td>19.9</td>\n",
       "    </tr>\n",
       "    <tr>\n",
       "      <th>Embarked</th>\n",
       "      <td>2</td>\n",
       "      <td>0.2</td>\n",
       "    </tr>\n",
       "    <tr>\n",
       "      <th>Fare</th>\n",
       "      <td>0</td>\n",
       "      <td>0.0</td>\n",
       "    </tr>\n",
       "    <tr>\n",
       "      <th>Ticket</th>\n",
       "      <td>0</td>\n",
       "      <td>0.0</td>\n",
       "    </tr>\n",
       "  </tbody>\n",
       "</table>\n",
       "</div>"
      ],
      "text/plain": [
       "          Total     %\n",
       "Cabin       687  77.1\n",
       "Age         177  19.9\n",
       "Embarked      2   0.2\n",
       "Fare          0   0.0\n",
       "Ticket        0   0.0"
      ]
     },
     "execution_count": 9,
     "metadata": {},
     "output_type": "execute_result"
    }
   ],
   "source": [
    "total = train_df.isnull().sum().sort_values(ascending=False)\n",
    "percent_1 = train_df.isnull().sum()/train_df.isnull().count()*100\n",
    "percent_2 = (round(percent_1, 1)).sort_values(ascending=False)\n",
    "missing_data = pd.concat([total, percent_2], axis=1, keys=['Total', '%'])\n",
    "missing_data.head(5)"
   ]
  },
  {
   "cell_type": "markdown",
   "metadata": {},
   "source": [
    "##### The `Embarked` feature has only 2 missing values, which can easily be filled. It will be much more tricky, to deal with the `Age` feature, which has 177 missing values. The `Cabin` feature needs further investigation, but it looks like that we might want to drop it from the dataset, since 77 % of it are missing."
   ]
  },
  {
   "cell_type": "code",
   "execution_count": 10,
   "metadata": {},
   "outputs": [
    {
     "data": {
      "text/plain": [
       "array(['PassengerId', 'Survived', 'Pclass', 'Name', 'Sex', 'Age', 'SibSp',\n",
       "       'Parch', 'Ticket', 'Fare', 'Cabin', 'Embarked'], dtype=object)"
      ]
     },
     "execution_count": 10,
     "metadata": {},
     "output_type": "execute_result"
    }
   ],
   "source": [
    "train_df.columns.values"
   ]
  },
  {
   "cell_type": "markdown",
   "metadata": {},
   "source": [
    "#### Suppress warnings from output"
   ]
  },
  {
   "cell_type": "code",
   "execution_count": 11,
   "metadata": {},
   "outputs": [
    {
     "data": {
      "text/html": [
       "<script>\n",
       "code_show_err=false; \n",
       "function code_toggle_err() {\n",
       " if (code_show_err){\n",
       " $('div.output_stderr').hide();\n",
       " } else {\n",
       " $('div.output_stderr').show();\n",
       " }\n",
       " code_show_err = !code_show_err\n",
       "} \n",
       "$( document ).ready(code_toggle_err);\n",
       "</script>\n",
       "To toggle on/off output_stderr, click <a href=\"javascript:code_toggle_err()\">here</a>."
      ],
      "text/plain": [
       "<IPython.core.display.HTML object>"
      ]
     },
     "execution_count": 11,
     "metadata": {},
     "output_type": "execute_result"
    }
   ],
   "source": [
    "from IPython.display import HTML\n",
    "HTML('''<script>\n",
    "code_show_err=false; \n",
    "function code_toggle_err() {\n",
    " if (code_show_err){\n",
    " $('div.output_stderr').hide();\n",
    " } else {\n",
    " $('div.output_stderr').show();\n",
    " }\n",
    " code_show_err = !code_show_err\n",
    "} \n",
    "$( document ).ready(code_toggle_err);\n",
    "</script>\n",
    "To toggle on/off output_stderr, click <a href=\"javascript:code_toggle_err()\">here</a>.''')"
   ]
  },
  {
   "cell_type": "markdown",
   "metadata": {},
   "source": [
    "### Q1: How many people Embarked from different ports? Is there a correlation between port of embarkment and survival? "
   ]
  },
  {
   "cell_type": "code",
   "execution_count": 12,
   "metadata": {},
   "outputs": [
    {
     "data": {
      "text/plain": [
       "S    0.722783\n",
       "C    0.188552\n",
       "Q    0.086420\n",
       "Name: Embarked, dtype: float64"
      ]
     },
     "execution_count": 12,
     "metadata": {},
     "output_type": "execute_result"
    }
   ],
   "source": [
    "train_df['Embarked'].value_counts()/len(train_df)"
   ]
  },
  {
   "cell_type": "code",
   "execution_count": 13,
   "metadata": {},
   "outputs": [
    {
     "data": {
      "image/png": "[encoded data removed]",
      "text/plain": [
       "<Figure size 432x288 with 1 Axes>"
      ]
     },
     "metadata": {},
     "output_type": "display_data"
    }
   ],
   "source": [
    "sns.set(style=\"darkgrid\")\n",
    "sns.countplot( x='Embarked', data=train_df, hue=\"Embarked\", palette=\"Set1\");"
   ]
  },
  {
   "cell_type": "code",
   "execution_count": 14,
   "metadata": {},
   "outputs": [
    {
     "data": {
      "image/png": "[encoded data removed]",
      "text/plain": [
       "<Figure size 432x288 with 1 Axes>"
      ]
     },
     "metadata": {},
     "output_type": "display_data"
    }
   ],
   "source": [
    "sns.set(style=\"darkgrid\")\n",
    "sns.countplot( x='Survived', data=train_df, hue=\"Embarked\", palette=\"Set1\");"
   ]
  },
  {
   "cell_type": "code",
   "execution_count": 15,
   "metadata": {},
   "outputs": [
    {
     "data": {
      "text/html": [
       "<div>\n",
       "<style scoped>\n",
       "    .dataframe tbody tr th:only-of-type {\n",
       "        vertical-align: middle;\n",
       "    }\n",
       "\n",
       "    .dataframe tbody tr th {\n",
       "        vertical-align: top;\n",
       "    }\n",
       "\n",
       "    .dataframe thead th {\n",
       "        text-align: right;\n",
       "    }\n",
       "</style>\n",
       "<table border=\"1\" class=\"dataframe\">\n",
       "  <thead>\n",
       "    <tr style=\"text-align: right;\">\n",
       "      <th></th>\n",
       "      <th>PassengerId</th>\n",
       "      <th>Survived</th>\n",
       "      <th>Pclass</th>\n",
       "      <th>Age</th>\n",
       "      <th>SibSp</th>\n",
       "      <th>Parch</th>\n",
       "      <th>Fare</th>\n",
       "    </tr>\n",
       "    <tr>\n",
       "      <th>Embarked</th>\n",
       "      <th></th>\n",
       "      <th></th>\n",
       "      <th></th>\n",
       "      <th></th>\n",
       "      <th></th>\n",
       "      <th></th>\n",
       "      <th></th>\n",
       "    </tr>\n",
       "  </thead>\n",
       "  <tbody>\n",
       "    <tr>\n",
       "      <th>C</th>\n",
       "      <td>445.357143</td>\n",
       "      <td>0.553571</td>\n",
       "      <td>1.886905</td>\n",
       "      <td>30.814769</td>\n",
       "      <td>0.386905</td>\n",
       "      <td>0.363095</td>\n",
       "      <td>59.954144</td>\n",
       "    </tr>\n",
       "    <tr>\n",
       "      <th>Q</th>\n",
       "      <td>417.896104</td>\n",
       "      <td>0.389610</td>\n",
       "      <td>2.909091</td>\n",
       "      <td>28.089286</td>\n",
       "      <td>0.428571</td>\n",
       "      <td>0.168831</td>\n",
       "      <td>13.276030</td>\n",
       "    </tr>\n",
       "    <tr>\n",
       "      <th>S</th>\n",
       "      <td>449.527950</td>\n",
       "      <td>0.336957</td>\n",
       "      <td>2.350932</td>\n",
       "      <td>29.445397</td>\n",
       "      <td>0.571429</td>\n",
       "      <td>0.413043</td>\n",
       "      <td>27.079812</td>\n",
       "    </tr>\n",
       "  </tbody>\n",
       "</table>\n",
       "</div>"
      ],
      "text/plain": [
       "          PassengerId  Survived    Pclass        Age     SibSp     Parch  \\\n",
       "Embarked                                                                   \n",
       "C          445.357143  0.553571  1.886905  30.814769  0.386905  0.363095   \n",
       "Q          417.896104  0.389610  2.909091  28.089286  0.428571  0.168831   \n",
       "S          449.527950  0.336957  2.350932  29.445397  0.571429  0.413043   \n",
       "\n",
       "               Fare  \n",
       "Embarked             \n",
       "C         59.954144  \n",
       "Q         13.276030  \n",
       "S         27.079812  "
      ]
     },
     "execution_count": 15,
     "metadata": {},
     "output_type": "execute_result"
    }
   ],
   "source": [
    "train_df.groupby('Embarked').mean()"
   ]
  },
  {
   "cell_type": "markdown",
   "metadata": {},
   "source": [
    "### Q2: Does survival depend upon gender?"
   ]
  },
  {
   "cell_type": "code",
   "execution_count": 16,
   "metadata": {},
   "outputs": [
    {
     "data": {
      "text/html": [
       "<div>\n",
       "<style scoped>\n",
       "    .dataframe tbody tr th:only-of-type {\n",
       "        vertical-align: middle;\n",
       "    }\n",
       "\n",
       "    .dataframe tbody tr th {\n",
       "        vertical-align: top;\n",
       "    }\n",
       "\n",
       "    .dataframe thead th {\n",
       "        text-align: right;\n",
       "    }\n",
       "</style>\n",
       "<table border=\"1\" class=\"dataframe\">\n",
       "  <thead>\n",
       "    <tr style=\"text-align: right;\">\n",
       "      <th></th>\n",
       "      <th>PassengerId</th>\n",
       "      <th>Survived</th>\n",
       "      <th>Pclass</th>\n",
       "      <th>Age</th>\n",
       "      <th>SibSp</th>\n",
       "      <th>Parch</th>\n",
       "      <th>Fare</th>\n",
       "    </tr>\n",
       "    <tr>\n",
       "      <th>Sex</th>\n",
       "      <th></th>\n",
       "      <th></th>\n",
       "      <th></th>\n",
       "      <th></th>\n",
       "      <th></th>\n",
       "      <th></th>\n",
       "      <th></th>\n",
       "    </tr>\n",
       "  </thead>\n",
       "  <tbody>\n",
       "    <tr>\n",
       "      <th>female</th>\n",
       "      <td>431.028662</td>\n",
       "      <td>0.742038</td>\n",
       "      <td>2.159236</td>\n",
       "      <td>27.915709</td>\n",
       "      <td>0.694268</td>\n",
       "      <td>0.649682</td>\n",
       "      <td>44.479818</td>\n",
       "    </tr>\n",
       "    <tr>\n",
       "      <th>male</th>\n",
       "      <td>454.147314</td>\n",
       "      <td>0.188908</td>\n",
       "      <td>2.389948</td>\n",
       "      <td>30.726645</td>\n",
       "      <td>0.429809</td>\n",
       "      <td>0.235702</td>\n",
       "      <td>25.523893</td>\n",
       "    </tr>\n",
       "  </tbody>\n",
       "</table>\n",
       "</div>"
      ],
      "text/plain": [
       "        PassengerId  Survived    Pclass        Age     SibSp     Parch  \\\n",
       "Sex                                                                      \n",
       "female   431.028662  0.742038  2.159236  27.915709  0.694268  0.649682   \n",
       "male     454.147314  0.188908  2.389948  30.726645  0.429809  0.235702   \n",
       "\n",
       "             Fare  \n",
       "Sex                \n",
       "female  44.479818  \n",
       "male    25.523893  "
      ]
     },
     "execution_count": 16,
     "metadata": {},
     "output_type": "execute_result"
    }
   ],
   "source": [
    "train_df.groupby('Sex').mean()"
   ]
  },
  {
   "cell_type": "code",
   "execution_count": 17,
   "metadata": {},
   "outputs": [
    {
     "name": "stderr",
     "output_type": "stream",
     "text": [
      "/Users/ryan/anaconda3/envs/py36-pytext/lib/python3.6/site-packages/seaborn/axisgrid.py:230: UserWarning: The `size` paramter has been renamed to `height`; please update your code.\n",
      "  warnings.warn(msg, UserWarning)\n",
      "/Users/ryan/anaconda3/envs/py36-pytext/lib/python3.6/site-packages/scipy/stats/stats.py:1713: FutureWarning: Using a non-tuple sequence for multidimensional indexing is deprecated; use `arr[tuple(seq)]` instead of `arr[seq]`. In the future this will be interpreted as an array index, `arr[np.array(seq)]`, which will result either in an error or a different result.\n",
      "  return np.add.reduce(sorted[indexer] * weights, axis=axis) / sumval\n"
     ]
    },
    {
     "data": {
      "image/png": "[encoded data removed]",
      "text/plain": [
       "<Figure size 591.25x972 with 3 Axes>"
      ]
     },
     "metadata": {},
     "output_type": "display_data"
    }
   ],
   "source": [
    "FacetGrid = sns.FacetGrid(train_df, row='Embarked', size=4.5, aspect=1.6)\n",
    "FacetGrid.map(sns.pointplot, 'Pclass', 'Survived', 'Sex', order=None, hue_order=None )\n",
    "FacetGrid.add_legend();"
   ]
  },
  {
   "cell_type": "markdown",
   "metadata": {},
   "source": [
    "* ##### Embarked seems to be correlated with survival, depending on the gender.\n",
    "\n",
    "* ##### Women on port Q and on port S have a higher chance of survival. The inverse is true, if they are at port C. Men have a high survival probability if they are on port C, but a low probability if they are on port Q or S.\n",
    "\n",
    "* ##### Pclass also seems to be correlated with survival. We will generate another plot of it below."
   ]
  },
  {
   "cell_type": "code",
   "execution_count": 18,
   "metadata": {},
   "outputs": [
    {
     "data": {
      "image/png": "[encoded data removed]",
      "text/plain": [
       "<Figure size 1152x576 with 2 Axes>"
      ]
     },
     "metadata": {},
     "output_type": "display_data"
    }
   ],
   "source": [
    "survived = 'survived'\n",
    "not_survived = 'not survived'\n",
    "fig, axes = plt.subplots(nrows=1, ncols=2,figsize=(16, 8))\n",
    "women = train_df[train_df['Sex']=='female']\n",
    "men = train_df[train_df['Sex']=='male']\n",
    "ax = sns.distplot(women[women['Survived']==1].Age.dropna(), bins=18, label = survived, ax = axes[0], kde =False, color=\"green\")\n",
    "ax = sns.distplot(women[women['Survived']==0].Age.dropna(), bins=40, label = not_survived, ax = axes[0], kde =False, color=\"red\")\n",
    "ax.legend()\n",
    "ax.set_title('Female')\n",
    "ax = sns.distplot(men[men['Survived']==1].Age.dropna(), bins=18, label = survived, ax = axes[1], kde = False, color=\"green\")\n",
    "ax = sns.distplot(men[men['Survived']==0].Age.dropna(), bins=40, label = not_survived, ax = axes[1], kde = False, color=\"red\")\n",
    "ax.legend()\n",
    "_ = ax.set_title('Male');"
   ]
  },
  {
   "cell_type": "markdown",
   "metadata": {},
   "source": [
    "* ##### You can see that men have a high probability of survival when they are between 18 and 30 years old, which is also a little bit true for women but not fully. For women the survival chances are higher between 14 and 40.\n",
    "\n",
    "* ##### For men the probability of survival is very low between the age of 5 and 18, but that isn’t true for women. Another thing to note is that infants also have a little bit higher probability of survival.\n",
    "\n",
    "* ##### Since there seem to be certain ages, which have increased odds of survival and because I want every feature to be roughly on the same scale, I will create age groups later on."
   ]
  },
  {
   "cell_type": "markdown",
   "metadata": {},
   "source": [
    "#### Pclass"
   ]
  },
  {
   "cell_type": "code",
   "execution_count": 19,
   "metadata": {},
   "outputs": [
    {
     "data": {
      "image/png": "[encoded data removed]",
      "text/plain": [
       "<Figure size 432x288 with 1 Axes>"
      ]
     },
     "metadata": {},
     "output_type": "display_data"
    }
   ],
   "source": [
    "sns.barplot(x='Pclass', y='Survived', data=train_df);"
   ]
  },
  {
   "cell_type": "markdown",
   "metadata": {},
   "source": [
    "##### Here we see clearly, that Pclass is contributing to a persons chance of survival, especially if this person is in class 1. We will create another pclass plot below."
   ]
  },
  {
   "cell_type": "code",
   "execution_count": 20,
   "metadata": {},
   "outputs": [
    {
     "name": "stderr",
     "output_type": "stream",
     "text": [
      "/Users/ryan/anaconda3/envs/py36-pytext/lib/python3.6/site-packages/seaborn/axisgrid.py:230: UserWarning: The `size` paramter has been renamed to `height`; please update your code.\n",
      "  warnings.warn(msg, UserWarning)\n"
     ]
    },
    {
     "data": {
      "image/png": "[encoded data removed]",
      "text/plain": [
       "<Figure size 746.08x691.2 with 6 Axes>"
      ]
     },
     "metadata": {},
     "output_type": "display_data"
    }
   ],
   "source": [
    "grid = sns.FacetGrid(train_df, col='Survived', row='Pclass', size=3.2, aspect=1.6)\n",
    "grid.map(plt.hist, 'Age', alpha=.5, bins=20)\n",
    "grid.add_legend();"
   ]
  },
  {
   "cell_type": "markdown",
   "metadata": {},
   "source": [
    "##### The plot above confirms our assumption about pclass 1, but we can also spot a high probability that a person in pclass 3 will not survive."
   ]
  },
  {
   "cell_type": "markdown",
   "metadata": {},
   "source": [
    "#### `SibSp` and `Parch`"
   ]
  },
  {
   "cell_type": "markdown",
   "metadata": {},
   "source": [
    "##### SibSp and Parch would make more sense as a combined feature, that shows the total number of relatives, a person has on the Titanic. I will create it below and also a feature that sows if someone is not alone."
   ]
  },
  {
   "cell_type": "code",
   "execution_count": 21,
   "metadata": {},
   "outputs": [
    {
     "data": {
      "text/plain": [
       "Yes    537\n",
       "No     354\n",
       "Name: travelled_alone, dtype: int64"
      ]
     },
     "execution_count": 21,
     "metadata": {},
     "output_type": "execute_result"
    }
   ],
   "source": [
    "data = [train_df, test_df]\n",
    "for dataset in data:\n",
    "    dataset['relatives'] = dataset['SibSp'] + dataset['Parch']\n",
    "    dataset.loc[dataset['relatives'] > 0, 'travelled_alone'] = 'No'\n",
    "    dataset.loc[dataset['relatives'] == 0, 'travelled_alone'] = 'Yes'\n",
    "    #dataset['travelled_alone'] = dataset['travelled_alone'].astype(int)\n",
    "train_df['travelled_alone'].value_counts()"
   ]
  },
  {
   "cell_type": "code",
   "execution_count": 22,
   "metadata": {},
   "outputs": [
    {
     "data": {
      "text/plain": [
       "Yes    253\n",
       "No     165\n",
       "Name: travelled_alone, dtype: int64"
      ]
     },
     "execution_count": 22,
     "metadata": {},
     "output_type": "execute_result"
    }
   ],
   "source": [
    "test_df['travelled_alone'].value_counts()"
   ]
  },
  {
   "cell_type": "code",
   "execution_count": 23,
   "metadata": {},
   "outputs": [
    {
     "data": {
      "text/plain": [
       "0     537\n",
       "1     161\n",
       "2     102\n",
       "3      29\n",
       "5      22\n",
       "4      15\n",
       "6      12\n",
       "10      7\n",
       "7       6\n",
       "Name: relatives, dtype: int64"
      ]
     },
     "execution_count": 23,
     "metadata": {},
     "output_type": "execute_result"
    }
   ],
   "source": [
    "train_df['relatives'].value_counts()"
   ]
  },
  {
   "cell_type": "markdown",
   "metadata": {},
   "source": [
    "### Q3: Do the passengers have better chance at survival while travelling alone?"
   ]
  },
  {
   "cell_type": "code",
   "execution_count": 24,
   "metadata": {},
   "outputs": [
    {
     "name": "stderr",
     "output_type": "stream",
     "text": [
      "/Users/ryan/anaconda3/envs/py36-pytext/lib/python3.6/site-packages/seaborn/categorical.py:3666: UserWarning: The `factorplot` function has been renamed to `catplot`. The original name will be removed in a future release. Please update your code. Note that the default `kind` in `factorplot` (`'point'`) has changed `'strip'` in `catplot`.\n",
      "  warnings.warn(msg)\n"
     ]
    },
    {
     "data": {
      "image/png": "[encoded data removed]",
      "text/plain": [
       "<Figure size 900x360 with 1 Axes>"
      ]
     },
     "metadata": {},
     "output_type": "display_data"
    }
   ],
   "source": [
    "axes = sns.factorplot('relatives','Survived', \n",
    "                      data=train_df, aspect = 2.5, );"
   ]
  },
  {
   "cell_type": "markdown",
   "metadata": {},
   "source": [
    "##### Here we can see that you had a high probabilty of survival with 1 to 3 realitves, but a lower one if you had less than 1 or more than 3 (except for some cases with 6 relatives)."
   ]
  },
  {
   "cell_type": "markdown",
   "metadata": {},
   "source": [
    "### Data Preprocessing"
   ]
  },
  {
   "cell_type": "code",
   "execution_count": 25,
   "metadata": {},
   "outputs": [],
   "source": [
    "# Drop 'PassengerId' from the train set, because it does not contribute to a persons survival probability.\n",
    "train_df = train_df.drop(['PassengerId'], axis=1)"
   ]
  },
  {
   "cell_type": "markdown",
   "metadata": {},
   "source": [
    "#### Missing Data"
   ]
  },
  {
   "cell_type": "markdown",
   "metadata": {},
   "source": [
    "#### Cabin:\n",
    "##### Cabin number looks like ‘C23’ and the letter refers to the deck. We will extract these and create a new feature, to represent a persons deck. "
   ]
  },
  {
   "cell_type": "code",
   "execution_count": 26,
   "metadata": {},
   "outputs": [
    {
     "data": {
      "text/plain": [
       "count         204\n",
       "unique        147\n",
       "top       B96 B98\n",
       "freq            4\n",
       "Name: Cabin, dtype: object"
      ]
     },
     "execution_count": 26,
     "metadata": {},
     "output_type": "execute_result"
    }
   ],
   "source": [
    "train_df['Cabin'].describe()"
   ]
  },
  {
   "cell_type": "code",
   "execution_count": 27,
   "metadata": {},
   "outputs": [],
   "source": [
    "import re\n",
    "deck = {\"A\": \"A\", \"B\": \"B\", \"C\": \"C\", \"D\": \"D\", \"E\": \"E\", \"F\": \"F\", \"G\": \"G\", \"U\": \"U\"}\n",
    "data = [train_df, test_df]\n",
    "\n",
    "for dataset in data:\n",
    "    dataset['Cabin'] = dataset['Cabin'].fillna(\"U0\")\n",
    "    dataset['Deck'] = dataset['Cabin'].map(lambda x: re.compile(\"([a-zA-Z]+)\").search(x).group())\n",
    "    dataset['Deck'] = dataset['Deck'].map(deck)\n",
    "    dataset['Deck'] = dataset['Deck'].fillna(\"U\")\n",
    "    #dataset['Deck'] = dataset['Deck'].astype(int)\n",
    "# we can now drop the cabin feature\n",
    "train_df = train_df.drop(['Cabin'], axis=1)\n",
    "test_df = test_df.drop(['Cabin'], axis=1)"
   ]
  },
  {
   "cell_type": "code",
   "execution_count": 28,
   "metadata": {},
   "outputs": [
    {
     "data": {
      "text/plain": [
       "U    688\n",
       "C     59\n",
       "B     47\n",
       "D     33\n",
       "E     32\n",
       "A     15\n",
       "F     13\n",
       "G      4\n",
       "Name: Deck, dtype: int64"
      ]
     },
     "execution_count": 28,
     "metadata": {},
     "output_type": "execute_result"
    }
   ],
   "source": [
    "train_df['Deck'].value_counts()"
   ]
  },
  {
   "cell_type": "code",
   "execution_count": 29,
   "metadata": {},
   "outputs": [
    {
     "data": {
      "text/html": [
       "<div>\n",
       "<style scoped>\n",
       "    .dataframe tbody tr th:only-of-type {\n",
       "        vertical-align: middle;\n",
       "    }\n",
       "\n",
       "    .dataframe tbody tr th {\n",
       "        vertical-align: top;\n",
       "    }\n",
       "\n",
       "    .dataframe thead th {\n",
       "        text-align: right;\n",
       "    }\n",
       "</style>\n",
       "<table border=\"1\" class=\"dataframe\">\n",
       "  <thead>\n",
       "    <tr style=\"text-align: right;\">\n",
       "      <th></th>\n",
       "      <th>Survived</th>\n",
       "      <th>Pclass</th>\n",
       "      <th>Age</th>\n",
       "      <th>SibSp</th>\n",
       "      <th>Parch</th>\n",
       "      <th>Fare</th>\n",
       "      <th>relatives</th>\n",
       "    </tr>\n",
       "    <tr>\n",
       "      <th>Deck</th>\n",
       "      <th></th>\n",
       "      <th></th>\n",
       "      <th></th>\n",
       "      <th></th>\n",
       "      <th></th>\n",
       "      <th></th>\n",
       "      <th></th>\n",
       "    </tr>\n",
       "  </thead>\n",
       "  <tbody>\n",
       "    <tr>\n",
       "      <th>A</th>\n",
       "      <td>0.466667</td>\n",
       "      <td>1.000000</td>\n",
       "      <td>44.833333</td>\n",
       "      <td>0.133333</td>\n",
       "      <td>0.133333</td>\n",
       "      <td>39.623887</td>\n",
       "      <td>0.266667</td>\n",
       "    </tr>\n",
       "    <tr>\n",
       "      <th>B</th>\n",
       "      <td>0.744681</td>\n",
       "      <td>1.000000</td>\n",
       "      <td>34.955556</td>\n",
       "      <td>0.361702</td>\n",
       "      <td>0.574468</td>\n",
       "      <td>113.505764</td>\n",
       "      <td>0.936170</td>\n",
       "    </tr>\n",
       "    <tr>\n",
       "      <th>C</th>\n",
       "      <td>0.593220</td>\n",
       "      <td>1.000000</td>\n",
       "      <td>36.086667</td>\n",
       "      <td>0.644068</td>\n",
       "      <td>0.474576</td>\n",
       "      <td>100.151341</td>\n",
       "      <td>1.118644</td>\n",
       "    </tr>\n",
       "    <tr>\n",
       "      <th>D</th>\n",
       "      <td>0.757576</td>\n",
       "      <td>1.121212</td>\n",
       "      <td>39.032258</td>\n",
       "      <td>0.424242</td>\n",
       "      <td>0.303030</td>\n",
       "      <td>57.244576</td>\n",
       "      <td>0.727273</td>\n",
       "    </tr>\n",
       "    <tr>\n",
       "      <th>E</th>\n",
       "      <td>0.750000</td>\n",
       "      <td>1.312500</td>\n",
       "      <td>38.116667</td>\n",
       "      <td>0.312500</td>\n",
       "      <td>0.312500</td>\n",
       "      <td>46.026694</td>\n",
       "      <td>0.625000</td>\n",
       "    </tr>\n",
       "    <tr>\n",
       "      <th>F</th>\n",
       "      <td>0.615385</td>\n",
       "      <td>2.384615</td>\n",
       "      <td>19.954545</td>\n",
       "      <td>0.538462</td>\n",
       "      <td>0.538462</td>\n",
       "      <td>18.696792</td>\n",
       "      <td>1.076923</td>\n",
       "    </tr>\n",
       "    <tr>\n",
       "      <th>G</th>\n",
       "      <td>0.500000</td>\n",
       "      <td>3.000000</td>\n",
       "      <td>14.750000</td>\n",
       "      <td>0.500000</td>\n",
       "      <td>1.250000</td>\n",
       "      <td>13.581250</td>\n",
       "      <td>1.750000</td>\n",
       "    </tr>\n",
       "    <tr>\n",
       "      <th>U</th>\n",
       "      <td>0.299419</td>\n",
       "      <td>2.636628</td>\n",
       "      <td>27.588208</td>\n",
       "      <td>0.546512</td>\n",
       "      <td>0.364826</td>\n",
       "      <td>19.181079</td>\n",
       "      <td>0.911337</td>\n",
       "    </tr>\n",
       "  </tbody>\n",
       "</table>\n",
       "</div>"
      ],
      "text/plain": [
       "      Survived    Pclass        Age     SibSp     Parch        Fare  relatives\n",
       "Deck                                                                          \n",
       "A     0.466667  1.000000  44.833333  0.133333  0.133333   39.623887   0.266667\n",
       "B     0.744681  1.000000  34.955556  0.361702  0.574468  113.505764   0.936170\n",
       "C     0.593220  1.000000  36.086667  0.644068  0.474576  100.151341   1.118644\n",
       "D     0.757576  1.121212  39.032258  0.424242  0.303030   57.244576   0.727273\n",
       "E     0.750000  1.312500  38.116667  0.312500  0.312500   46.026694   0.625000\n",
       "F     0.615385  2.384615  19.954545  0.538462  0.538462   18.696792   1.076923\n",
       "G     0.500000  3.000000  14.750000  0.500000  1.250000   13.581250   1.750000\n",
       "U     0.299419  2.636628  27.588208  0.546512  0.364826   19.181079   0.911337"
      ]
     },
     "execution_count": 29,
     "metadata": {},
     "output_type": "execute_result"
    }
   ],
   "source": [
    "train_df.groupby('Deck').mean()"
   ]
  },
  {
   "cell_type": "code",
   "execution_count": 30,
   "metadata": {},
   "outputs": [
    {
     "data": {
      "text/plain": [
       "U    327\n",
       "C     35\n",
       "B     18\n",
       "D     13\n",
       "E      9\n",
       "F      8\n",
       "A      7\n",
       "G      1\n",
       "Name: Deck, dtype: int64"
      ]
     },
     "execution_count": 30,
     "metadata": {},
     "output_type": "execute_result"
    }
   ],
   "source": [
    "test_df['Deck'].value_counts()"
   ]
  },
  {
   "cell_type": "markdown",
   "metadata": {},
   "source": [
    "#### Age:\n",
    "##### Fill null values with random numbers, which are computed based on the mean age value in regards to the standard deviation."
   ]
  },
  {
   "cell_type": "code",
   "execution_count": 31,
   "metadata": {},
   "outputs": [],
   "source": [
    "data = [train_df, test_df]\n",
    "\n",
    "for dataset in data:\n",
    "    mean = train_df[\"Age\"].mean()\n",
    "    std = test_df[\"Age\"].std()\n",
    "    is_null = dataset[\"Age\"].isnull().sum()\n",
    "    # compute random numbers between the mean, std and is_null\n",
    "    rand_age = np.random.randint(mean - std, mean + std, size = is_null)\n",
    "    # fill NaN values in Age column with random values generated\n",
    "    age_slice = dataset[\"Age\"].copy()\n",
    "    age_slice[np.isnan(age_slice)] = rand_age\n",
    "    dataset[\"Age\"] = age_slice\n",
    "    dataset[\"Age\"] = train_df[\"Age\"].astype(int)"
   ]
  },
  {
   "cell_type": "code",
   "execution_count": 32,
   "metadata": {},
   "outputs": [
    {
     "data": {
      "text/plain": [
       "0"
      ]
     },
     "execution_count": 32,
     "metadata": {},
     "output_type": "execute_result"
    }
   ],
   "source": [
    "train_df[\"Age\"].isnull().sum()"
   ]
  },
  {
   "cell_type": "code",
   "execution_count": 33,
   "metadata": {},
   "outputs": [
    {
     "data": {
      "text/plain": [
       "0"
      ]
     },
     "execution_count": 33,
     "metadata": {},
     "output_type": "execute_result"
    }
   ],
   "source": [
    "test_df[\"Age\"].isnull().sum()"
   ]
  },
  {
   "cell_type": "code",
   "execution_count": 34,
   "metadata": {},
   "outputs": [
    {
     "data": {
      "text/plain": [
       "count    891.000000\n",
       "mean      29.355780\n",
       "std       13.536809\n",
       "min        0.000000\n",
       "25%       20.000000\n",
       "50%       28.000000\n",
       "75%       37.000000\n",
       "max       80.000000\n",
       "Name: Age, dtype: float64"
      ]
     },
     "execution_count": 34,
     "metadata": {},
     "output_type": "execute_result"
    }
   ],
   "source": [
    "train_df[\"Age\"].describe()"
   ]
  },
  {
   "cell_type": "code",
   "execution_count": null,
   "metadata": {},
   "outputs": [],
   "source": [
    "#train_df.groupby('Age').mean()"
   ]
  },
  {
   "cell_type": "markdown",
   "metadata": {},
   "source": [
    "#### Embarked:"
   ]
  },
  {
   "cell_type": "code",
   "execution_count": 35,
   "metadata": {},
   "outputs": [
    {
     "data": {
      "text/plain": [
       "count     889\n",
       "unique      3\n",
       "top         S\n",
       "freq      644\n",
       "Name: Embarked, dtype: object"
      ]
     },
     "execution_count": 35,
     "metadata": {},
     "output_type": "execute_result"
    }
   ],
   "source": [
    "train_df['Embarked'].describe()"
   ]
  },
  {
   "cell_type": "code",
   "execution_count": 36,
   "metadata": {},
   "outputs": [
    {
     "data": {
      "text/plain": [
       "0    S\n",
       "dtype: object"
      ]
     },
     "execution_count": 36,
     "metadata": {},
     "output_type": "execute_result"
    }
   ],
   "source": [
    "train_df['Embarked'].mode()"
   ]
  },
  {
   "cell_type": "code",
   "execution_count": 37,
   "metadata": {},
   "outputs": [],
   "source": [
    "#common_value = train_df['Embarked'].mode()\n",
    "#common_value"
   ]
  },
  {
   "cell_type": "code",
   "execution_count": 38,
   "metadata": {},
   "outputs": [],
   "source": [
    "common_value = 'S'\n",
    "data = [train_df, test_df]\n",
    "\n",
    "for dataset in data:\n",
    "    dataset['Embarked'] = dataset['Embarked'].fillna(common_value)"
   ]
  },
  {
   "cell_type": "code",
   "execution_count": 39,
   "metadata": {},
   "outputs": [
    {
     "data": {
      "text/plain": [
       "count     418\n",
       "unique      3\n",
       "top         S\n",
       "freq      270\n",
       "Name: Embarked, dtype: object"
      ]
     },
     "execution_count": 39,
     "metadata": {},
     "output_type": "execute_result"
    }
   ],
   "source": [
    "test_df['Embarked'].describe()"
   ]
  },
  {
   "cell_type": "markdown",
   "metadata": {},
   "source": [
    "### Converting Features"
   ]
  },
  {
   "cell_type": "markdown",
   "metadata": {},
   "source": [
    "#### Fare: Convert from float to int"
   ]
  },
  {
   "cell_type": "code",
   "execution_count": 40,
   "metadata": {},
   "outputs": [],
   "source": [
    "data = [train_df, test_df]\n",
    "\n",
    "for dataset in data:\n",
    "    dataset['Fare'] = dataset['Fare'].fillna(0)\n",
    "    dataset['Fare'] = dataset['Fare'].astype(int)"
   ]
  },
  {
   "cell_type": "code",
   "execution_count": 41,
   "metadata": {},
   "outputs": [
    {
     "data": {
      "text/plain": [
       "count    891.000000\n",
       "mean      31.785634\n",
       "std       49.703730\n",
       "min        0.000000\n",
       "25%        7.000000\n",
       "50%       14.000000\n",
       "75%       31.000000\n",
       "max      512.000000\n",
       "Name: Fare, dtype: float64"
      ]
     },
     "execution_count": 41,
     "metadata": {},
     "output_type": "execute_result"
    }
   ],
   "source": [
    "train_df['Fare'].describe()"
   ]
  },
  {
   "cell_type": "code",
   "execution_count": 42,
   "metadata": {},
   "outputs": [
    {
     "data": {
      "text/plain": [
       "0"
      ]
     },
     "execution_count": 42,
     "metadata": {},
     "output_type": "execute_result"
    }
   ],
   "source": [
    "train_df['Fare'].isnull().sum()"
   ]
  },
  {
   "cell_type": "code",
   "execution_count": 43,
   "metadata": {},
   "outputs": [
    {
     "data": {
      "text/plain": [
       "count    418.000000\n",
       "mean      35.100478\n",
       "std       55.872752\n",
       "min        0.000000\n",
       "25%        7.000000\n",
       "50%       14.000000\n",
       "75%       31.000000\n",
       "max      512.000000\n",
       "Name: Fare, dtype: float64"
      ]
     },
     "execution_count": 43,
     "metadata": {},
     "output_type": "execute_result"
    }
   ],
   "source": [
    "test_df['Fare'].describe()"
   ]
  },
  {
   "cell_type": "code",
   "execution_count": 44,
   "metadata": {},
   "outputs": [
    {
     "data": {
      "text/plain": [
       "0"
      ]
     },
     "execution_count": 44,
     "metadata": {},
     "output_type": "execute_result"
    }
   ],
   "source": [
    "test_df['Fare'].isnull().sum()"
   ]
  },
  {
   "cell_type": "code",
   "execution_count": 45,
   "metadata": {},
   "outputs": [],
   "source": [
    "train_df['Fare'] = train_df['Fare'].astype(int)"
   ]
  },
  {
   "cell_type": "code",
   "execution_count": 46,
   "metadata": {},
   "outputs": [],
   "source": [
    "test_df['Fare'] = test_df['Fare'].astype(int)"
   ]
  },
  {
   "cell_type": "markdown",
   "metadata": {},
   "source": [
    "#### Name: Extract titles from name and build a new feature from that"
   ]
  },
  {
   "cell_type": "code",
   "execution_count": 47,
   "metadata": {},
   "outputs": [
    {
     "data": {
      "text/plain": [
       "pandas.core.series.Series"
      ]
     },
     "execution_count": 47,
     "metadata": {},
     "output_type": "execute_result"
    }
   ],
   "source": [
    "train_titles = train_df.Name.str.extract(' ([A-Za-z]+)\\.', expand=False)\n",
    "type(train_titles)"
   ]
  },
  {
   "cell_type": "code",
   "execution_count": 48,
   "metadata": {},
   "outputs": [
    {
     "data": {
      "text/plain": [
       "Mr          517\n",
       "Miss        182\n",
       "Mrs         125\n",
       "Master       40\n",
       "Dr            7\n",
       "Rev           6\n",
       "Col           2\n",
       "Major         2\n",
       "Mlle          2\n",
       "Jonkheer      1\n",
       "Sir           1\n",
       "Countess      1\n",
       "Capt          1\n",
       "Ms            1\n",
       "Mme           1\n",
       "Don           1\n",
       "Lady          1\n",
       "Name: Name, dtype: int64"
      ]
     },
     "execution_count": 48,
     "metadata": {},
     "output_type": "execute_result"
    }
   ],
   "source": [
    "train_titles.value_counts()"
   ]
  },
  {
   "cell_type": "code",
   "execution_count": 49,
   "metadata": {},
   "outputs": [],
   "source": [
    "data = [train_df, test_df]\n",
    "titles = {\"Mr\": 1, \"Miss\": 2, \"Mrs\": 3, \"Master\": 4, \"Rare\": 5}\n",
    "\n",
    "for dataset in data:\n",
    "    # extract titles\n",
    "    dataset['Title'] = dataset.Name.str.extract(' ([A-Za-z]+)\\.', expand=False)\n",
    "    # replace titles with a more common title or as Rare\n",
    "    dataset['Title'] = dataset['Title'].replace(['Lady', 'Countess','Capt', 'Col','Don', 'Dr',\\\n",
    "                                            'Major', 'Rev', 'Sir', 'Jonkheer', 'Dona'], 'Rare')\n",
    "    dataset['Title'] = dataset['Title'].replace('Mlle', 'Miss')\n",
    "    dataset['Title'] = dataset['Title'].replace('Ms', 'Miss')\n",
    "    dataset['Title'] = dataset['Title'].replace('Mme', 'Mrs')\n",
    "    # convert titles into numbers\n",
    "    #dataset['Title'] = dataset['Title'].map(titles)\n",
    "    # filling NaN with 0, to get safe\n",
    "    dataset['Title'] = dataset['Title'].fillna(\"NA\")\n",
    "train_df = train_df.drop(['Name'], axis=1)\n",
    "test_df = test_df.drop(['Name'], axis=1)"
   ]
  },
  {
   "cell_type": "code",
   "execution_count": 50,
   "metadata": {},
   "outputs": [
    {
     "data": {
      "text/html": [
       "<div>\n",
       "<style scoped>\n",
       "    .dataframe tbody tr th:only-of-type {\n",
       "        vertical-align: middle;\n",
       "    }\n",
       "\n",
       "    .dataframe tbody tr th {\n",
       "        vertical-align: top;\n",
       "    }\n",
       "\n",
       "    .dataframe thead th {\n",
       "        text-align: right;\n",
       "    }\n",
       "</style>\n",
       "<table border=\"1\" class=\"dataframe\">\n",
       "  <thead>\n",
       "    <tr style=\"text-align: right;\">\n",
       "      <th></th>\n",
       "      <th>Survived</th>\n",
       "      <th>Pclass</th>\n",
       "      <th>Age</th>\n",
       "      <th>SibSp</th>\n",
       "      <th>Parch</th>\n",
       "      <th>Fare</th>\n",
       "      <th>relatives</th>\n",
       "    </tr>\n",
       "    <tr>\n",
       "      <th>Title</th>\n",
       "      <th></th>\n",
       "      <th></th>\n",
       "      <th></th>\n",
       "      <th></th>\n",
       "      <th></th>\n",
       "      <th></th>\n",
       "      <th></th>\n",
       "    </tr>\n",
       "  </thead>\n",
       "  <tbody>\n",
       "    <tr>\n",
       "      <th>Master</th>\n",
       "      <td>0.575000</td>\n",
       "      <td>2.625000</td>\n",
       "      <td>7.400000</td>\n",
       "      <td>2.300000</td>\n",
       "      <td>1.375000</td>\n",
       "      <td>34.250000</td>\n",
       "      <td>3.675000</td>\n",
       "    </tr>\n",
       "    <tr>\n",
       "      <th>Miss</th>\n",
       "      <td>0.702703</td>\n",
       "      <td>2.291892</td>\n",
       "      <td>23.070270</td>\n",
       "      <td>0.702703</td>\n",
       "      <td>0.540541</td>\n",
       "      <td>43.340541</td>\n",
       "      <td>1.243243</td>\n",
       "    </tr>\n",
       "    <tr>\n",
       "      <th>Mr</th>\n",
       "      <td>0.156673</td>\n",
       "      <td>2.410058</td>\n",
       "      <td>31.251451</td>\n",
       "      <td>0.288201</td>\n",
       "      <td>0.152805</td>\n",
       "      <td>24.021277</td>\n",
       "      <td>0.441006</td>\n",
       "    </tr>\n",
       "    <tr>\n",
       "      <th>Mrs</th>\n",
       "      <td>0.793651</td>\n",
       "      <td>1.992063</td>\n",
       "      <td>34.865079</td>\n",
       "      <td>0.690476</td>\n",
       "      <td>0.825397</td>\n",
       "      <td>44.984127</td>\n",
       "      <td>1.515873</td>\n",
       "    </tr>\n",
       "    <tr>\n",
       "      <th>Rare</th>\n",
       "      <td>0.347826</td>\n",
       "      <td>1.347826</td>\n",
       "      <td>45.304348</td>\n",
       "      <td>0.347826</td>\n",
       "      <td>0.086957</td>\n",
       "      <td>36.782609</td>\n",
       "      <td>0.434783</td>\n",
       "    </tr>\n",
       "  </tbody>\n",
       "</table>\n",
       "</div>"
      ],
      "text/plain": [
       "        Survived    Pclass        Age     SibSp     Parch       Fare  \\\n",
       "Title                                                                  \n",
       "Master  0.575000  2.625000   7.400000  2.300000  1.375000  34.250000   \n",
       "Miss    0.702703  2.291892  23.070270  0.702703  0.540541  43.340541   \n",
       "Mr      0.156673  2.410058  31.251451  0.288201  0.152805  24.021277   \n",
       "Mrs     0.793651  1.992063  34.865079  0.690476  0.825397  44.984127   \n",
       "Rare    0.347826  1.347826  45.304348  0.347826  0.086957  36.782609   \n",
       "\n",
       "        relatives  \n",
       "Title              \n",
       "Master   3.675000  \n",
       "Miss     1.243243  \n",
       "Mr       0.441006  \n",
       "Mrs      1.515873  \n",
       "Rare     0.434783  "
      ]
     },
     "execution_count": 50,
     "metadata": {},
     "output_type": "execute_result"
    }
   ],
   "source": [
    "train_df.groupby(['Title']).mean()"
   ]
  },
  {
   "cell_type": "code",
   "execution_count": 51,
   "metadata": {},
   "outputs": [
    {
     "data": {
      "text/html": [
       "<div>\n",
       "<style scoped>\n",
       "    .dataframe tbody tr th:only-of-type {\n",
       "        vertical-align: middle;\n",
       "    }\n",
       "\n",
       "    .dataframe tbody tr th {\n",
       "        vertical-align: top;\n",
       "    }\n",
       "\n",
       "    .dataframe thead th {\n",
       "        text-align: right;\n",
       "    }\n",
       "</style>\n",
       "<table border=\"1\" class=\"dataframe\">\n",
       "  <thead>\n",
       "    <tr style=\"text-align: right;\">\n",
       "      <th></th>\n",
       "      <th>PassengerId</th>\n",
       "      <th>Pclass</th>\n",
       "      <th>Age</th>\n",
       "      <th>SibSp</th>\n",
       "      <th>Parch</th>\n",
       "      <th>Fare</th>\n",
       "      <th>relatives</th>\n",
       "    </tr>\n",
       "    <tr>\n",
       "      <th>Title</th>\n",
       "      <th></th>\n",
       "      <th></th>\n",
       "      <th></th>\n",
       "      <th></th>\n",
       "      <th></th>\n",
       "      <th></th>\n",
       "      <th></th>\n",
       "    </tr>\n",
       "  </thead>\n",
       "  <tbody>\n",
       "    <tr>\n",
       "      <th>Master</th>\n",
       "      <td>1123.380952</td>\n",
       "      <td>2.714286</td>\n",
       "      <td>28.238095</td>\n",
       "      <td>1.571429</td>\n",
       "      <td>1.380952</td>\n",
       "      <td>38.142857</td>\n",
       "      <td>2.952381</td>\n",
       "    </tr>\n",
       "    <tr>\n",
       "      <th>Miss</th>\n",
       "      <td>1100.240506</td>\n",
       "      <td>2.443038</td>\n",
       "      <td>28.607595</td>\n",
       "      <td>0.544304</td>\n",
       "      <td>0.392405</td>\n",
       "      <td>39.139241</td>\n",
       "      <td>0.936709</td>\n",
       "    </tr>\n",
       "    <tr>\n",
       "      <th>Mr</th>\n",
       "      <td>1101.279167</td>\n",
       "      <td>2.320833</td>\n",
       "      <td>28.433333</td>\n",
       "      <td>0.270833</td>\n",
       "      <td>0.175000</td>\n",
       "      <td>25.016667</td>\n",
       "      <td>0.445833</td>\n",
       "    </tr>\n",
       "    <tr>\n",
       "      <th>Mrs</th>\n",
       "      <td>1090.097222</td>\n",
       "      <td>1.833333</td>\n",
       "      <td>29.277778</td>\n",
       "      <td>0.597222</td>\n",
       "      <td>0.833333</td>\n",
       "      <td>59.611111</td>\n",
       "      <td>1.430556</td>\n",
       "    </tr>\n",
       "    <tr>\n",
       "      <th>Rare</th>\n",
       "      <td>1117.500000</td>\n",
       "      <td>1.333333</td>\n",
       "      <td>27.500000</td>\n",
       "      <td>0.500000</td>\n",
       "      <td>0.333333</td>\n",
       "      <td>80.500000</td>\n",
       "      <td>0.833333</td>\n",
       "    </tr>\n",
       "  </tbody>\n",
       "</table>\n",
       "</div>"
      ],
      "text/plain": [
       "        PassengerId    Pclass        Age     SibSp     Parch       Fare  \\\n",
       "Title                                                                     \n",
       "Master  1123.380952  2.714286  28.238095  1.571429  1.380952  38.142857   \n",
       "Miss    1100.240506  2.443038  28.607595  0.544304  0.392405  39.139241   \n",
       "Mr      1101.279167  2.320833  28.433333  0.270833  0.175000  25.016667   \n",
       "Mrs     1090.097222  1.833333  29.277778  0.597222  0.833333  59.611111   \n",
       "Rare    1117.500000  1.333333  27.500000  0.500000  0.333333  80.500000   \n",
       "\n",
       "        relatives  \n",
       "Title              \n",
       "Master   2.952381  \n",
       "Miss     0.936709  \n",
       "Mr       0.445833  \n",
       "Mrs      1.430556  \n",
       "Rare     0.833333  "
      ]
     },
     "execution_count": 51,
     "metadata": {},
     "output_type": "execute_result"
    }
   ],
   "source": [
    "test_df.groupby(['Title']).mean()"
   ]
  },
  {
   "cell_type": "markdown",
   "metadata": {},
   "source": [
    "#### Sex: Convert to numeric"
   ]
  },
  {
   "cell_type": "code",
   "execution_count": 52,
   "metadata": {},
   "outputs": [
    {
     "data": {
      "text/plain": [
       "male      577\n",
       "female    314\n",
       "Name: Sex, dtype: int64"
      ]
     },
     "execution_count": 52,
     "metadata": {},
     "output_type": "execute_result"
    }
   ],
   "source": [
    "train_df['Sex'].value_counts()"
   ]
  },
  {
   "cell_type": "code",
   "execution_count": 53,
   "metadata": {},
   "outputs": [],
   "source": [
    "\n",
    "genders = {\"male\": 0, \"female\": 1}\n",
    "data = [train_df, test_df]\n",
    "\n",
    "for dataset in data:\n",
    "    dataset['Sex'] = dataset['Sex'].map(genders)\n",
    "\n"
   ]
  },
  {
   "cell_type": "markdown",
   "metadata": {},
   "source": [
    "#### Ticket:"
   ]
  },
  {
   "cell_type": "code",
   "execution_count": 55,
   "metadata": {},
   "outputs": [
    {
     "data": {
      "text/plain": [
       "count        891\n",
       "unique       681\n",
       "top       347082\n",
       "freq           7\n",
       "Name: Ticket, dtype: object"
      ]
     },
     "execution_count": 55,
     "metadata": {},
     "output_type": "execute_result"
    }
   ],
   "source": [
    "train_df['Ticket'].describe()"
   ]
  },
  {
   "cell_type": "code",
   "execution_count": 56,
   "metadata": {},
   "outputs": [
    {
     "data": {
      "text/plain": [
       "count          418\n",
       "unique         363\n",
       "top       PC 17608\n",
       "freq             5\n",
       "Name: Ticket, dtype: object"
      ]
     },
     "execution_count": 56,
     "metadata": {},
     "output_type": "execute_result"
    }
   ],
   "source": [
    "test_df['Ticket'].describe()"
   ]
  },
  {
   "cell_type": "markdown",
   "metadata": {},
   "source": [
    "##### Since the Ticket attribute has too many unique values, it will be a bit tricky to convert them into useful categories. So we will drop it from the dataset."
   ]
  },
  {
   "cell_type": "code",
   "execution_count": 57,
   "metadata": {},
   "outputs": [],
   "source": [
    "train_df = train_df.drop(['Ticket'], axis=1)\n",
    "test_df = test_df.drop(['Ticket'], axis=1)"
   ]
  },
  {
   "cell_type": "markdown",
   "metadata": {},
   "source": [
    "#### Embarked: Convert to Numeric"
   ]
  },
  {
   "cell_type": "code",
   "execution_count": 59,
   "metadata": {},
   "outputs": [],
   "source": [
    "\n",
    "ports = {\"S\": 0, \"C\": 1, \"Q\": 2}\n",
    "data = [train_df, test_df]\n",
    "\n",
    "for dataset in data:\n",
    "    dataset['Embarked'] = dataset['Embarked'].map(ports)\n",
    "    \n",
    "    "
   ]
  },
  {
   "cell_type": "markdown",
   "metadata": {},
   "source": [
    "### Create new features"
   ]
  },
  {
   "cell_type": "markdown",
   "metadata": {},
   "source": [
    "#### Age times class"
   ]
  },
  {
   "cell_type": "code",
   "execution_count": 62,
   "metadata": {},
   "outputs": [],
   "source": [
    "\n",
    "data = [train_df, test_df]\n",
    "for dataset in data:\n",
    "    dataset['Age_Class']= dataset['Age']* dataset['Pclass']\n",
    "    \n",
    "    "
   ]
  },
  {
   "cell_type": "markdown",
   "metadata": {},
   "source": [
    "#### Fare per Person:"
   ]
  },
  {
   "cell_type": "code",
   "execution_count": 63,
   "metadata": {},
   "outputs": [],
   "source": [
    "\n",
    "for dataset in data:\n",
    "    dataset['Fare_Per_Person'] = dataset['Fare']/(dataset['relatives']+1)\n",
    "    dataset['Fare_Per_Person'] = dataset['Fare_Per_Person'].astype(int)\n",
    "    "
   ]
  },
  {
   "cell_type": "markdown",
   "metadata": {},
   "source": [
    "### Creating categories:"
   ]
  },
  {
   "cell_type": "markdown",
   "metadata": {},
   "source": [
    "#### Age: Convert from float to int and create a new feature \"AgeGroup\" using bins "
   ]
  },
  {
   "cell_type": "code",
   "execution_count": 64,
   "metadata": {},
   "outputs": [
    {
     "data": {
      "text/plain": [
       "Adults          160\n",
       "Middle Age      153\n",
       "Senior          148\n",
       "Young Adults    137\n",
       "Youngsters      115\n",
       "Teens           103\n",
       "Children         68\n",
       "Retired           7\n",
       "Name: Age, dtype: int64"
      ]
     },
     "execution_count": 64,
     "metadata": {},
     "output_type": "execute_result"
    }
   ],
   "source": [
    "data = [train_df, test_df]\n",
    "for dataset in data:\n",
    "    dataset['Age'] = dataset['Age'].astype(int)\n",
    "    dataset.loc[ dataset['Age'] <= 11, 'Age'] = 0\n",
    "    dataset.loc[(dataset['Age'] > 11) & (dataset['Age'] <= 18), 'Age'] = 1\n",
    "    dataset.loc[(dataset['Age'] > 18) & (dataset['Age'] <= 22), 'Age'] = 2\n",
    "    dataset.loc[(dataset['Age'] > 22) & (dataset['Age'] <= 27), 'Age'] = 3\n",
    "    dataset.loc[(dataset['Age'] > 27) & (dataset['Age'] <= 33), 'Age'] = 4\n",
    "    dataset.loc[(dataset['Age'] > 33) & (dataset['Age'] <= 40), 'Age'] = 5\n",
    "    dataset.loc[(dataset['Age'] > 40) & (dataset['Age'] <= 66), 'Age'] = 6\n",
    "    dataset.loc[ dataset['Age'] > 66, 'Age'] = 7\n",
    "    \n",
    "    dataset['Age'] = dataset['Age'].astype(str)\n",
    "    dataset.loc[ dataset['Age'] == '0', 'Age'] = \"Children\"\n",
    "    dataset.loc[ dataset['Age'] == '1', 'Age'] = \"Teens\"\n",
    "    dataset.loc[ dataset['Age'] == '2', 'Age'] = \"Youngsters\"\n",
    "    dataset.loc[ dataset['Age'] == '3', 'Age'] = \"Young Adults\"\n",
    "    dataset.loc[ dataset['Age'] == '4', 'Age'] = \"Adults\"\n",
    "    dataset.loc[ dataset['Age'] == '5', 'Age'] = \"Middle Age\"\n",
    "    dataset.loc[ dataset['Age'] == '6', 'Age'] = \"Senior\"\n",
    "    dataset.loc[ dataset['Age'] == '7', 'Age'] = \"Retired\"\n",
    "\n",
    "# let's see how it's distributed \n",
    "train_df['Age'].value_counts()"
   ]
  },
  {
   "cell_type": "code",
   "execution_count": 65,
   "metadata": {},
   "outputs": [
    {
     "data": {
      "text/plain": [
       "Adults          79\n",
       "Middle Age      71\n",
       "Young Adults    65\n",
       "Youngsters      61\n",
       "Senior          61\n",
       "Teens           46\n",
       "Children        33\n",
       "Retired          2\n",
       "Name: Age, dtype: int64"
      ]
     },
     "execution_count": 65,
     "metadata": {},
     "output_type": "execute_result"
    }
   ],
   "source": [
    "test_df['Age'].value_counts()"
   ]
  },
  {
   "cell_type": "code",
   "execution_count": 66,
   "metadata": {},
   "outputs": [
    {
     "name": "stdout",
     "output_type": "stream",
     "text": [
      "<class 'pandas.core.frame.DataFrame'>\n",
      "RangeIndex: 891 entries, 0 to 890\n",
      "Data columns (total 14 columns):\n",
      "Survived           891 non-null int64\n",
      "Pclass             891 non-null int64\n",
      "Sex                891 non-null int64\n",
      "Age                891 non-null object\n",
      "SibSp              891 non-null int64\n",
      "Parch              891 non-null int64\n",
      "Fare               891 non-null int64\n",
      "Embarked           891 non-null int64\n",
      "relatives          891 non-null int64\n",
      "travelled_alone    891 non-null object\n",
      "Deck               891 non-null object\n",
      "Title              891 non-null object\n",
      "Age_Class          891 non-null int64\n",
      "Fare_Per_Person    891 non-null int64\n",
      "dtypes: int64(10), object(4)\n",
      "memory usage: 97.5+ KB\n"
     ]
    }
   ],
   "source": [
    "train_df.info()"
   ]
  },
  {
   "cell_type": "markdown",
   "metadata": {},
   "source": [
    "#### Fare:"
   ]
  },
  {
   "cell_type": "code",
   "execution_count": 67,
   "metadata": {},
   "outputs": [],
   "source": [
    "data = [train_df, test_df]\n",
    "\n",
    "for dataset in data:\n",
    "    dataset.loc[ dataset['Fare'] <= 7.91, 'Fare'] = 0\n",
    "    dataset.loc[(dataset['Fare'] > 7.91) & (dataset['Fare'] <= 14.454), 'Fare'] = 1\n",
    "    dataset.loc[(dataset['Fare'] > 14.454) & (dataset['Fare'] <= 31), 'Fare']   = 2\n",
    "    dataset.loc[(dataset['Fare'] > 31) & (dataset['Fare'] <= 99), 'Fare']   = 3\n",
    "    dataset.loc[(dataset['Fare'] > 99) & (dataset['Fare'] <= 250), 'Fare']   = 4\n",
    "    dataset.loc[ dataset['Fare'] > 250, 'Fare'] = 5\n",
    "    dataset['Fare'] = dataset['Fare'].astype(int)\n",
    "    \n",
    "    dataset['Fare'] = dataset['Fare'].astype(str)\n",
    "    dataset.loc[ dataset['Fare'] == '0', 'Fare'] = \"Extremely Low\"\n",
    "    dataset.loc[ dataset['Fare'] == '1', 'Fare'] = \"Very Low\"\n",
    "    dataset.loc[ dataset['Fare'] == '2', 'Fare'] = \"Low\"\n",
    "    dataset.loc[ dataset['Fare'] == '3', 'Fare'] = \"High\"\n",
    "    dataset.loc[ dataset['Fare'] == '4', 'Fare'] = \"Very High\"\n",
    "    dataset.loc[ dataset['Fare'] == '5', 'Fare'] = \"Extremely High\"\n",
    "    "
   ]
  },
  {
   "cell_type": "code",
   "execution_count": 68,
   "metadata": {},
   "outputs": [
    {
     "data": {
      "text/plain": [
       "Extremely Low     241\n",
       "Low               223\n",
       "Very Low          216\n",
       "High              158\n",
       "Very High          44\n",
       "Extremely High      9\n",
       "Name: Fare, dtype: int64"
      ]
     },
     "execution_count": 68,
     "metadata": {},
     "output_type": "execute_result"
    }
   ],
   "source": [
    "train_df['Fare'].value_counts()"
   ]
  },
  {
   "cell_type": "code",
   "execution_count": 69,
   "metadata": {},
   "outputs": [
    {
     "data": {
      "text/plain": [
       "Extremely Low     120\n",
       "Low               102\n",
       "Very Low           96\n",
       "High               69\n",
       "Very High          23\n",
       "Extremely High      8\n",
       "Name: Fare, dtype: int64"
      ]
     },
     "execution_count": 69,
     "metadata": {},
     "output_type": "execute_result"
    }
   ],
   "source": [
    "test_df['Fare'].value_counts()"
   ]
  },
  {
   "cell_type": "code",
   "execution_count": 70,
   "metadata": {},
   "outputs": [
    {
     "name": "stdout",
     "output_type": "stream",
     "text": [
      "<class 'pandas.core.frame.DataFrame'>\n",
      "RangeIndex: 891 entries, 0 to 890\n",
      "Data columns (total 14 columns):\n",
      "Survived           891 non-null int64\n",
      "Pclass             891 non-null int64\n",
      "Sex                891 non-null int64\n",
      "Age                891 non-null object\n",
      "SibSp              891 non-null int64\n",
      "Parch              891 non-null int64\n",
      "Fare               891 non-null object\n",
      "Embarked           891 non-null int64\n",
      "relatives          891 non-null int64\n",
      "travelled_alone    891 non-null object\n",
      "Deck               891 non-null object\n",
      "Title              891 non-null object\n",
      "Age_Class          891 non-null int64\n",
      "Fare_Per_Person    891 non-null int64\n",
      "dtypes: int64(9), object(5)\n",
      "memory usage: 97.5+ KB\n"
     ]
    }
   ],
   "source": [
    "train_df.info()"
   ]
  },
  {
   "cell_type": "code",
   "execution_count": 71,
   "metadata": {},
   "outputs": [
    {
     "name": "stdout",
     "output_type": "stream",
     "text": [
      "<class 'pandas.core.frame.DataFrame'>\n",
      "RangeIndex: 418 entries, 0 to 417\n",
      "Data columns (total 14 columns):\n",
      "PassengerId        418 non-null int64\n",
      "Pclass             418 non-null int64\n",
      "Sex                418 non-null int64\n",
      "Age                418 non-null object\n",
      "SibSp              418 non-null int64\n",
      "Parch              418 non-null int64\n",
      "Fare               418 non-null object\n",
      "Embarked           418 non-null int64\n",
      "relatives          418 non-null int64\n",
      "travelled_alone    418 non-null object\n",
      "Deck               418 non-null object\n",
      "Title              418 non-null object\n",
      "Age_Class          418 non-null int64\n",
      "Fare_Per_Person    418 non-null int64\n",
      "dtypes: int64(9), object(5)\n",
      "memory usage: 45.8+ KB\n"
     ]
    }
   ],
   "source": [
    "test_df.info()"
   ]
  },
  {
   "cell_type": "code",
   "execution_count": 72,
   "metadata": {},
   "outputs": [
    {
     "data": {
      "text/html": [
       "<div>\n",
       "<style scoped>\n",
       "    .dataframe tbody tr th:only-of-type {\n",
       "        vertical-align: middle;\n",
       "    }\n",
       "\n",
       "    .dataframe tbody tr th {\n",
       "        vertical-align: top;\n",
       "    }\n",
       "\n",
       "    .dataframe thead th {\n",
       "        text-align: right;\n",
       "    }\n",
       "</style>\n",
       "<table border=\"1\" class=\"dataframe\">\n",
       "  <thead>\n",
       "    <tr style=\"text-align: right;\">\n",
       "      <th></th>\n",
       "      <th>Survived</th>\n",
       "      <th>Pclass</th>\n",
       "      <th>Sex</th>\n",
       "      <th>Age</th>\n",
       "      <th>SibSp</th>\n",
       "      <th>Parch</th>\n",
       "      <th>Fare</th>\n",
       "      <th>Embarked</th>\n",
       "      <th>relatives</th>\n",
       "      <th>travelled_alone</th>\n",
       "      <th>Deck</th>\n",
       "      <th>Title</th>\n",
       "      <th>Age_Class</th>\n",
       "      <th>Fare_Per_Person</th>\n",
       "    </tr>\n",
       "  </thead>\n",
       "  <tbody>\n",
       "    <tr>\n",
       "      <th>0</th>\n",
       "      <td>0</td>\n",
       "      <td>3</td>\n",
       "      <td>0</td>\n",
       "      <td>Youngsters</td>\n",
       "      <td>1</td>\n",
       "      <td>0</td>\n",
       "      <td>Extremely Low</td>\n",
       "      <td>0</td>\n",
       "      <td>1</td>\n",
       "      <td>No</td>\n",
       "      <td>U</td>\n",
       "      <td>Mr</td>\n",
       "      <td>66</td>\n",
       "      <td>3</td>\n",
       "    </tr>\n",
       "    <tr>\n",
       "      <th>1</th>\n",
       "      <td>1</td>\n",
       "      <td>1</td>\n",
       "      <td>1</td>\n",
       "      <td>Middle Age</td>\n",
       "      <td>1</td>\n",
       "      <td>0</td>\n",
       "      <td>High</td>\n",
       "      <td>1</td>\n",
       "      <td>1</td>\n",
       "      <td>No</td>\n",
       "      <td>C</td>\n",
       "      <td>Mrs</td>\n",
       "      <td>38</td>\n",
       "      <td>35</td>\n",
       "    </tr>\n",
       "    <tr>\n",
       "      <th>2</th>\n",
       "      <td>1</td>\n",
       "      <td>3</td>\n",
       "      <td>1</td>\n",
       "      <td>Young Adults</td>\n",
       "      <td>0</td>\n",
       "      <td>0</td>\n",
       "      <td>Extremely Low</td>\n",
       "      <td>0</td>\n",
       "      <td>0</td>\n",
       "      <td>Yes</td>\n",
       "      <td>U</td>\n",
       "      <td>Miss</td>\n",
       "      <td>78</td>\n",
       "      <td>7</td>\n",
       "    </tr>\n",
       "    <tr>\n",
       "      <th>3</th>\n",
       "      <td>1</td>\n",
       "      <td>1</td>\n",
       "      <td>1</td>\n",
       "      <td>Middle Age</td>\n",
       "      <td>1</td>\n",
       "      <td>0</td>\n",
       "      <td>High</td>\n",
       "      <td>0</td>\n",
       "      <td>1</td>\n",
       "      <td>No</td>\n",
       "      <td>C</td>\n",
       "      <td>Mrs</td>\n",
       "      <td>35</td>\n",
       "      <td>26</td>\n",
       "    </tr>\n",
       "    <tr>\n",
       "      <th>4</th>\n",
       "      <td>0</td>\n",
       "      <td>3</td>\n",
       "      <td>0</td>\n",
       "      <td>Middle Age</td>\n",
       "      <td>0</td>\n",
       "      <td>0</td>\n",
       "      <td>Very Low</td>\n",
       "      <td>0</td>\n",
       "      <td>0</td>\n",
       "      <td>Yes</td>\n",
       "      <td>U</td>\n",
       "      <td>Mr</td>\n",
       "      <td>105</td>\n",
       "      <td>8</td>\n",
       "    </tr>\n",
       "    <tr>\n",
       "      <th>5</th>\n",
       "      <td>0</td>\n",
       "      <td>3</td>\n",
       "      <td>0</td>\n",
       "      <td>Middle Age</td>\n",
       "      <td>0</td>\n",
       "      <td>0</td>\n",
       "      <td>Very Low</td>\n",
       "      <td>2</td>\n",
       "      <td>0</td>\n",
       "      <td>Yes</td>\n",
       "      <td>U</td>\n",
       "      <td>Mr</td>\n",
       "      <td>105</td>\n",
       "      <td>8</td>\n",
       "    </tr>\n",
       "    <tr>\n",
       "      <th>6</th>\n",
       "      <td>0</td>\n",
       "      <td>1</td>\n",
       "      <td>0</td>\n",
       "      <td>Senior</td>\n",
       "      <td>0</td>\n",
       "      <td>0</td>\n",
       "      <td>High</td>\n",
       "      <td>0</td>\n",
       "      <td>0</td>\n",
       "      <td>Yes</td>\n",
       "      <td>E</td>\n",
       "      <td>Mr</td>\n",
       "      <td>54</td>\n",
       "      <td>51</td>\n",
       "    </tr>\n",
       "    <tr>\n",
       "      <th>7</th>\n",
       "      <td>0</td>\n",
       "      <td>3</td>\n",
       "      <td>0</td>\n",
       "      <td>Children</td>\n",
       "      <td>3</td>\n",
       "      <td>1</td>\n",
       "      <td>Low</td>\n",
       "      <td>0</td>\n",
       "      <td>4</td>\n",
       "      <td>No</td>\n",
       "      <td>U</td>\n",
       "      <td>Master</td>\n",
       "      <td>6</td>\n",
       "      <td>4</td>\n",
       "    </tr>\n",
       "    <tr>\n",
       "      <th>8</th>\n",
       "      <td>1</td>\n",
       "      <td>3</td>\n",
       "      <td>1</td>\n",
       "      <td>Young Adults</td>\n",
       "      <td>0</td>\n",
       "      <td>2</td>\n",
       "      <td>Very Low</td>\n",
       "      <td>0</td>\n",
       "      <td>2</td>\n",
       "      <td>No</td>\n",
       "      <td>U</td>\n",
       "      <td>Mrs</td>\n",
       "      <td>81</td>\n",
       "      <td>3</td>\n",
       "    </tr>\n",
       "    <tr>\n",
       "      <th>9</th>\n",
       "      <td>1</td>\n",
       "      <td>2</td>\n",
       "      <td>1</td>\n",
       "      <td>Teens</td>\n",
       "      <td>1</td>\n",
       "      <td>0</td>\n",
       "      <td>Low</td>\n",
       "      <td>1</td>\n",
       "      <td>1</td>\n",
       "      <td>No</td>\n",
       "      <td>U</td>\n",
       "      <td>Mrs</td>\n",
       "      <td>28</td>\n",
       "      <td>15</td>\n",
       "    </tr>\n",
       "  </tbody>\n",
       "</table>\n",
       "</div>"
      ],
      "text/plain": [
       "   Survived  Pclass  Sex           Age  SibSp  Parch           Fare  Embarked  \\\n",
       "0         0       3    0    Youngsters      1      0  Extremely Low         0   \n",
       "1         1       1    1    Middle Age      1      0           High         1   \n",
       "2         1       3    1  Young Adults      0      0  Extremely Low         0   \n",
       "3         1       1    1    Middle Age      1      0           High         0   \n",
       "4         0       3    0    Middle Age      0      0       Very Low         0   \n",
       "5         0       3    0    Middle Age      0      0       Very Low         2   \n",
       "6         0       1    0        Senior      0      0           High         0   \n",
       "7         0       3    0      Children      3      1            Low         0   \n",
       "8         1       3    1  Young Adults      0      2       Very Low         0   \n",
       "9         1       2    1         Teens      1      0            Low         1   \n",
       "\n",
       "   relatives travelled_alone Deck   Title  Age_Class  Fare_Per_Person  \n",
       "0          1              No    U      Mr         66                3  \n",
       "1          1              No    C     Mrs         38               35  \n",
       "2          0             Yes    U    Miss         78                7  \n",
       "3          1              No    C     Mrs         35               26  \n",
       "4          0             Yes    U      Mr        105                8  \n",
       "5          0             Yes    U      Mr        105                8  \n",
       "6          0             Yes    E      Mr         54               51  \n",
       "7          4              No    U  Master          6                4  \n",
       "8          2              No    U     Mrs         81                3  \n",
       "9          1              No    U     Mrs         28               15  "
      ]
     },
     "execution_count": 72,
     "metadata": {},
     "output_type": "execute_result"
    }
   ],
   "source": [
    "# Let's take a last look at the training set\n",
    "train_df.head(10)"
   ]
  },
  {
   "cell_type": "code",
   "execution_count": 73,
   "metadata": {},
   "outputs": [
    {
     "name": "stdout",
     "output_type": "stream",
     "text": [
      "<class 'pandas.core.frame.DataFrame'>\n",
      "RangeIndex: 891 entries, 0 to 890\n",
      "Data columns (total 14 columns):\n",
      "Survived           891 non-null int64\n",
      "Pclass             891 non-null int64\n",
      "Sex                891 non-null int64\n",
      "Age                891 non-null object\n",
      "SibSp              891 non-null int64\n",
      "Parch              891 non-null int64\n",
      "Fare               891 non-null object\n",
      "Embarked           891 non-null int64\n",
      "relatives          891 non-null int64\n",
      "travelled_alone    891 non-null object\n",
      "Deck               891 non-null object\n",
      "Title              891 non-null object\n",
      "Age_Class          891 non-null int64\n",
      "Fare_Per_Person    891 non-null int64\n",
      "dtypes: int64(9), object(5)\n",
      "memory usage: 97.5+ KB\n"
     ]
    }
   ],
   "source": [
    "train_df.info()"
   ]
  },
  {
   "cell_type": "code",
   "execution_count": 74,
   "metadata": {},
   "outputs": [
    {
     "name": "stdout",
     "output_type": "stream",
     "text": [
      "<class 'pandas.core.frame.DataFrame'>\n",
      "RangeIndex: 418 entries, 0 to 417\n",
      "Data columns (total 14 columns):\n",
      "PassengerId        418 non-null int64\n",
      "Pclass             418 non-null int64\n",
      "Sex                418 non-null int64\n",
      "Age                418 non-null object\n",
      "SibSp              418 non-null int64\n",
      "Parch              418 non-null int64\n",
      "Fare               418 non-null object\n",
      "Embarked           418 non-null int64\n",
      "relatives          418 non-null int64\n",
      "travelled_alone    418 non-null object\n",
      "Deck               418 non-null object\n",
      "Title              418 non-null object\n",
      "Age_Class          418 non-null int64\n",
      "Fare_Per_Person    418 non-null int64\n",
      "dtypes: int64(9), object(5)\n",
      "memory usage: 45.8+ KB\n"
     ]
    }
   ],
   "source": [
    "test_df.info()"
   ]
  },
  {
   "cell_type": "code",
   "execution_count": 75,
   "metadata": {},
   "outputs": [
    {
     "data": {
      "text/plain": [
       "3    491\n",
       "1    216\n",
       "2    184\n",
       "Name: Pclass, dtype: int64"
      ]
     },
     "execution_count": 75,
     "metadata": {},
     "output_type": "execute_result"
    }
   ],
   "source": [
    "train_df['Pclass'].value_counts()"
   ]
  },
  {
   "cell_type": "code",
   "execution_count": 76,
   "metadata": {},
   "outputs": [],
   "source": [
    "data = [train_df, test_df]\n",
    "\n",
    "for dataset in data:\n",
    "    dataset['Pclass'] = dataset['Pclass'].astype(str)\n",
    "    dataset.loc[ dataset['Pclass'] == '1', 'Pclass'] = \"Class1\"\n",
    "    dataset.loc[ dataset['Pclass'] == '2', 'Pclass'] = \"Class2\"\n",
    "    dataset.loc[ dataset['Pclass'] == '3', 'Pclass'] = \"Class3\"\n",
    "    "
   ]
  },
  {
   "cell_type": "code",
   "execution_count": 77,
   "metadata": {},
   "outputs": [
    {
     "name": "stdout",
     "output_type": "stream",
     "text": [
      "<class 'pandas.core.frame.DataFrame'>\n",
      "RangeIndex: 891 entries, 0 to 890\n",
      "Data columns (total 14 columns):\n",
      "Survived           891 non-null int64\n",
      "Pclass             891 non-null object\n",
      "Sex                891 non-null int64\n",
      "Age                891 non-null object\n",
      "SibSp              891 non-null int64\n",
      "Parch              891 non-null int64\n",
      "Fare               891 non-null object\n",
      "Embarked           891 non-null int64\n",
      "relatives          891 non-null int64\n",
      "travelled_alone    891 non-null object\n",
      "Deck               891 non-null object\n",
      "Title              891 non-null object\n",
      "Age_Class          891 non-null int64\n",
      "Fare_Per_Person    891 non-null int64\n",
      "dtypes: int64(8), object(6)\n",
      "memory usage: 97.5+ KB\n"
     ]
    }
   ],
   "source": [
    "train_df.info()"
   ]
  },
  {
   "cell_type": "code",
   "execution_count": 78,
   "metadata": {},
   "outputs": [
    {
     "name": "stdout",
     "output_type": "stream",
     "text": [
      "<class 'pandas.core.frame.DataFrame'>\n",
      "RangeIndex: 418 entries, 0 to 417\n",
      "Data columns (total 14 columns):\n",
      "PassengerId        418 non-null int64\n",
      "Pclass             418 non-null object\n",
      "Sex                418 non-null int64\n",
      "Age                418 non-null object\n",
      "SibSp              418 non-null int64\n",
      "Parch              418 non-null int64\n",
      "Fare               418 non-null object\n",
      "Embarked           418 non-null int64\n",
      "relatives          418 non-null int64\n",
      "travelled_alone    418 non-null object\n",
      "Deck               418 non-null object\n",
      "Title              418 non-null object\n",
      "Age_Class          418 non-null int64\n",
      "Fare_Per_Person    418 non-null int64\n",
      "dtypes: int64(8), object(6)\n",
      "memory usage: 45.8+ KB\n"
     ]
    }
   ],
   "source": [
    "test_df.info()"
   ]
  },
  {
   "cell_type": "code",
   "execution_count": 79,
   "metadata": {},
   "outputs": [
    {
     "data": {
      "text/plain": [
       "Class3    491\n",
       "Class1    216\n",
       "Class2    184\n",
       "Name: Pclass, dtype: int64"
      ]
     },
     "execution_count": 79,
     "metadata": {},
     "output_type": "execute_result"
    }
   ],
   "source": [
    "train_df['Pclass'].value_counts()"
   ]
  },
  {
   "cell_type": "markdown",
   "metadata": {},
   "source": [
    "## Scaling the numerical data"
   ]
  },
  {
   "cell_type": "code",
   "execution_count": 80,
   "metadata": {},
   "outputs": [
    {
     "data": {
      "text/plain": [
       "['Survived',\n",
       " 'Sex',\n",
       " 'SibSp',\n",
       " 'Parch',\n",
       " 'Embarked',\n",
       " 'relatives',\n",
       " 'Age_Class',\n",
       " 'Fare_Per_Person']"
      ]
     },
     "execution_count": 80,
     "metadata": {},
     "output_type": "execute_result"
    }
   ],
   "source": [
    "# Capture all the numerical features so that we can scale them later\n",
    "#data = [train_df, test_df]\n",
    "train_numerical_features = list(train_df.select_dtypes(include=['int64', 'float64', 'int32']).columns)\n",
    "train_numerical_features"
   ]
  },
  {
   "cell_type": "code",
   "execution_count": 81,
   "metadata": {},
   "outputs": [
    {
     "data": {
      "text/plain": [
       "list"
      ]
     },
     "execution_count": 81,
     "metadata": {},
     "output_type": "execute_result"
    }
   ],
   "source": [
    "type(train_numerical_features)"
   ]
  },
  {
   "cell_type": "code",
   "execution_count": 82,
   "metadata": {},
   "outputs": [
    {
     "data": {
      "text/plain": [
       "['Sex',\n",
       " 'SibSp',\n",
       " 'Parch',\n",
       " 'Embarked',\n",
       " 'relatives',\n",
       " 'Age_Class',\n",
       " 'Fare_Per_Person']"
      ]
     },
     "execution_count": 82,
     "metadata": {},
     "output_type": "execute_result"
    }
   ],
   "source": [
    "del train_numerical_features[0]\n",
    "train_numerical_features"
   ]
  },
  {
   "cell_type": "code",
   "execution_count": 83,
   "metadata": {},
   "outputs": [
    {
     "name": "stderr",
     "output_type": "stream",
     "text": [
      "/Users/ryan/anaconda3/envs/py36-pytext/lib/python3.6/site-packages/sklearn/preprocessing/data.py:625: DataConversionWarning: Data with input dtype int64 were all converted to float64 by StandardScaler.\n",
      "  return self.partial_fit(X, y)\n",
      "/Users/ryan/anaconda3/envs/py36-pytext/lib/python3.6/site-packages/sklearn/base.py:462: DataConversionWarning: Data with input dtype int64 were all converted to float64 by StandardScaler.\n",
      "  return self.fit(X, **fit_params).transform(X)\n"
     ]
    }
   ],
   "source": [
    "# Feature scaling - Standard scaler\n",
    "ss_scaler = StandardScaler()\n",
    "train_df_ss = pd.DataFrame(data = train_df)\n",
    "train_df_ss[train_numerical_features] = ss_scaler.fit_transform(train_df_ss[train_numerical_features])"
   ]
  },
  {
   "cell_type": "code",
   "execution_count": 84,
   "metadata": {},
   "outputs": [
    {
     "data": {
      "text/plain": [
       "(891, 14)"
      ]
     },
     "execution_count": 84,
     "metadata": {},
     "output_type": "execute_result"
    }
   ],
   "source": [
    "train_df_ss.shape"
   ]
  },
  {
   "cell_type": "code",
   "execution_count": 85,
   "metadata": {},
   "outputs": [
    {
     "data": {
      "text/html": [
       "<div>\n",
       "<style scoped>\n",
       "    .dataframe tbody tr th:only-of-type {\n",
       "        vertical-align: middle;\n",
       "    }\n",
       "\n",
       "    .dataframe tbody tr th {\n",
       "        vertical-align: top;\n",
       "    }\n",
       "\n",
       "    .dataframe thead th {\n",
       "        text-align: right;\n",
       "    }\n",
       "</style>\n",
       "<table border=\"1\" class=\"dataframe\">\n",
       "  <thead>\n",
       "    <tr style=\"text-align: right;\">\n",
       "      <th></th>\n",
       "      <th>Survived</th>\n",
       "      <th>Pclass</th>\n",
       "      <th>Sex</th>\n",
       "      <th>Age</th>\n",
       "      <th>SibSp</th>\n",
       "      <th>Parch</th>\n",
       "      <th>Fare</th>\n",
       "      <th>Embarked</th>\n",
       "      <th>relatives</th>\n",
       "      <th>travelled_alone</th>\n",
       "      <th>Deck</th>\n",
       "      <th>Title</th>\n",
       "      <th>Age_Class</th>\n",
       "      <th>Fare_Per_Person</th>\n",
       "    </tr>\n",
       "  </thead>\n",
       "  <tbody>\n",
       "    <tr>\n",
       "      <th>0</th>\n",
       "      <td>0</td>\n",
       "      <td>Class3</td>\n",
       "      <td>-0.737695</td>\n",
       "      <td>Youngsters</td>\n",
       "      <td>0.432793</td>\n",
       "      <td>-0.473674</td>\n",
       "      <td>Extremely Low</td>\n",
       "      <td>-0.568837</td>\n",
       "      <td>0.059160</td>\n",
       "      <td>No</td>\n",
       "      <td>U</td>\n",
       "      <td>Mr</td>\n",
       "      <td>0.056828</td>\n",
       "      <td>-0.459218</td>\n",
       "    </tr>\n",
       "    <tr>\n",
       "      <th>1</th>\n",
       "      <td>1</td>\n",
       "      <td>Class1</td>\n",
       "      <td>1.355574</td>\n",
       "      <td>Middle Age</td>\n",
       "      <td>0.432793</td>\n",
       "      <td>-0.473674</td>\n",
       "      <td>High</td>\n",
       "      <td>1.005181</td>\n",
       "      <td>0.059160</td>\n",
       "      <td>No</td>\n",
       "      <td>C</td>\n",
       "      <td>Mrs</td>\n",
       "      <td>-0.768395</td>\n",
       "      <td>0.434090</td>\n",
       "    </tr>\n",
       "    <tr>\n",
       "      <th>2</th>\n",
       "      <td>1</td>\n",
       "      <td>Class3</td>\n",
       "      <td>1.355574</td>\n",
       "      <td>Young Adults</td>\n",
       "      <td>-0.474545</td>\n",
       "      <td>-0.473674</td>\n",
       "      <td>Extremely Low</td>\n",
       "      <td>-0.568837</td>\n",
       "      <td>-0.560975</td>\n",
       "      <td>Yes</td>\n",
       "      <td>U</td>\n",
       "      <td>Miss</td>\n",
       "      <td>0.410494</td>\n",
       "      <td>-0.347554</td>\n",
       "    </tr>\n",
       "    <tr>\n",
       "      <th>3</th>\n",
       "      <td>1</td>\n",
       "      <td>Class1</td>\n",
       "      <td>1.355574</td>\n",
       "      <td>Middle Age</td>\n",
       "      <td>0.432793</td>\n",
       "      <td>-0.473674</td>\n",
       "      <td>High</td>\n",
       "      <td>-0.568837</td>\n",
       "      <td>0.059160</td>\n",
       "      <td>No</td>\n",
       "      <td>C</td>\n",
       "      <td>Mrs</td>\n",
       "      <td>-0.856812</td>\n",
       "      <td>0.182847</td>\n",
       "    </tr>\n",
       "    <tr>\n",
       "      <th>4</th>\n",
       "      <td>0</td>\n",
       "      <td>Class3</td>\n",
       "      <td>-0.737695</td>\n",
       "      <td>Middle Age</td>\n",
       "      <td>-0.474545</td>\n",
       "      <td>-0.473674</td>\n",
       "      <td>Very Low</td>\n",
       "      <td>-0.568837</td>\n",
       "      <td>-0.560975</td>\n",
       "      <td>Yes</td>\n",
       "      <td>U</td>\n",
       "      <td>Mr</td>\n",
       "      <td>1.206245</td>\n",
       "      <td>-0.319638</td>\n",
       "    </tr>\n",
       "  </tbody>\n",
       "</table>\n",
       "</div>"
      ],
      "text/plain": [
       "   Survived  Pclass       Sex           Age     SibSp     Parch  \\\n",
       "0         0  Class3 -0.737695    Youngsters  0.432793 -0.473674   \n",
       "1         1  Class1  1.355574    Middle Age  0.432793 -0.473674   \n",
       "2         1  Class3  1.355574  Young Adults -0.474545 -0.473674   \n",
       "3         1  Class1  1.355574    Middle Age  0.432793 -0.473674   \n",
       "4         0  Class3 -0.737695    Middle Age -0.474545 -0.473674   \n",
       "\n",
       "            Fare  Embarked  relatives travelled_alone Deck Title  Age_Class  \\\n",
       "0  Extremely Low -0.568837   0.059160              No    U    Mr   0.056828   \n",
       "1           High  1.005181   0.059160              No    C   Mrs  -0.768395   \n",
       "2  Extremely Low -0.568837  -0.560975             Yes    U  Miss   0.410494   \n",
       "3           High -0.568837   0.059160              No    C   Mrs  -0.856812   \n",
       "4       Very Low -0.568837  -0.560975             Yes    U    Mr   1.206245   \n",
       "\n",
       "   Fare_Per_Person  \n",
       "0        -0.459218  \n",
       "1         0.434090  \n",
       "2        -0.347554  \n",
       "3         0.182847  \n",
       "4        -0.319638  "
      ]
     },
     "execution_count": 85,
     "metadata": {},
     "output_type": "execute_result"
    }
   ],
   "source": [
    "train_df_ss.head()"
   ]
  },
  {
   "cell_type": "code",
   "execution_count": 86,
   "metadata": {},
   "outputs": [
    {
     "data": {
      "text/plain": [
       "['PassengerId',\n",
       " 'Sex',\n",
       " 'SibSp',\n",
       " 'Parch',\n",
       " 'Embarked',\n",
       " 'relatives',\n",
       " 'Age_Class',\n",
       " 'Fare_Per_Person']"
      ]
     },
     "execution_count": 86,
     "metadata": {},
     "output_type": "execute_result"
    }
   ],
   "source": [
    "test_numerical_features = list(test_df.select_dtypes(include=['int64', 'float64', 'int32']).columns)\n",
    "test_numerical_features"
   ]
  },
  {
   "cell_type": "code",
   "execution_count": 87,
   "metadata": {},
   "outputs": [
    {
     "data": {
      "text/plain": [
       "['Sex',\n",
       " 'SibSp',\n",
       " 'Parch',\n",
       " 'Embarked',\n",
       " 'relatives',\n",
       " 'Age_Class',\n",
       " 'Fare_Per_Person']"
      ]
     },
     "execution_count": 87,
     "metadata": {},
     "output_type": "execute_result"
    }
   ],
   "source": [
    "del test_numerical_features[0]\n",
    "test_numerical_features"
   ]
  },
  {
   "cell_type": "code",
   "execution_count": 88,
   "metadata": {},
   "outputs": [
    {
     "name": "stderr",
     "output_type": "stream",
     "text": [
      "/Users/ryan/anaconda3/envs/py36-pytext/lib/python3.6/site-packages/sklearn/preprocessing/data.py:625: DataConversionWarning: Data with input dtype int64 were all converted to float64 by StandardScaler.\n",
      "  return self.partial_fit(X, y)\n",
      "/Users/ryan/anaconda3/envs/py36-pytext/lib/python3.6/site-packages/sklearn/base.py:462: DataConversionWarning: Data with input dtype int64 were all converted to float64 by StandardScaler.\n",
      "  return self.fit(X, **fit_params).transform(X)\n"
     ]
    }
   ],
   "source": [
    "# Feature scaling - Standard scaler\n",
    "test_ss_scaler = StandardScaler()\n",
    "test_df_ss = pd.DataFrame(data = test_df)\n",
    "test_df_ss[test_numerical_features] = test_ss_scaler.fit_transform(test_df_ss[test_numerical_features])"
   ]
  },
  {
   "cell_type": "code",
   "execution_count": 89,
   "metadata": {},
   "outputs": [
    {
     "data": {
      "text/plain": [
       "(418, 14)"
      ]
     },
     "execution_count": 89,
     "metadata": {},
     "output_type": "execute_result"
    }
   ],
   "source": [
    "test_df.shape"
   ]
  },
  {
   "cell_type": "code",
   "execution_count": 90,
   "metadata": {},
   "outputs": [
    {
     "data": {
      "text/html": [
       "<div>\n",
       "<style scoped>\n",
       "    .dataframe tbody tr th:only-of-type {\n",
       "        vertical-align: middle;\n",
       "    }\n",
       "\n",
       "    .dataframe tbody tr th {\n",
       "        vertical-align: top;\n",
       "    }\n",
       "\n",
       "    .dataframe thead th {\n",
       "        text-align: right;\n",
       "    }\n",
       "</style>\n",
       "<table border=\"1\" class=\"dataframe\">\n",
       "  <thead>\n",
       "    <tr style=\"text-align: right;\">\n",
       "      <th></th>\n",
       "      <th>PassengerId</th>\n",
       "      <th>Pclass</th>\n",
       "      <th>Sex</th>\n",
       "      <th>Age</th>\n",
       "      <th>SibSp</th>\n",
       "      <th>Parch</th>\n",
       "      <th>Fare</th>\n",
       "      <th>Embarked</th>\n",
       "      <th>relatives</th>\n",
       "      <th>travelled_alone</th>\n",
       "      <th>Deck</th>\n",
       "      <th>Title</th>\n",
       "      <th>Age_Class</th>\n",
       "      <th>Fare_Per_Person</th>\n",
       "    </tr>\n",
       "  </thead>\n",
       "  <tbody>\n",
       "    <tr>\n",
       "      <th>0</th>\n",
       "      <td>892</td>\n",
       "      <td>Class3</td>\n",
       "      <td>-0.755929</td>\n",
       "      <td>Youngsters</td>\n",
       "      <td>-0.499470</td>\n",
       "      <td>-0.400248</td>\n",
       "      <td>Extremely Low</td>\n",
       "      <td>2.243165</td>\n",
       "      <td>-0.553443</td>\n",
       "      <td>Yes</td>\n",
       "      <td>U</td>\n",
       "      <td>Mr</td>\n",
       "      <td>0.017736</td>\n",
       "      <td>-0.401204</td>\n",
       "    </tr>\n",
       "    <tr>\n",
       "      <th>1</th>\n",
       "      <td>893</td>\n",
       "      <td>Class3</td>\n",
       "      <td>1.322876</td>\n",
       "      <td>Middle Age</td>\n",
       "      <td>0.616992</td>\n",
       "      <td>-0.400248</td>\n",
       "      <td>Extremely Low</td>\n",
       "      <td>-0.677841</td>\n",
       "      <td>0.105643</td>\n",
       "      <td>No</td>\n",
       "      <td>U</td>\n",
       "      <td>Mrs</td>\n",
       "      <td>1.211875</td>\n",
       "      <td>-0.513662</td>\n",
       "    </tr>\n",
       "    <tr>\n",
       "      <th>2</th>\n",
       "      <td>894</td>\n",
       "      <td>Class2</td>\n",
       "      <td>-0.755929</td>\n",
       "      <td>Young Adults</td>\n",
       "      <td>-0.499470</td>\n",
       "      <td>-0.400248</td>\n",
       "      <td>Very Low</td>\n",
       "      <td>2.243165</td>\n",
       "      <td>-0.553443</td>\n",
       "      <td>Yes</td>\n",
       "      <td>U</td>\n",
       "      <td>Mr</td>\n",
       "      <td>-0.330555</td>\n",
       "      <td>-0.344975</td>\n",
       "    </tr>\n",
       "    <tr>\n",
       "      <th>3</th>\n",
       "      <td>895</td>\n",
       "      <td>Class3</td>\n",
       "      <td>-0.755929</td>\n",
       "      <td>Middle Age</td>\n",
       "      <td>-0.499470</td>\n",
       "      <td>-0.400248</td>\n",
       "      <td>Very Low</td>\n",
       "      <td>-0.677841</td>\n",
       "      <td>-0.553443</td>\n",
       "      <td>Yes</td>\n",
       "      <td>U</td>\n",
       "      <td>Mr</td>\n",
       "      <td>0.987974</td>\n",
       "      <td>-0.373089</td>\n",
       "    </tr>\n",
       "    <tr>\n",
       "      <th>4</th>\n",
       "      <td>896</td>\n",
       "      <td>Class3</td>\n",
       "      <td>1.322876</td>\n",
       "      <td>Middle Age</td>\n",
       "      <td>0.616992</td>\n",
       "      <td>0.619896</td>\n",
       "      <td>Very Low</td>\n",
       "      <td>-0.677841</td>\n",
       "      <td>0.764728</td>\n",
       "      <td>No</td>\n",
       "      <td>U</td>\n",
       "      <td>Mrs</td>\n",
       "      <td>0.987974</td>\n",
       "      <td>-0.485547</td>\n",
       "    </tr>\n",
       "  </tbody>\n",
       "</table>\n",
       "</div>"
      ],
      "text/plain": [
       "   PassengerId  Pclass       Sex           Age     SibSp     Parch  \\\n",
       "0          892  Class3 -0.755929    Youngsters -0.499470 -0.400248   \n",
       "1          893  Class3  1.322876    Middle Age  0.616992 -0.400248   \n",
       "2          894  Class2 -0.755929  Young Adults -0.499470 -0.400248   \n",
       "3          895  Class3 -0.755929    Middle Age -0.499470 -0.400248   \n",
       "4          896  Class3  1.322876    Middle Age  0.616992  0.619896   \n",
       "\n",
       "            Fare  Embarked  relatives travelled_alone Deck Title  Age_Class  \\\n",
       "0  Extremely Low  2.243165  -0.553443             Yes    U    Mr   0.017736   \n",
       "1  Extremely Low -0.677841   0.105643              No    U   Mrs   1.211875   \n",
       "2       Very Low  2.243165  -0.553443             Yes    U    Mr  -0.330555   \n",
       "3       Very Low -0.677841  -0.553443             Yes    U    Mr   0.987974   \n",
       "4       Very Low -0.677841   0.764728              No    U   Mrs   0.987974   \n",
       "\n",
       "   Fare_Per_Person  \n",
       "0        -0.401204  \n",
       "1        -0.513662  \n",
       "2        -0.344975  \n",
       "3        -0.373089  \n",
       "4        -0.485547  "
      ]
     },
     "execution_count": 90,
     "metadata": {},
     "output_type": "execute_result"
    }
   ],
   "source": [
    "test_df.head()"
   ]
  },
  {
   "cell_type": "markdown",
   "metadata": {},
   "source": [
    "## One-hot encoding"
   ]
  },
  {
   "cell_type": "code",
   "execution_count": 91,
   "metadata": {},
   "outputs": [],
   "source": [
    "# One-Hot encoding / Dummy variables\n",
    "encode_col_list = list(train_df.select_dtypes(include=['object']).columns)\n",
    "for i in encode_col_list:\n",
    "    train_df_ss = pd.concat([train_df_ss,pd.get_dummies(train_df_ss[i], prefix=i)],axis=1)\n",
    "    train_df_ss.drop(i, axis = 1, inplace=True)"
   ]
  },
  {
   "cell_type": "code",
   "execution_count": 92,
   "metadata": {},
   "outputs": [
    {
     "data": {
      "text/plain": [
       "(891, 40)"
      ]
     },
     "execution_count": 92,
     "metadata": {},
     "output_type": "execute_result"
    }
   ],
   "source": [
    "train_df_ss.shape"
   ]
  },
  {
   "cell_type": "code",
   "execution_count": 93,
   "metadata": {},
   "outputs": [
    {
     "data": {
      "text/html": [
       "<div>\n",
       "<style scoped>\n",
       "    .dataframe tbody tr th:only-of-type {\n",
       "        vertical-align: middle;\n",
       "    }\n",
       "\n",
       "    .dataframe tbody tr th {\n",
       "        vertical-align: top;\n",
       "    }\n",
       "\n",
       "    .dataframe thead th {\n",
       "        text-align: right;\n",
       "    }\n",
       "</style>\n",
       "<table border=\"1\" class=\"dataframe\">\n",
       "  <thead>\n",
       "    <tr style=\"text-align: right;\">\n",
       "      <th></th>\n",
       "      <th>Survived</th>\n",
       "      <th>Sex</th>\n",
       "      <th>SibSp</th>\n",
       "      <th>Parch</th>\n",
       "      <th>Embarked</th>\n",
       "      <th>relatives</th>\n",
       "      <th>Age_Class</th>\n",
       "      <th>Fare_Per_Person</th>\n",
       "      <th>Pclass_Class1</th>\n",
       "      <th>Pclass_Class2</th>\n",
       "      <th>...</th>\n",
       "      <th>Deck_D</th>\n",
       "      <th>Deck_E</th>\n",
       "      <th>Deck_F</th>\n",
       "      <th>Deck_G</th>\n",
       "      <th>Deck_U</th>\n",
       "      <th>Title_Master</th>\n",
       "      <th>Title_Miss</th>\n",
       "      <th>Title_Mr</th>\n",
       "      <th>Title_Mrs</th>\n",
       "      <th>Title_Rare</th>\n",
       "    </tr>\n",
       "  </thead>\n",
       "  <tbody>\n",
       "    <tr>\n",
       "      <th>0</th>\n",
       "      <td>0</td>\n",
       "      <td>-0.737695</td>\n",
       "      <td>0.432793</td>\n",
       "      <td>-0.473674</td>\n",
       "      <td>-0.568837</td>\n",
       "      <td>0.059160</td>\n",
       "      <td>0.056828</td>\n",
       "      <td>-0.459218</td>\n",
       "      <td>0</td>\n",
       "      <td>0</td>\n",
       "      <td>...</td>\n",
       "      <td>0</td>\n",
       "      <td>0</td>\n",
       "      <td>0</td>\n",
       "      <td>0</td>\n",
       "      <td>1</td>\n",
       "      <td>0</td>\n",
       "      <td>0</td>\n",
       "      <td>1</td>\n",
       "      <td>0</td>\n",
       "      <td>0</td>\n",
       "    </tr>\n",
       "    <tr>\n",
       "      <th>1</th>\n",
       "      <td>1</td>\n",
       "      <td>1.355574</td>\n",
       "      <td>0.432793</td>\n",
       "      <td>-0.473674</td>\n",
       "      <td>1.005181</td>\n",
       "      <td>0.059160</td>\n",
       "      <td>-0.768395</td>\n",
       "      <td>0.434090</td>\n",
       "      <td>1</td>\n",
       "      <td>0</td>\n",
       "      <td>...</td>\n",
       "      <td>0</td>\n",
       "      <td>0</td>\n",
       "      <td>0</td>\n",
       "      <td>0</td>\n",
       "      <td>0</td>\n",
       "      <td>0</td>\n",
       "      <td>0</td>\n",
       "      <td>0</td>\n",
       "      <td>1</td>\n",
       "      <td>0</td>\n",
       "    </tr>\n",
       "    <tr>\n",
       "      <th>2</th>\n",
       "      <td>1</td>\n",
       "      <td>1.355574</td>\n",
       "      <td>-0.474545</td>\n",
       "      <td>-0.473674</td>\n",
       "      <td>-0.568837</td>\n",
       "      <td>-0.560975</td>\n",
       "      <td>0.410494</td>\n",
       "      <td>-0.347554</td>\n",
       "      <td>0</td>\n",
       "      <td>0</td>\n",
       "      <td>...</td>\n",
       "      <td>0</td>\n",
       "      <td>0</td>\n",
       "      <td>0</td>\n",
       "      <td>0</td>\n",
       "      <td>1</td>\n",
       "      <td>0</td>\n",
       "      <td>1</td>\n",
       "      <td>0</td>\n",
       "      <td>0</td>\n",
       "      <td>0</td>\n",
       "    </tr>\n",
       "    <tr>\n",
       "      <th>3</th>\n",
       "      <td>1</td>\n",
       "      <td>1.355574</td>\n",
       "      <td>0.432793</td>\n",
       "      <td>-0.473674</td>\n",
       "      <td>-0.568837</td>\n",
       "      <td>0.059160</td>\n",
       "      <td>-0.856812</td>\n",
       "      <td>0.182847</td>\n",
       "      <td>1</td>\n",
       "      <td>0</td>\n",
       "      <td>...</td>\n",
       "      <td>0</td>\n",
       "      <td>0</td>\n",
       "      <td>0</td>\n",
       "      <td>0</td>\n",
       "      <td>0</td>\n",
       "      <td>0</td>\n",
       "      <td>0</td>\n",
       "      <td>0</td>\n",
       "      <td>1</td>\n",
       "      <td>0</td>\n",
       "    </tr>\n",
       "    <tr>\n",
       "      <th>4</th>\n",
       "      <td>0</td>\n",
       "      <td>-0.737695</td>\n",
       "      <td>-0.474545</td>\n",
       "      <td>-0.473674</td>\n",
       "      <td>-0.568837</td>\n",
       "      <td>-0.560975</td>\n",
       "      <td>1.206245</td>\n",
       "      <td>-0.319638</td>\n",
       "      <td>0</td>\n",
       "      <td>0</td>\n",
       "      <td>...</td>\n",
       "      <td>0</td>\n",
       "      <td>0</td>\n",
       "      <td>0</td>\n",
       "      <td>0</td>\n",
       "      <td>1</td>\n",
       "      <td>0</td>\n",
       "      <td>0</td>\n",
       "      <td>1</td>\n",
       "      <td>0</td>\n",
       "      <td>0</td>\n",
       "    </tr>\n",
       "  </tbody>\n",
       "</table>\n",
       "<p>5 rows × 40 columns</p>\n",
       "</div>"
      ],
      "text/plain": [
       "   Survived       Sex     SibSp     Parch  Embarked  relatives  Age_Class  \\\n",
       "0         0 -0.737695  0.432793 -0.473674 -0.568837   0.059160   0.056828   \n",
       "1         1  1.355574  0.432793 -0.473674  1.005181   0.059160  -0.768395   \n",
       "2         1  1.355574 -0.474545 -0.473674 -0.568837  -0.560975   0.410494   \n",
       "3         1  1.355574  0.432793 -0.473674 -0.568837   0.059160  -0.856812   \n",
       "4         0 -0.737695 -0.474545 -0.473674 -0.568837  -0.560975   1.206245   \n",
       "\n",
       "   Fare_Per_Person  Pclass_Class1  Pclass_Class2     ...      Deck_D  Deck_E  \\\n",
       "0        -0.459218              0              0     ...           0       0   \n",
       "1         0.434090              1              0     ...           0       0   \n",
       "2        -0.347554              0              0     ...           0       0   \n",
       "3         0.182847              1              0     ...           0       0   \n",
       "4        -0.319638              0              0     ...           0       0   \n",
       "\n",
       "   Deck_F  Deck_G  Deck_U  Title_Master  Title_Miss  Title_Mr  Title_Mrs  \\\n",
       "0       0       0       1             0           0         1          0   \n",
       "1       0       0       0             0           0         0          1   \n",
       "2       0       0       1             0           1         0          0   \n",
       "3       0       0       0             0           0         0          1   \n",
       "4       0       0       1             0           0         1          0   \n",
       "\n",
       "   Title_Rare  \n",
       "0           0  \n",
       "1           0  \n",
       "2           0  \n",
       "3           0  \n",
       "4           0  \n",
       "\n",
       "[5 rows x 40 columns]"
      ]
     },
     "execution_count": 93,
     "metadata": {},
     "output_type": "execute_result"
    }
   ],
   "source": [
    "train_df_ss.head()"
   ]
  },
  {
   "cell_type": "code",
   "execution_count": 94,
   "metadata": {},
   "outputs": [],
   "source": [
    "# One-Hot encoding / Dummy variables\n",
    "test_encode_col_list = list(test_df.select_dtypes(include=['object']).columns)\n",
    "for i in test_encode_col_list:\n",
    "    test_df_ss = pd.concat([test_df_ss,pd.get_dummies(test_df_ss[i], prefix=i)],axis=1)\n",
    "    test_df_ss.drop(i, axis = 1, inplace=True)"
   ]
  },
  {
   "cell_type": "code",
   "execution_count": 95,
   "metadata": {},
   "outputs": [
    {
     "data": {
      "text/plain": [
       "(418, 40)"
      ]
     },
     "execution_count": 95,
     "metadata": {},
     "output_type": "execute_result"
    }
   ],
   "source": [
    "test_df_ss.shape"
   ]
  },
  {
   "cell_type": "code",
   "execution_count": 96,
   "metadata": {},
   "outputs": [
    {
     "data": {
      "text/html": [
       "<div>\n",
       "<style scoped>\n",
       "    .dataframe tbody tr th:only-of-type {\n",
       "        vertical-align: middle;\n",
       "    }\n",
       "\n",
       "    .dataframe tbody tr th {\n",
       "        vertical-align: top;\n",
       "    }\n",
       "\n",
       "    .dataframe thead th {\n",
       "        text-align: right;\n",
       "    }\n",
       "</style>\n",
       "<table border=\"1\" class=\"dataframe\">\n",
       "  <thead>\n",
       "    <tr style=\"text-align: right;\">\n",
       "      <th></th>\n",
       "      <th>PassengerId</th>\n",
       "      <th>Sex</th>\n",
       "      <th>SibSp</th>\n",
       "      <th>Parch</th>\n",
       "      <th>Embarked</th>\n",
       "      <th>relatives</th>\n",
       "      <th>Age_Class</th>\n",
       "      <th>Fare_Per_Person</th>\n",
       "      <th>Pclass_Class1</th>\n",
       "      <th>Pclass_Class2</th>\n",
       "      <th>...</th>\n",
       "      <th>Deck_D</th>\n",
       "      <th>Deck_E</th>\n",
       "      <th>Deck_F</th>\n",
       "      <th>Deck_G</th>\n",
       "      <th>Deck_U</th>\n",
       "      <th>Title_Master</th>\n",
       "      <th>Title_Miss</th>\n",
       "      <th>Title_Mr</th>\n",
       "      <th>Title_Mrs</th>\n",
       "      <th>Title_Rare</th>\n",
       "    </tr>\n",
       "  </thead>\n",
       "  <tbody>\n",
       "    <tr>\n",
       "      <th>0</th>\n",
       "      <td>892</td>\n",
       "      <td>-0.755929</td>\n",
       "      <td>-0.499470</td>\n",
       "      <td>-0.400248</td>\n",
       "      <td>2.243165</td>\n",
       "      <td>-0.553443</td>\n",
       "      <td>0.017736</td>\n",
       "      <td>-0.401204</td>\n",
       "      <td>0</td>\n",
       "      <td>0</td>\n",
       "      <td>...</td>\n",
       "      <td>0</td>\n",
       "      <td>0</td>\n",
       "      <td>0</td>\n",
       "      <td>0</td>\n",
       "      <td>1</td>\n",
       "      <td>0</td>\n",
       "      <td>0</td>\n",
       "      <td>1</td>\n",
       "      <td>0</td>\n",
       "      <td>0</td>\n",
       "    </tr>\n",
       "    <tr>\n",
       "      <th>1</th>\n",
       "      <td>893</td>\n",
       "      <td>1.322876</td>\n",
       "      <td>0.616992</td>\n",
       "      <td>-0.400248</td>\n",
       "      <td>-0.677841</td>\n",
       "      <td>0.105643</td>\n",
       "      <td>1.211875</td>\n",
       "      <td>-0.513662</td>\n",
       "      <td>0</td>\n",
       "      <td>0</td>\n",
       "      <td>...</td>\n",
       "      <td>0</td>\n",
       "      <td>0</td>\n",
       "      <td>0</td>\n",
       "      <td>0</td>\n",
       "      <td>1</td>\n",
       "      <td>0</td>\n",
       "      <td>0</td>\n",
       "      <td>0</td>\n",
       "      <td>1</td>\n",
       "      <td>0</td>\n",
       "    </tr>\n",
       "    <tr>\n",
       "      <th>2</th>\n",
       "      <td>894</td>\n",
       "      <td>-0.755929</td>\n",
       "      <td>-0.499470</td>\n",
       "      <td>-0.400248</td>\n",
       "      <td>2.243165</td>\n",
       "      <td>-0.553443</td>\n",
       "      <td>-0.330555</td>\n",
       "      <td>-0.344975</td>\n",
       "      <td>0</td>\n",
       "      <td>1</td>\n",
       "      <td>...</td>\n",
       "      <td>0</td>\n",
       "      <td>0</td>\n",
       "      <td>0</td>\n",
       "      <td>0</td>\n",
       "      <td>1</td>\n",
       "      <td>0</td>\n",
       "      <td>0</td>\n",
       "      <td>1</td>\n",
       "      <td>0</td>\n",
       "      <td>0</td>\n",
       "    </tr>\n",
       "    <tr>\n",
       "      <th>3</th>\n",
       "      <td>895</td>\n",
       "      <td>-0.755929</td>\n",
       "      <td>-0.499470</td>\n",
       "      <td>-0.400248</td>\n",
       "      <td>-0.677841</td>\n",
       "      <td>-0.553443</td>\n",
       "      <td>0.987974</td>\n",
       "      <td>-0.373089</td>\n",
       "      <td>0</td>\n",
       "      <td>0</td>\n",
       "      <td>...</td>\n",
       "      <td>0</td>\n",
       "      <td>0</td>\n",
       "      <td>0</td>\n",
       "      <td>0</td>\n",
       "      <td>1</td>\n",
       "      <td>0</td>\n",
       "      <td>0</td>\n",
       "      <td>1</td>\n",
       "      <td>0</td>\n",
       "      <td>0</td>\n",
       "    </tr>\n",
       "    <tr>\n",
       "      <th>4</th>\n",
       "      <td>896</td>\n",
       "      <td>1.322876</td>\n",
       "      <td>0.616992</td>\n",
       "      <td>0.619896</td>\n",
       "      <td>-0.677841</td>\n",
       "      <td>0.764728</td>\n",
       "      <td>0.987974</td>\n",
       "      <td>-0.485547</td>\n",
       "      <td>0</td>\n",
       "      <td>0</td>\n",
       "      <td>...</td>\n",
       "      <td>0</td>\n",
       "      <td>0</td>\n",
       "      <td>0</td>\n",
       "      <td>0</td>\n",
       "      <td>1</td>\n",
       "      <td>0</td>\n",
       "      <td>0</td>\n",
       "      <td>0</td>\n",
       "      <td>1</td>\n",
       "      <td>0</td>\n",
       "    </tr>\n",
       "  </tbody>\n",
       "</table>\n",
       "<p>5 rows × 40 columns</p>\n",
       "</div>"
      ],
      "text/plain": [
       "   PassengerId       Sex     SibSp     Parch  Embarked  relatives  Age_Class  \\\n",
       "0          892 -0.755929 -0.499470 -0.400248  2.243165  -0.553443   0.017736   \n",
       "1          893  1.322876  0.616992 -0.400248 -0.677841   0.105643   1.211875   \n",
       "2          894 -0.755929 -0.499470 -0.400248  2.243165  -0.553443  -0.330555   \n",
       "3          895 -0.755929 -0.499470 -0.400248 -0.677841  -0.553443   0.987974   \n",
       "4          896  1.322876  0.616992  0.619896 -0.677841   0.764728   0.987974   \n",
       "\n",
       "   Fare_Per_Person  Pclass_Class1  Pclass_Class2     ...      Deck_D  Deck_E  \\\n",
       "0        -0.401204              0              0     ...           0       0   \n",
       "1        -0.513662              0              0     ...           0       0   \n",
       "2        -0.344975              0              1     ...           0       0   \n",
       "3        -0.373089              0              0     ...           0       0   \n",
       "4        -0.485547              0              0     ...           0       0   \n",
       "\n",
       "   Deck_F  Deck_G  Deck_U  Title_Master  Title_Miss  Title_Mr  Title_Mrs  \\\n",
       "0       0       0       1             0           0         1          0   \n",
       "1       0       0       1             0           0         0          1   \n",
       "2       0       0       1             0           0         1          0   \n",
       "3       0       0       1             0           0         1          0   \n",
       "4       0       0       1             0           0         0          1   \n",
       "\n",
       "   Title_Rare  \n",
       "0           0  \n",
       "1           0  \n",
       "2           0  \n",
       "3           0  \n",
       "4           0  \n",
       "\n",
       "[5 rows x 40 columns]"
      ]
     },
     "execution_count": 96,
     "metadata": {},
     "output_type": "execute_result"
    }
   ],
   "source": [
    "test_df_ss.head()"
   ]
  },
  {
   "cell_type": "markdown",
   "metadata": {},
   "source": [
    "## ML Modelling"
   ]
  },
  {
   "cell_type": "code",
   "execution_count": 97,
   "metadata": {},
   "outputs": [],
   "source": [
    "X_train = train_df_ss.drop(\"Survived\", axis=1)\n",
    "Y_train = train_df_ss[\"Survived\"]\n",
    "X_test  = test_df_ss.drop(\"PassengerId\", axis=1).copy()"
   ]
  },
  {
   "cell_type": "code",
   "execution_count": 98,
   "metadata": {},
   "outputs": [
    {
     "data": {
      "text/plain": [
       "(891, 39)"
      ]
     },
     "execution_count": 98,
     "metadata": {},
     "output_type": "execute_result"
    }
   ],
   "source": [
    "X_train.shape"
   ]
  },
  {
   "cell_type": "code",
   "execution_count": 99,
   "metadata": {},
   "outputs": [
    {
     "data": {
      "text/plain": [
       "(891,)"
      ]
     },
     "execution_count": 99,
     "metadata": {},
     "output_type": "execute_result"
    }
   ],
   "source": [
    "Y_train.shape"
   ]
  },
  {
   "cell_type": "code",
   "execution_count": 100,
   "metadata": {},
   "outputs": [
    {
     "data": {
      "text/plain": [
       "(418, 39)"
      ]
     },
     "execution_count": 100,
     "metadata": {},
     "output_type": "execute_result"
    }
   ],
   "source": [
    "X_test.shape"
   ]
  },
  {
   "cell_type": "code",
   "execution_count": 101,
   "metadata": {},
   "outputs": [
    {
     "name": "stdout",
     "output_type": "stream",
     "text": [
      "<class 'pandas.core.frame.DataFrame'>\n",
      "RangeIndex: 891 entries, 0 to 890\n",
      "Data columns (total 39 columns):\n",
      "Sex                    891 non-null float64\n",
      "SibSp                  891 non-null float64\n",
      "Parch                  891 non-null float64\n",
      "Embarked               891 non-null float64\n",
      "relatives              891 non-null float64\n",
      "Age_Class              891 non-null float64\n",
      "Fare_Per_Person        891 non-null float64\n",
      "Pclass_Class1          891 non-null uint8\n",
      "Pclass_Class2          891 non-null uint8\n",
      "Pclass_Class3          891 non-null uint8\n",
      "Age_Adults             891 non-null uint8\n",
      "Age_Children           891 non-null uint8\n",
      "Age_Middle Age         891 non-null uint8\n",
      "Age_Retired            891 non-null uint8\n",
      "Age_Senior             891 non-null uint8\n",
      "Age_Teens              891 non-null uint8\n",
      "Age_Young Adults       891 non-null uint8\n",
      "Age_Youngsters         891 non-null uint8\n",
      "Fare_Extremely High    891 non-null uint8\n",
      "Fare_Extremely Low     891 non-null uint8\n",
      "Fare_High              891 non-null uint8\n",
      "Fare_Low               891 non-null uint8\n",
      "Fare_Very High         891 non-null uint8\n",
      "Fare_Very Low          891 non-null uint8\n",
      "travelled_alone_No     891 non-null uint8\n",
      "travelled_alone_Yes    891 non-null uint8\n",
      "Deck_A                 891 non-null uint8\n",
      "Deck_B                 891 non-null uint8\n",
      "Deck_C                 891 non-null uint8\n",
      "Deck_D                 891 non-null uint8\n",
      "Deck_E                 891 non-null uint8\n",
      "Deck_F                 891 non-null uint8\n",
      "Deck_G                 891 non-null uint8\n",
      "Deck_U                 891 non-null uint8\n",
      "Title_Master           891 non-null uint8\n",
      "Title_Miss             891 non-null uint8\n",
      "Title_Mr               891 non-null uint8\n",
      "Title_Mrs              891 non-null uint8\n",
      "Title_Rare             891 non-null uint8\n",
      "dtypes: float64(7), uint8(32)\n",
      "memory usage: 76.6 KB\n"
     ]
    }
   ],
   "source": [
    "X_train.info()"
   ]
  },
  {
   "cell_type": "markdown",
   "metadata": {},
   "source": [
    "## Logistic Regression"
   ]
  },
  {
   "cell_type": "code",
   "execution_count": null,
   "metadata": {},
   "outputs": [],
   "source": [
    "# Instantiate our model\n",
    "logreg = LogisticRegression()\n",
    "\n",
    "# Fit our model to the training data\n",
    "logreg.fit(X_train, Y_train)\n",
    "\n",
    "# Predict on the test data\n",
    "logreg_predictions = logreg.predict(X_test)\n",
    "\n",
    "logreg_data = pd.read_csv('data/test.csv')\n",
    "logreg_data.insert((logreg_data.shape[1]),'Survived',logreg_predictions)\n",
    "\n",
    "logreg_data.to_csv('LogisticRegression_SS_OH_FE2.csv')"
   ]
  },
  {
   "cell_type": "markdown",
   "metadata": {},
   "source": [
    "## Adaptive Boosting"
   ]
  },
  {
   "cell_type": "code",
   "execution_count": null,
   "metadata": {},
   "outputs": [],
   "source": [
    "# Instantiate our model\n",
    "adaboost = AdaBoostClassifier()\n",
    "\n",
    "# Fit our model to the training data\n",
    "adaboost.fit(X_train, Y_train)\n",
    "\n",
    "# Predict on the test data\n",
    "adaboost_predictions = adaboost.predict(X_test)\n",
    "\n",
    "adaboost_data = pd.read_csv('data/test.csv')\n",
    "adaboost_data.insert((adaboost_data.shape[1]),'Survived',adaboost_predictions)\n",
    "\n",
    "adaboost_data.to_csv('AdaptiveBoosting_SS_OH_FE.csv')"
   ]
  },
  {
   "cell_type": "markdown",
   "metadata": {},
   "source": [
    "## Bagging Classifier"
   ]
  },
  {
   "cell_type": "code",
   "execution_count": null,
   "metadata": {},
   "outputs": [],
   "source": [
    "# Instantiate our model\n",
    "bag = BaggingClassifier()\n",
    "\n",
    "# Fit our model to the training data\n",
    "bag.fit(X_train, Y_train)\n",
    "\n",
    "# Predict on the test data\n",
    "bag_predictions = bag.predict(X_test)\n",
    "\n",
    "bag_data = pd.read_csv('data/test.csv')\n",
    "bag_data.insert((bag_data.shape[1]),'Survived',bag_predictions)\n",
    "\n",
    "bag_data.to_csv('Bagging.csv')"
   ]
  },
  {
   "cell_type": "markdown",
   "metadata": {},
   "source": [
    "## Random Forest"
   ]
  },
  {
   "cell_type": "code",
   "execution_count": null,
   "metadata": {},
   "outputs": [],
   "source": [
    "random_forest = RandomForestClassifier(n_estimators=100)\n",
    "random_forest.fit(X_train, Y_train)\n",
    "\n",
    "random_forest_predictions = random_forest.predict(X_test)\n",
    "\n",
    "rf_data = pd.read_csv('data/test.csv')\n",
    "rf_data.insert((rf_data.shape[1]),'Survived',random_forest_predictions)\n",
    "\n",
    "rf_data.to_csv('RandomForest_SS_OH.csv')"
   ]
  },
  {
   "cell_type": "markdown",
   "metadata": {},
   "source": [
    "## Decision Trees"
   ]
  },
  {
   "cell_type": "code",
   "execution_count": null,
   "metadata": {},
   "outputs": [],
   "source": [
    "# Instantiate our model\n",
    "dt = DecisionTreeClassifier()\n",
    "dt.fit(X_train, Y_train)\n",
    "\n",
    "dt_predictions = dt.predict(X_test)\n",
    "\n",
    "dt_data = pd.read_csv('data/test.csv')\n",
    "dt_data.insert((dt_data.shape[1]),'Survived',dt_predictions)\n",
    "\n",
    "dt_data.to_csv('DecisionTrees.csv')"
   ]
  },
  {
   "cell_type": "markdown",
   "metadata": {},
   "source": [
    "## Gradient Boost"
   ]
  },
  {
   "cell_type": "code",
   "execution_count": null,
   "metadata": {},
   "outputs": [],
   "source": [
    "# Instantiate our model\n",
    "gb = GradientBoostingClassifier()\n",
    "gb.fit(X_train, Y_train)\n",
    "\n",
    "gb_predictions = gb.predict(X_test)\n",
    "\n",
    "gb_data = pd.read_csv('data/test.csv')\n",
    "gb_data.insert((gb_data.shape[1]),'Survived',gb_predictions)\n",
    "\n",
    "gb_data.to_csv('GradientBoost_SS_OH_FE.csv')"
   ]
  },
  {
   "cell_type": "markdown",
   "metadata": {},
   "source": [
    "## XGBoost"
   ]
  },
  {
   "cell_type": "code",
   "execution_count": null,
   "metadata": {},
   "outputs": [],
   "source": [
    "# Instantiate our model\n",
    "xg = XGBClassifier(learning_rate=0.02, n_estimators=750,\n",
    "                   max_depth= 3, min_child_weight= 1, \n",
    "                   colsample_bytree= 0.6, gamma= 0.0, \n",
    "                   reg_alpha= 0.001, subsample= 0.8\n",
    "                  )\n",
    "xg.fit(X_train, Y_train)\n",
    "\n",
    "xg_predictions = xg.predict(X_test)\n",
    "\n",
    "xg_data = pd.read_csv('data/test.csv')\n",
    "xg_data.insert((xg_data.shape[1]),'Survived',xg_predictions)\n",
    "\n",
    "xg_data.to_csv('XGBoost_SS_OH_FE_GSCV.csv')"
   ]
  },
  {
   "cell_type": "markdown",
   "metadata": {},
   "source": [
    "### Hyperparameter tuning - using GridSearchCV to find the best set of parameters"
   ]
  },
  {
   "cell_type": "code",
   "execution_count": null,
   "metadata": {},
   "outputs": [],
   "source": [
    "\n",
    "param_test1 = {\n",
    "    #'n_estimators': [100,200,500,750,1000],\n",
    "    #'max_depth': [3,5,7,9],\n",
    "    #'min_child_weight': [1,3,5],\n",
    "    'gamma':[i/10.0 for i in range(0,5)],\n",
    "    'subsample':[i/10.0 for i in range(6,10)],\n",
    "    'colsample_bytree':[i/10.0 for i in range(6,10)],\n",
    "    'reg_alpha':[0, 0.001, 0.005, 0.01, 0.05, 0.1, 1]\n",
    "    #'learning_rate': [0.01, 0.02, 0.05, 0.1]\n",
    "}\n",
    "\n",
    "scoring = {'AUC': 'roc_auc', 'Accuracy': make_scorer(accuracy_score)}\n",
    "\n",
    "'''\n",
    "fit_params={\"early_stopping_rounds\":42, \n",
    "            \"eval_metric\" : \"mae\", \n",
    "            \"eval_set\" : [[test_features, test_labels]]}\n",
    "            \n",
    "'''\n",
    "\n",
    "gsearch1 = GridSearchCV(estimator = XGBClassifier(learning_rate=0.02, n_estimators=750,\n",
    "                   max_depth= 3, min_child_weight= 1), \n",
    "                       param_grid = param_test1, #fit_params=fit_params,\n",
    "                       scoring=scoring, iid=False, cv=3, verbose = 5, refit='Accuracy')\n",
    "gsearch1.fit(X_train, Y_train)\n"
   ]
  },
  {
   "cell_type": "code",
   "execution_count": null,
   "metadata": {},
   "outputs": [],
   "source": [
    "#gsearch1.grid_scores_, \n",
    "gsearch1.best_params_, gsearch1.best_score_"
   ]
  },
  {
   "cell_type": "code",
   "execution_count": null,
   "metadata": {},
   "outputs": [],
   "source": [
    "results = gsearch1.cv_results_"
   ]
  },
  {
   "cell_type": "code",
   "execution_count": null,
   "metadata": {},
   "outputs": [],
   "source": [
    "results"
   ]
  },
  {
   "cell_type": "code",
   "execution_count": null,
   "metadata": {},
   "outputs": [],
   "source": [
    "gsearch1"
   ]
  },
  {
   "cell_type": "markdown",
   "metadata": {},
   "source": [
    "### Now let’s try to implement the XGBoost model with these set of parameters:"
   ]
  },
  {
   "cell_type": "code",
   "execution_count": null,
   "metadata": {},
   "outputs": [],
   "source": [
    "# Instantiate our model\n",
    "xg = XGBClassifier(learning_rate=0.02, n_estimators=750,\n",
    "                   max_depth= 3, min_child_weight= 1, \n",
    "                   colsample_bytree= 0.6, gamma= 0.0, \n",
    "                   reg_alpha= 0.001, subsample= 0.8\n",
    "                  )\n",
    "xg.fit(X_train, Y_train)\n",
    "xg_predictions = xg.predict(X_test)\n",
    "xg_data = pd.read_csv('data/test.csv')\n",
    "xg_data.insert((xg_data.shape[1]),'Survived',xg_predictions)\n",
    "xg_data.to_csv('XGBoost_SS_OH_FE_GSCV.csv')"
   ]
  },
  {
   "cell_type": "code",
   "execution_count": null,
   "metadata": {},
   "outputs": [],
   "source": [
    "# Instantiate our model\n",
    "xg = XGBClassifier(learning_rate=0.02, n_estimators=750,\n",
    "                   max_depth= 3, min_child_weight= 1, \n",
    "                   colsample_bytree= 0.6, gamma= 0.0, \n",
    "                   reg_alpha= 0.0, subsample= 0.7\n",
    "                  )\n",
    "xg.fit(X_train, Y_train)\n",
    "xg_predictions = xg.predict(X_test)\n",
    "xg_data = pd.read_csv('data/test.csv')\n",
    "xg_data.insert((xg_data.shape[1]),'Survived',xg_predictions)\n",
    "xg_data.to_csv('XGBoost_SS_OH_FE_GSCV_2.csv')"
   ]
  },
  {
   "cell_type": "markdown",
   "metadata": {},
   "source": [
    "## Keras\n",
    "\n",
    "### Using Keras to train our model, As Keras uses TensorFlow as backend, we will be importing Sequential and Dense"
   ]
  },
  {
   "cell_type": "code",
   "execution_count": 102,
   "metadata": {},
   "outputs": [
    {
     "name": "stderr",
     "output_type": "stream",
     "text": [
      "Using TensorFlow backend.\n"
     ]
    }
   ],
   "source": [
    "import keras\n",
    "from keras.models import Sequential\n",
    "from keras.layers import Dense"
   ]
  },
  {
   "cell_type": "code",
   "execution_count": 103,
   "metadata": {},
   "outputs": [
    {
     "name": "stderr",
     "output_type": "stream",
     "text": [
      "/Users/ryan/anaconda3/envs/py36-pytext/lib/python3.6/site-packages/ipykernel_launcher.py:8: UserWarning: Update your `Dense` call to the Keras 2 API: `Dense(activation=\"relu\", input_dim=39, units=3, kernel_initializer=\"uniform\")`\n",
      "  \n",
      "/Users/ryan/anaconda3/envs/py36-pytext/lib/python3.6/site-packages/ipykernel_launcher.py:10: UserWarning: Update your `Dense` call to the Keras 2 API: `Dense(activation=\"relu\", units=2, kernel_initializer=\"uniform\")`\n",
      "  # Remove the CWD from sys.path while we load stuff.\n",
      "/Users/ryan/anaconda3/envs/py36-pytext/lib/python3.6/site-packages/ipykernel_launcher.py:12: UserWarning: Update your `Dense` call to the Keras 2 API: `Dense(activation=\"sigmoid\", units=1, kernel_initializer=\"uniform\")`\n",
      "  if sys.path[0] == '':\n"
     ]
    }
   ],
   "source": [
    "# create object of the Sequential class\n",
    "classifier = Sequential()\n",
    "\n",
    "# adding layers to our classifier model, we are building a neural network with 3 layers, \n",
    "# we have 39 inputs (same as total columns) and 1 output\n",
    "\n",
    "#Input layer with 3 inputs neurons (same as total column of x_train)\n",
    "classifier.add(Dense(output_dim = 3, init = 'uniform', activation = 'relu', input_dim = 39))\n",
    "#Hidden layer\n",
    "classifier.add(Dense(output_dim = 2, init = 'uniform', activation = 'relu'))\n",
    "#output layer with 1 output neuron which will predict 1 or 0\n",
    "classifier.add(Dense(output_dim = 1, init = 'uniform', activation = 'sigmoid'))\n",
    "\n",
    "# We have added layers to our model, now its time to compile it\n",
    "classifier.compile(optimizer = 'adam', loss = 'binary_crossentropy', metrics = ['accuracy'])"
   ]
  },
  {
   "cell_type": "markdown",
   "metadata": {},
   "source": [
    "Now we are going to provide the training data to our model so that it can learn, We are using epoch = 100, it is perfect in this case so that our model do not overfit"
   ]
  },
  {
   "cell_type": "code",
   "execution_count": 115,
   "metadata": {},
   "outputs": [
    {
     "name": "stdout",
     "output_type": "stream",
     "text": [
      "Epoch 1/1000\n",
      "891/891 [==============================] - 0s 45us/step - loss: 0.3380 - acc: 0.8732\n",
      "Epoch 2/1000\n",
      "891/891 [==============================] - 0s 47us/step - loss: 0.3381 - acc: 0.8709\n",
      "Epoch 3/1000\n",
      "891/891 [==============================] - 0s 38us/step - loss: 0.3387 - acc: 0.8754\n",
      "Epoch 4/1000\n",
      "891/891 [==============================] - 0s 37us/step - loss: 0.3380 - acc: 0.8709\n",
      "Epoch 5/1000\n",
      "891/891 [==============================] - 0s 45us/step - loss: 0.3382 - acc: 0.8732\n",
      "Epoch 6/1000\n",
      "891/891 [==============================] - 0s 56us/step - loss: 0.3378 - acc: 0.8709\n",
      "Epoch 7/1000\n",
      "891/891 [==============================] - 0s 40us/step - loss: 0.3392 - acc: 0.8687\n",
      "Epoch 8/1000\n",
      "891/891 [==============================] - 0s 41us/step - loss: 0.3379 - acc: 0.8732\n",
      "Epoch 9/1000\n",
      "891/891 [==============================] - 0s 40us/step - loss: 0.3375 - acc: 0.8732\n",
      "Epoch 10/1000\n",
      "891/891 [==============================] - 0s 42us/step - loss: 0.3380 - acc: 0.8709\n",
      "Epoch 11/1000\n",
      "891/891 [==============================] - 0s 44us/step - loss: 0.3376 - acc: 0.8754\n",
      "Epoch 12/1000\n",
      "891/891 [==============================] - 0s 40us/step - loss: 0.3382 - acc: 0.8709\n",
      "Epoch 13/1000\n",
      "891/891 [==============================] - 0s 40us/step - loss: 0.3385 - acc: 0.8721\n",
      "Epoch 14/1000\n",
      "891/891 [==============================] - 0s 41us/step - loss: 0.3383 - acc: 0.8743\n",
      "Epoch 15/1000\n",
      "891/891 [==============================] - 0s 39us/step - loss: 0.3376 - acc: 0.8732\n",
      "Epoch 16/1000\n",
      "891/891 [==============================] - 0s 43us/step - loss: 0.3379 - acc: 0.8754\n",
      "Epoch 17/1000\n",
      "891/891 [==============================] - 0s 47us/step - loss: 0.3388 - acc: 0.8687\n",
      "Epoch 18/1000\n",
      "891/891 [==============================] - 0s 44us/step - loss: 0.3372 - acc: 0.8743\n",
      "Epoch 19/1000\n",
      "891/891 [==============================] - 0s 38us/step - loss: 0.3377 - acc: 0.8743\n",
      "Epoch 20/1000\n",
      "891/891 [==============================] - 0s 39us/step - loss: 0.3377 - acc: 0.8721\n",
      "Epoch 21/1000\n",
      "891/891 [==============================] - 0s 40us/step - loss: 0.3377 - acc: 0.8721\n",
      "Epoch 22/1000\n",
      "891/891 [==============================] - 0s 40us/step - loss: 0.3369 - acc: 0.8743\n",
      "Epoch 23/1000\n",
      "891/891 [==============================] - 0s 40us/step - loss: 0.3375 - acc: 0.8754\n",
      "Epoch 24/1000\n",
      "891/891 [==============================] - 0s 41us/step - loss: 0.3373 - acc: 0.8765\n",
      "Epoch 25/1000\n",
      "891/891 [==============================] - 0s 40us/step - loss: 0.3377 - acc: 0.8754\n",
      "Epoch 26/1000\n",
      "891/891 [==============================] - 0s 40us/step - loss: 0.3375 - acc: 0.8743\n",
      "Epoch 27/1000\n",
      "891/891 [==============================] - 0s 40us/step - loss: 0.3376 - acc: 0.8721\n",
      "Epoch 28/1000\n",
      "891/891 [==============================] - 0s 37us/step - loss: 0.3370 - acc: 0.8765\n",
      "Epoch 29/1000\n",
      "891/891 [==============================] - 0s 42us/step - loss: 0.3368 - acc: 0.8743\n",
      "Epoch 30/1000\n",
      "891/891 [==============================] - 0s 40us/step - loss: 0.3366 - acc: 0.8732\n",
      "Epoch 31/1000\n",
      "891/891 [==============================] - 0s 41us/step - loss: 0.3375 - acc: 0.8743\n",
      "Epoch 32/1000\n",
      "891/891 [==============================] - 0s 39us/step - loss: 0.3375 - acc: 0.8777\n",
      "Epoch 33/1000\n",
      "891/891 [==============================] - 0s 39us/step - loss: 0.3370 - acc: 0.8743\n",
      "Epoch 34/1000\n",
      "891/891 [==============================] - 0s 40us/step - loss: 0.3367 - acc: 0.8754\n",
      "Epoch 35/1000\n",
      "891/891 [==============================] - 0s 46us/step - loss: 0.3368 - acc: 0.8743\n",
      "Epoch 36/1000\n",
      "891/891 [==============================] - 0s 46us/step - loss: 0.3366 - acc: 0.8788\n",
      "Epoch 37/1000\n",
      "891/891 [==============================] - 0s 41us/step - loss: 0.3368 - acc: 0.8765\n",
      "Epoch 38/1000\n",
      "891/891 [==============================] - 0s 41us/step - loss: 0.3366 - acc: 0.8765\n",
      "Epoch 39/1000\n",
      "891/891 [==============================] - 0s 44us/step - loss: 0.3365 - acc: 0.8743\n",
      "Epoch 40/1000\n",
      "891/891 [==============================] - 0s 43us/step - loss: 0.3367 - acc: 0.8732\n",
      "Epoch 41/1000\n",
      "891/891 [==============================] - 0s 40us/step - loss: 0.3364 - acc: 0.8777\n",
      "Epoch 42/1000\n",
      "891/891 [==============================] - 0s 42us/step - loss: 0.3374 - acc: 0.8777\n",
      "Epoch 43/1000\n",
      "891/891 [==============================] - 0s 39us/step - loss: 0.3366 - acc: 0.8743\n",
      "Epoch 44/1000\n",
      "891/891 [==============================] - 0s 40us/step - loss: 0.3363 - acc: 0.8765\n",
      "Epoch 45/1000\n",
      "891/891 [==============================] - 0s 40us/step - loss: 0.3368 - acc: 0.8754\n",
      "Epoch 46/1000\n",
      "891/891 [==============================] - 0s 41us/step - loss: 0.3360 - acc: 0.8777\n",
      "Epoch 47/1000\n",
      "891/891 [==============================] - 0s 41us/step - loss: 0.3363 - acc: 0.8765\n",
      "Epoch 48/1000\n",
      "891/891 [==============================] - 0s 42us/step - loss: 0.3362 - acc: 0.8777\n",
      "Epoch 49/1000\n",
      "891/891 [==============================] - 0s 42us/step - loss: 0.3369 - acc: 0.8754\n",
      "Epoch 50/1000\n",
      "891/891 [==============================] - 0s 39us/step - loss: 0.3364 - acc: 0.8777\n",
      "Epoch 51/1000\n",
      "891/891 [==============================] - 0s 41us/step - loss: 0.3363 - acc: 0.8788\n",
      "Epoch 52/1000\n",
      "891/891 [==============================] - 0s 40us/step - loss: 0.3368 - acc: 0.8777\n",
      "Epoch 53/1000\n",
      "891/891 [==============================] - 0s 45us/step - loss: 0.3364 - acc: 0.8765\n",
      "Epoch 54/1000\n",
      "891/891 [==============================] - 0s 48us/step - loss: 0.3364 - acc: 0.8788\n",
      "Epoch 55/1000\n",
      "891/891 [==============================] - 0s 41us/step - loss: 0.3371 - acc: 0.8765\n",
      "Epoch 56/1000\n",
      "891/891 [==============================] - 0s 40us/step - loss: 0.3365 - acc: 0.8754\n",
      "Epoch 57/1000\n",
      "891/891 [==============================] - 0s 40us/step - loss: 0.3361 - acc: 0.8754\n",
      "Epoch 58/1000\n",
      "891/891 [==============================] - 0s 40us/step - loss: 0.3363 - acc: 0.8754\n",
      "Epoch 59/1000\n",
      "891/891 [==============================] - 0s 39us/step - loss: 0.3372 - acc: 0.8799\n",
      "Epoch 60/1000\n",
      "891/891 [==============================] - 0s 39us/step - loss: 0.3376 - acc: 0.8698\n",
      "Epoch 61/1000\n",
      "891/891 [==============================] - 0s 40us/step - loss: 0.3355 - acc: 0.8788\n",
      "Epoch 62/1000\n",
      "891/891 [==============================] - 0s 40us/step - loss: 0.3360 - acc: 0.8765\n",
      "Epoch 63/1000\n",
      "891/891 [==============================] - 0s 39us/step - loss: 0.3358 - acc: 0.8777\n",
      "Epoch 64/1000\n",
      "891/891 [==============================] - 0s 40us/step - loss: 0.3360 - acc: 0.8765\n",
      "Epoch 65/1000\n",
      "891/891 [==============================] - 0s 39us/step - loss: 0.3356 - acc: 0.8754\n",
      "Epoch 66/1000\n",
      "891/891 [==============================] - 0s 41us/step - loss: 0.3354 - acc: 0.8788\n",
      "Epoch 67/1000\n",
      "891/891 [==============================] - 0s 39us/step - loss: 0.3361 - acc: 0.8777\n",
      "Epoch 68/1000\n",
      "891/891 [==============================] - 0s 44us/step - loss: 0.3358 - acc: 0.8765\n",
      "Epoch 69/1000\n",
      "891/891 [==============================] - 0s 41us/step - loss: 0.3360 - acc: 0.8765\n",
      "Epoch 70/1000\n",
      "891/891 [==============================] - 0s 40us/step - loss: 0.3355 - acc: 0.8754\n",
      "Epoch 71/1000\n",
      "891/891 [==============================] - 0s 45us/step - loss: 0.3353 - acc: 0.8765\n",
      "Epoch 72/1000\n",
      "891/891 [==============================] - 0s 45us/step - loss: 0.3355 - acc: 0.8799\n",
      "Epoch 73/1000\n",
      "891/891 [==============================] - 0s 44us/step - loss: 0.3356 - acc: 0.8788\n",
      "Epoch 74/1000\n",
      "891/891 [==============================] - 0s 42us/step - loss: 0.3354 - acc: 0.8765\n",
      "Epoch 75/1000\n",
      "891/891 [==============================] - 0s 41us/step - loss: 0.3362 - acc: 0.8765\n",
      "Epoch 76/1000\n",
      "891/891 [==============================] - 0s 38us/step - loss: 0.3354 - acc: 0.8765\n",
      "Epoch 77/1000\n",
      "891/891 [==============================] - 0s 41us/step - loss: 0.3363 - acc: 0.8788\n",
      "Epoch 78/1000\n",
      "891/891 [==============================] - 0s 41us/step - loss: 0.3357 - acc: 0.8765\n",
      "Epoch 79/1000\n",
      "891/891 [==============================] - 0s 40us/step - loss: 0.3355 - acc: 0.8743\n",
      "Epoch 80/1000\n",
      "891/891 [==============================] - 0s 42us/step - loss: 0.3352 - acc: 0.8788\n",
      "Epoch 81/1000\n",
      "891/891 [==============================] - 0s 39us/step - loss: 0.3355 - acc: 0.8743\n",
      "Epoch 82/1000\n",
      "891/891 [==============================] - 0s 43us/step - loss: 0.3359 - acc: 0.8765\n",
      "Epoch 83/1000\n"
     ]
    },
    {
     "name": "stdout",
     "output_type": "stream",
     "text": [
      "891/891 [==============================] - 0s 40us/step - loss: 0.3348 - acc: 0.8777\n",
      "Epoch 84/1000\n",
      "891/891 [==============================] - 0s 41us/step - loss: 0.3351 - acc: 0.8788\n",
      "Epoch 85/1000\n",
      "891/891 [==============================] - 0s 43us/step - loss: 0.3351 - acc: 0.8788\n",
      "Epoch 86/1000\n",
      "891/891 [==============================] - 0s 38us/step - loss: 0.3350 - acc: 0.8777\n",
      "Epoch 87/1000\n",
      "891/891 [==============================] - 0s 39us/step - loss: 0.3353 - acc: 0.8765\n",
      "Epoch 88/1000\n",
      "891/891 [==============================] - 0s 38us/step - loss: 0.3349 - acc: 0.8777\n",
      "Epoch 89/1000\n",
      "891/891 [==============================] - 0s 38us/step - loss: 0.3348 - acc: 0.8754\n",
      "Epoch 90/1000\n",
      "891/891 [==============================] - 0s 42us/step - loss: 0.3354 - acc: 0.8788\n",
      "Epoch 91/1000\n",
      "891/891 [==============================] - 0s 44us/step - loss: 0.3356 - acc: 0.8754\n",
      "Epoch 92/1000\n",
      "891/891 [==============================] - 0s 39us/step - loss: 0.3351 - acc: 0.8743\n",
      "Epoch 93/1000\n",
      "891/891 [==============================] - 0s 38us/step - loss: 0.3348 - acc: 0.8777\n",
      "Epoch 94/1000\n",
      "891/891 [==============================] - 0s 38us/step - loss: 0.3346 - acc: 0.8765\n",
      "Epoch 95/1000\n",
      "891/891 [==============================] - 0s 39us/step - loss: 0.3351 - acc: 0.8721\n",
      "Epoch 96/1000\n",
      "891/891 [==============================] - 0s 38us/step - loss: 0.3345 - acc: 0.8754\n",
      "Epoch 97/1000\n",
      "891/891 [==============================] - 0s 42us/step - loss: 0.3344 - acc: 0.8777\n",
      "Epoch 98/1000\n",
      "891/891 [==============================] - 0s 45us/step - loss: 0.3347 - acc: 0.8765\n",
      "Epoch 99/1000\n",
      "891/891 [==============================] - 0s 42us/step - loss: 0.3353 - acc: 0.8754\n",
      "Epoch 100/1000\n",
      "891/891 [==============================] - 0s 42us/step - loss: 0.3344 - acc: 0.8788\n",
      "Epoch 101/1000\n",
      "891/891 [==============================] - 0s 40us/step - loss: 0.3347 - acc: 0.8754\n",
      "Epoch 102/1000\n",
      "891/891 [==============================] - 0s 41us/step - loss: 0.3352 - acc: 0.8732\n",
      "Epoch 103/1000\n",
      "891/891 [==============================] - 0s 43us/step - loss: 0.3348 - acc: 0.8743\n",
      "Epoch 104/1000\n",
      "891/891 [==============================] - 0s 41us/step - loss: 0.3348 - acc: 0.8799\n",
      "Epoch 105/1000\n",
      "891/891 [==============================] - 0s 39us/step - loss: 0.3346 - acc: 0.8743\n",
      "Epoch 106/1000\n",
      "891/891 [==============================] - 0s 39us/step - loss: 0.3342 - acc: 0.8777\n",
      "Epoch 107/1000\n",
      "891/891 [==============================] - 0s 42us/step - loss: 0.3340 - acc: 0.8765\n",
      "Epoch 108/1000\n",
      "891/891 [==============================] - 0s 39us/step - loss: 0.3343 - acc: 0.8777\n",
      "Epoch 109/1000\n",
      "891/891 [==============================] - 0s 39us/step - loss: 0.3344 - acc: 0.8765\n",
      "Epoch 110/1000\n",
      "891/891 [==============================] - 0s 43us/step - loss: 0.3349 - acc: 0.8732\n",
      "Epoch 111/1000\n",
      "891/891 [==============================] - 0s 42us/step - loss: 0.3344 - acc: 0.8721\n",
      "Epoch 112/1000\n",
      "891/891 [==============================] - 0s 42us/step - loss: 0.3338 - acc: 0.8765\n",
      "Epoch 113/1000\n",
      "891/891 [==============================] - 0s 43us/step - loss: 0.3344 - acc: 0.8754\n",
      "Epoch 114/1000\n",
      "891/891 [==============================] - 0s 42us/step - loss: 0.3345 - acc: 0.8754\n",
      "Epoch 115/1000\n",
      "891/891 [==============================] - 0s 41us/step - loss: 0.3345 - acc: 0.8765\n",
      "Epoch 116/1000\n",
      "891/891 [==============================] - 0s 46us/step - loss: 0.3345 - acc: 0.8765\n",
      "Epoch 117/1000\n",
      "891/891 [==============================] - 0s 47us/step - loss: 0.3342 - acc: 0.8754\n",
      "Epoch 118/1000\n",
      "891/891 [==============================] - 0s 43us/step - loss: 0.3342 - acc: 0.8709\n",
      "Epoch 119/1000\n",
      "891/891 [==============================] - 0s 39us/step - loss: 0.3334 - acc: 0.8777\n",
      "Epoch 120/1000\n",
      "891/891 [==============================] - 0s 40us/step - loss: 0.3337 - acc: 0.8754\n",
      "Epoch 121/1000\n",
      "891/891 [==============================] - 0s 42us/step - loss: 0.3332 - acc: 0.8743\n",
      "Epoch 122/1000\n",
      "891/891 [==============================] - 0s 42us/step - loss: 0.3335 - acc: 0.8765\n",
      "Epoch 123/1000\n",
      "891/891 [==============================] - 0s 41us/step - loss: 0.3333 - acc: 0.8743\n",
      "Epoch 124/1000\n",
      "891/891 [==============================] - 0s 41us/step - loss: 0.3337 - acc: 0.8754\n",
      "Epoch 125/1000\n",
      "891/891 [==============================] - 0s 41us/step - loss: 0.3334 - acc: 0.8732\n",
      "Epoch 126/1000\n",
      "891/891 [==============================] - 0s 43us/step - loss: 0.3341 - acc: 0.8732\n",
      "Epoch 127/1000\n",
      "891/891 [==============================] - 0s 42us/step - loss: 0.3330 - acc: 0.8732\n",
      "Epoch 128/1000\n",
      "891/891 [==============================] - 0s 42us/step - loss: 0.3333 - acc: 0.8799\n",
      "Epoch 129/1000\n",
      "891/891 [==============================] - 0s 41us/step - loss: 0.3331 - acc: 0.8732\n",
      "Epoch 130/1000\n",
      "891/891 [==============================] - 0s 42us/step - loss: 0.3327 - acc: 0.8732\n",
      "Epoch 131/1000\n",
      "891/891 [==============================] - 0s 42us/step - loss: 0.3335 - acc: 0.8799\n",
      "Epoch 132/1000\n",
      "891/891 [==============================] - 0s 41us/step - loss: 0.3324 - acc: 0.8754\n",
      "Epoch 133/1000\n",
      "891/891 [==============================] - 0s 44us/step - loss: 0.3326 - acc: 0.8732\n",
      "Epoch 134/1000\n",
      "891/891 [==============================] - 0s 46us/step - loss: 0.3330 - acc: 0.8754\n",
      "Epoch 135/1000\n",
      "891/891 [==============================] - 0s 46us/step - loss: 0.3331 - acc: 0.8709\n",
      "Epoch 136/1000\n",
      "891/891 [==============================] - 0s 42us/step - loss: 0.3333 - acc: 0.8743\n",
      "Epoch 137/1000\n",
      "891/891 [==============================] - 0s 39us/step - loss: 0.3326 - acc: 0.8743\n",
      "Epoch 138/1000\n",
      "891/891 [==============================] - 0s 41us/step - loss: 0.3330 - acc: 0.8777\n",
      "Epoch 139/1000\n",
      "891/891 [==============================] - 0s 45us/step - loss: 0.3333 - acc: 0.8698\n",
      "Epoch 140/1000\n",
      "891/891 [==============================] - 0s 39us/step - loss: 0.3320 - acc: 0.8765\n",
      "Epoch 141/1000\n",
      "891/891 [==============================] - 0s 42us/step - loss: 0.3328 - acc: 0.8732\n",
      "Epoch 142/1000\n",
      "891/891 [==============================] - 0s 42us/step - loss: 0.3323 - acc: 0.8754\n",
      "Epoch 143/1000\n",
      "891/891 [==============================] - 0s 41us/step - loss: 0.3329 - acc: 0.8743\n",
      "Epoch 144/1000\n",
      "891/891 [==============================] - 0s 43us/step - loss: 0.3322 - acc: 0.8732\n",
      "Epoch 145/1000\n",
      "891/891 [==============================] - 0s 40us/step - loss: 0.3320 - acc: 0.8743\n",
      "Epoch 146/1000\n",
      "891/891 [==============================] - 0s 41us/step - loss: 0.3324 - acc: 0.8788\n",
      "Epoch 147/1000\n",
      "891/891 [==============================] - 0s 39us/step - loss: 0.3326 - acc: 0.8743\n",
      "Epoch 148/1000\n",
      "891/891 [==============================] - 0s 42us/step - loss: 0.3328 - acc: 0.8732\n",
      "Epoch 149/1000\n",
      "891/891 [==============================] - 0s 44us/step - loss: 0.3327 - acc: 0.8788\n",
      "Epoch 150/1000\n",
      "891/891 [==============================] - 0s 45us/step - loss: 0.3322 - acc: 0.8754\n",
      "Epoch 151/1000\n",
      "891/891 [==============================] - 0s 45us/step - loss: 0.3322 - acc: 0.8754\n",
      "Epoch 152/1000\n",
      "891/891 [==============================] - 0s 43us/step - loss: 0.3326 - acc: 0.8810\n",
      "Epoch 153/1000\n",
      "891/891 [==============================] - 0s 42us/step - loss: 0.3322 - acc: 0.8721\n",
      "Epoch 154/1000\n",
      "891/891 [==============================] - 0s 41us/step - loss: 0.3324 - acc: 0.8799\n",
      "Epoch 155/1000\n",
      "891/891 [==============================] - 0s 44us/step - loss: 0.3329 - acc: 0.8777\n",
      "Epoch 156/1000\n",
      "891/891 [==============================] - 0s 41us/step - loss: 0.3328 - acc: 0.8754\n",
      "Epoch 157/1000\n",
      "891/891 [==============================] - 0s 41us/step - loss: 0.3323 - acc: 0.8743\n",
      "Epoch 158/1000\n",
      "891/891 [==============================] - 0s 41us/step - loss: 0.3318 - acc: 0.8788\n",
      "Epoch 159/1000\n",
      "891/891 [==============================] - 0s 38us/step - loss: 0.3319 - acc: 0.8743\n",
      "Epoch 160/1000\n",
      "891/891 [==============================] - 0s 39us/step - loss: 0.3320 - acc: 0.8810\n",
      "Epoch 161/1000\n",
      "891/891 [==============================] - 0s 40us/step - loss: 0.3315 - acc: 0.8743\n",
      "Epoch 162/1000\n",
      "891/891 [==============================] - 0s 41us/step - loss: 0.3314 - acc: 0.8765\n",
      "Epoch 163/1000\n",
      "891/891 [==============================] - 0s 40us/step - loss: 0.3310 - acc: 0.8754\n",
      "Epoch 164/1000\n",
      "891/891 [==============================] - 0s 41us/step - loss: 0.3315 - acc: 0.8777\n",
      "Epoch 165/1000\n"
     ]
    },
    {
     "name": "stdout",
     "output_type": "stream",
     "text": [
      "891/891 [==============================] - 0s 44us/step - loss: 0.3319 - acc: 0.8754\n",
      "Epoch 166/1000\n",
      "891/891 [==============================] - 0s 42us/step - loss: 0.3311 - acc: 0.8777\n",
      "Epoch 167/1000\n",
      "891/891 [==============================] - 0s 43us/step - loss: 0.3312 - acc: 0.8777\n",
      "Epoch 168/1000\n",
      "891/891 [==============================] - 0s 45us/step - loss: 0.3314 - acc: 0.8765\n",
      "Epoch 169/1000\n",
      "891/891 [==============================] - 0s 45us/step - loss: 0.3315 - acc: 0.8765\n",
      "Epoch 170/1000\n",
      "891/891 [==============================] - 0s 41us/step - loss: 0.3310 - acc: 0.8788\n",
      "Epoch 171/1000\n",
      "891/891 [==============================] - 0s 43us/step - loss: 0.3309 - acc: 0.8754\n",
      "Epoch 172/1000\n",
      "891/891 [==============================] - 0s 43us/step - loss: 0.3320 - acc: 0.8788\n",
      "Epoch 173/1000\n",
      "891/891 [==============================] - 0s 42us/step - loss: 0.3314 - acc: 0.8743\n",
      "Epoch 174/1000\n",
      "891/891 [==============================] - 0s 43us/step - loss: 0.3318 - acc: 0.8732\n",
      "Epoch 175/1000\n",
      "891/891 [==============================] - 0s 40us/step - loss: 0.3313 - acc: 0.8777\n",
      "Epoch 176/1000\n",
      "891/891 [==============================] - 0s 40us/step - loss: 0.3311 - acc: 0.8765\n",
      "Epoch 177/1000\n",
      "891/891 [==============================] - 0s 42us/step - loss: 0.3306 - acc: 0.8743\n",
      "Epoch 178/1000\n",
      "891/891 [==============================] - 0s 40us/step - loss: 0.3311 - acc: 0.8777\n",
      "Epoch 179/1000\n",
      "891/891 [==============================] - 0s 41us/step - loss: 0.3323 - acc: 0.8777\n",
      "Epoch 180/1000\n",
      "891/891 [==============================] - 0s 41us/step - loss: 0.3310 - acc: 0.8765\n",
      "Epoch 181/1000\n",
      "891/891 [==============================] - 0s 40us/step - loss: 0.3313 - acc: 0.8721\n",
      "Epoch 182/1000\n",
      "891/891 [==============================] - 0s 40us/step - loss: 0.3306 - acc: 0.8765\n",
      "Epoch 183/1000\n",
      "891/891 [==============================] - 0s 42us/step - loss: 0.3306 - acc: 0.8777\n",
      "Epoch 184/1000\n",
      "891/891 [==============================] - 0s 42us/step - loss: 0.3315 - acc: 0.8754\n",
      "Epoch 185/1000\n",
      "891/891 [==============================] - 0s 45us/step - loss: 0.3306 - acc: 0.8833\n",
      "Epoch 186/1000\n",
      "891/891 [==============================] - 0s 46us/step - loss: 0.3308 - acc: 0.8743\n",
      "Epoch 187/1000\n",
      "891/891 [==============================] - 0s 43us/step - loss: 0.3310 - acc: 0.8777\n",
      "Epoch 188/1000\n",
      "891/891 [==============================] - 0s 54us/step - loss: 0.3310 - acc: 0.8765\n",
      "Epoch 189/1000\n",
      "891/891 [==============================] - 0s 39us/step - loss: 0.3323 - acc: 0.8777\n",
      "Epoch 190/1000\n",
      "891/891 [==============================] - 0s 40us/step - loss: 0.3306 - acc: 0.8698\n",
      "Epoch 191/1000\n",
      "891/891 [==============================] - 0s 41us/step - loss: 0.3304 - acc: 0.8777\n",
      "Epoch 192/1000\n",
      "891/891 [==============================] - 0s 41us/step - loss: 0.3304 - acc: 0.8754\n",
      "Epoch 193/1000\n",
      "891/891 [==============================] - 0s 41us/step - loss: 0.3304 - acc: 0.8799\n",
      "Epoch 194/1000\n",
      "891/891 [==============================] - 0s 40us/step - loss: 0.3305 - acc: 0.8721\n",
      "Epoch 195/1000\n",
      "891/891 [==============================] - 0s 41us/step - loss: 0.3298 - acc: 0.8777\n",
      "Epoch 196/1000\n",
      "891/891 [==============================] - 0s 41us/step - loss: 0.3306 - acc: 0.8765\n",
      "Epoch 197/1000\n",
      "891/891 [==============================] - 0s 40us/step - loss: 0.3299 - acc: 0.8799\n",
      "Epoch 198/1000\n",
      "891/891 [==============================] - 0s 43us/step - loss: 0.3307 - acc: 0.8777\n",
      "Epoch 199/1000\n",
      "891/891 [==============================] - 0s 42us/step - loss: 0.3301 - acc: 0.8743\n",
      "Epoch 200/1000\n",
      "891/891 [==============================] - 0s 42us/step - loss: 0.3314 - acc: 0.8788\n",
      "Epoch 201/1000\n",
      "891/891 [==============================] - 0s 41us/step - loss: 0.3305 - acc: 0.8754\n",
      "Epoch 202/1000\n",
      "891/891 [==============================] - 0s 40us/step - loss: 0.3312 - acc: 0.8788\n",
      "Epoch 203/1000\n",
      "891/891 [==============================] - 0s 47us/step - loss: 0.3292 - acc: 0.8788\n",
      "Epoch 204/1000\n",
      "891/891 [==============================] - 0s 46us/step - loss: 0.3299 - acc: 0.8788\n",
      "Epoch 205/1000\n",
      "891/891 [==============================] - 0s 43us/step - loss: 0.3304 - acc: 0.8754\n",
      "Epoch 206/1000\n",
      "891/891 [==============================] - 0s 41us/step - loss: 0.3306 - acc: 0.8777\n",
      "Epoch 207/1000\n",
      "891/891 [==============================] - 0s 41us/step - loss: 0.3297 - acc: 0.8799\n",
      "Epoch 208/1000\n",
      "891/891 [==============================] - 0s 40us/step - loss: 0.3300 - acc: 0.8799\n",
      "Epoch 209/1000\n",
      "891/891 [==============================] - 0s 40us/step - loss: 0.3297 - acc: 0.8777\n",
      "Epoch 210/1000\n",
      "891/891 [==============================] - 0s 38us/step - loss: 0.3303 - acc: 0.8743\n",
      "Epoch 211/1000\n",
      "891/891 [==============================] - 0s 43us/step - loss: 0.3303 - acc: 0.8777\n",
      "Epoch 212/1000\n",
      "891/891 [==============================] - 0s 39us/step - loss: 0.3300 - acc: 0.8777\n",
      "Epoch 213/1000\n",
      "891/891 [==============================] - 0s 38us/step - loss: 0.3292 - acc: 0.8765\n",
      "Epoch 214/1000\n",
      "891/891 [==============================] - 0s 38us/step - loss: 0.3294 - acc: 0.8765\n",
      "Epoch 215/1000\n",
      "891/891 [==============================] - 0s 40us/step - loss: 0.3306 - acc: 0.8788\n",
      "Epoch 216/1000\n",
      "891/891 [==============================] - 0s 41us/step - loss: 0.3296 - acc: 0.8709\n",
      "Epoch 217/1000\n",
      "891/891 [==============================] - 0s 43us/step - loss: 0.3292 - acc: 0.8777\n",
      "Epoch 218/1000\n",
      "891/891 [==============================] - 0s 39us/step - loss: 0.3295 - acc: 0.8810\n",
      "Epoch 219/1000\n",
      "891/891 [==============================] - 0s 41us/step - loss: 0.3299 - acc: 0.8799\n",
      "Epoch 220/1000\n",
      "891/891 [==============================] - 0s 42us/step - loss: 0.3295 - acc: 0.8799\n",
      "Epoch 221/1000\n",
      "891/891 [==============================] - 0s 47us/step - loss: 0.3300 - acc: 0.8799\n",
      "Epoch 222/1000\n",
      "891/891 [==============================] - 0s 47us/step - loss: 0.3290 - acc: 0.8799\n",
      "Epoch 223/1000\n",
      "891/891 [==============================] - 0s 41us/step - loss: 0.3288 - acc: 0.8788\n",
      "Epoch 224/1000\n",
      "891/891 [==============================] - 0s 41us/step - loss: 0.3296 - acc: 0.8799\n",
      "Epoch 225/1000\n",
      "891/891 [==============================] - 0s 41us/step - loss: 0.3296 - acc: 0.8777\n",
      "Epoch 226/1000\n",
      "891/891 [==============================] - 0s 43us/step - loss: 0.3290 - acc: 0.8799\n",
      "Epoch 227/1000\n",
      "891/891 [==============================] - 0s 42us/step - loss: 0.3288 - acc: 0.8810\n",
      "Epoch 228/1000\n",
      "891/891 [==============================] - 0s 41us/step - loss: 0.3287 - acc: 0.8810\n",
      "Epoch 229/1000\n",
      "891/891 [==============================] - 0s 41us/step - loss: 0.3291 - acc: 0.8788\n",
      "Epoch 230/1000\n",
      "891/891 [==============================] - 0s 40us/step - loss: 0.3287 - acc: 0.8788\n",
      "Epoch 231/1000\n",
      "891/891 [==============================] - 0s 43us/step - loss: 0.3292 - acc: 0.8777\n",
      "Epoch 232/1000\n",
      "891/891 [==============================] - 0s 41us/step - loss: 0.3292 - acc: 0.8822\n",
      "Epoch 233/1000\n",
      "891/891 [==============================] - 0s 40us/step - loss: 0.3288 - acc: 0.8777\n",
      "Epoch 234/1000\n",
      "891/891 [==============================] - 0s 43us/step - loss: 0.3286 - acc: 0.8788\n",
      "Epoch 235/1000\n",
      "891/891 [==============================] - 0s 46us/step - loss: 0.3290 - acc: 0.8833\n",
      "Epoch 236/1000\n",
      "891/891 [==============================] - 0s 40us/step - loss: 0.3293 - acc: 0.8799\n",
      "Epoch 237/1000\n",
      "891/891 [==============================] - 0s 40us/step - loss: 0.3288 - acc: 0.8788\n",
      "Epoch 238/1000\n",
      "891/891 [==============================] - 0s 42us/step - loss: 0.3285 - acc: 0.8799\n",
      "Epoch 239/1000\n",
      "891/891 [==============================] - 0s 46us/step - loss: 0.3289 - acc: 0.8799\n",
      "Epoch 240/1000\n",
      "891/891 [==============================] - 0s 45us/step - loss: 0.3289 - acc: 0.8777\n",
      "Epoch 241/1000\n",
      "891/891 [==============================] - 0s 42us/step - loss: 0.3288 - acc: 0.8788\n",
      "Epoch 242/1000\n",
      "891/891 [==============================] - 0s 43us/step - loss: 0.3288 - acc: 0.8777\n",
      "Epoch 243/1000\n",
      "891/891 [==============================] - 0s 40us/step - loss: 0.3291 - acc: 0.8777\n",
      "Epoch 244/1000\n",
      "891/891 [==============================] - 0s 42us/step - loss: 0.3283 - acc: 0.8810\n",
      "Epoch 245/1000\n",
      "891/891 [==============================] - 0s 41us/step - loss: 0.3287 - acc: 0.8765\n",
      "Epoch 246/1000\n",
      "891/891 [==============================] - 0s 42us/step - loss: 0.3293 - acc: 0.8788\n",
      "Epoch 247/1000\n"
     ]
    },
    {
     "name": "stdout",
     "output_type": "stream",
     "text": [
      "891/891 [==============================] - 0s 40us/step - loss: 0.3288 - acc: 0.8788\n",
      "Epoch 248/1000\n",
      "891/891 [==============================] - 0s 40us/step - loss: 0.3294 - acc: 0.8765\n",
      "Epoch 249/1000\n",
      "891/891 [==============================] - 0s 43us/step - loss: 0.3290 - acc: 0.8822\n",
      "Epoch 250/1000\n",
      "891/891 [==============================] - 0s 41us/step - loss: 0.3282 - acc: 0.8788\n",
      "Epoch 251/1000\n",
      "891/891 [==============================] - 0s 41us/step - loss: 0.3290 - acc: 0.8799\n",
      "Epoch 252/1000\n",
      "891/891 [==============================] - 0s 40us/step - loss: 0.3290 - acc: 0.8810\n",
      "Epoch 253/1000\n",
      "891/891 [==============================] - 0s 41us/step - loss: 0.3284 - acc: 0.8754\n",
      "Epoch 254/1000\n",
      "891/891 [==============================] - 0s 42us/step - loss: 0.3282 - acc: 0.8799\n",
      "Epoch 255/1000\n",
      "891/891 [==============================] - 0s 43us/step - loss: 0.3294 - acc: 0.8799\n",
      "Epoch 256/1000\n",
      "891/891 [==============================] - 0s 48us/step - loss: 0.3278 - acc: 0.8765\n",
      "Epoch 257/1000\n",
      "891/891 [==============================] - 0s 46us/step - loss: 0.3290 - acc: 0.8799\n",
      "Epoch 258/1000\n",
      "891/891 [==============================] - 0s 41us/step - loss: 0.3296 - acc: 0.8743\n",
      "Epoch 259/1000\n",
      "891/891 [==============================] - 0s 41us/step - loss: 0.3294 - acc: 0.8799\n",
      "Epoch 260/1000\n",
      "891/891 [==============================] - 0s 41us/step - loss: 0.3280 - acc: 0.8777\n",
      "Epoch 261/1000\n",
      "891/891 [==============================] - 0s 43us/step - loss: 0.3289 - acc: 0.8754\n",
      "Epoch 262/1000\n",
      "891/891 [==============================] - 0s 40us/step - loss: 0.3287 - acc: 0.8799\n",
      "Epoch 263/1000\n",
      "891/891 [==============================] - 0s 39us/step - loss: 0.3281 - acc: 0.8788\n",
      "Epoch 264/1000\n",
      "891/891 [==============================] - 0s 42us/step - loss: 0.3277 - acc: 0.8777\n",
      "Epoch 265/1000\n",
      "891/891 [==============================] - 0s 40us/step - loss: 0.3282 - acc: 0.8810\n",
      "Epoch 266/1000\n",
      "891/891 [==============================] - 0s 40us/step - loss: 0.3280 - acc: 0.8799\n",
      "Epoch 267/1000\n",
      "891/891 [==============================] - 0s 41us/step - loss: 0.3278 - acc: 0.8788\n",
      "Epoch 268/1000\n",
      "891/891 [==============================] - 0s 42us/step - loss: 0.3282 - acc: 0.8765\n",
      "Epoch 269/1000\n",
      "891/891 [==============================] - 0s 40us/step - loss: 0.3285 - acc: 0.8777\n",
      "Epoch 270/1000\n",
      "891/891 [==============================] - 0s 39us/step - loss: 0.3276 - acc: 0.8777\n",
      "Epoch 271/1000\n",
      "891/891 [==============================] - 0s 41us/step - loss: 0.3282 - acc: 0.8788\n",
      "Epoch 272/1000\n",
      "891/891 [==============================] - 0s 39us/step - loss: 0.3277 - acc: 0.8788\n",
      "Epoch 273/1000\n",
      "891/891 [==============================] - 0s 44us/step - loss: 0.3278 - acc: 0.8799\n",
      "Epoch 274/1000\n",
      "891/891 [==============================] - 0s 48us/step - loss: 0.3280 - acc: 0.8810\n",
      "Epoch 275/1000\n",
      "891/891 [==============================] - 0s 47us/step - loss: 0.3277 - acc: 0.8799\n",
      "Epoch 276/1000\n",
      "891/891 [==============================] - 0s 41us/step - loss: 0.3275 - acc: 0.8788\n",
      "Epoch 277/1000\n",
      "891/891 [==============================] - 0s 41us/step - loss: 0.3274 - acc: 0.8799\n",
      "Epoch 278/1000\n",
      "891/891 [==============================] - 0s 40us/step - loss: 0.3275 - acc: 0.8788\n",
      "Epoch 279/1000\n",
      "891/891 [==============================] - 0s 43us/step - loss: 0.3277 - acc: 0.8799\n",
      "Epoch 280/1000\n",
      "891/891 [==============================] - 0s 43us/step - loss: 0.3281 - acc: 0.8788\n",
      "Epoch 281/1000\n",
      "891/891 [==============================] - 0s 47us/step - loss: 0.3272 - acc: 0.8799\n",
      "Epoch 282/1000\n",
      "891/891 [==============================] - 0s 45us/step - loss: 0.3273 - acc: 0.8799\n",
      "Epoch 283/1000\n",
      "891/891 [==============================] - 0s 49us/step - loss: 0.3273 - acc: 0.8777\n",
      "Epoch 284/1000\n",
      "891/891 [==============================] - 0s 44us/step - loss: 0.3275 - acc: 0.8754\n",
      "Epoch 285/1000\n",
      "891/891 [==============================] - 0s 41us/step - loss: 0.3272 - acc: 0.8788\n",
      "Epoch 286/1000\n",
      "891/891 [==============================] - 0s 43us/step - loss: 0.3274 - acc: 0.8788\n",
      "Epoch 287/1000\n",
      "891/891 [==============================] - 0s 40us/step - loss: 0.3273 - acc: 0.8810\n",
      "Epoch 288/1000\n",
      "891/891 [==============================] - 0s 43us/step - loss: 0.3271 - acc: 0.8788\n",
      "Epoch 289/1000\n",
      "891/891 [==============================] - 0s 41us/step - loss: 0.3276 - acc: 0.8810\n",
      "Epoch 290/1000\n",
      "891/891 [==============================] - 0s 41us/step - loss: 0.3272 - acc: 0.8810\n",
      "Epoch 291/1000\n",
      "891/891 [==============================] - 0s 38us/step - loss: 0.3274 - acc: 0.8754\n",
      "Epoch 292/1000\n",
      "891/891 [==============================] - 0s 40us/step - loss: 0.3269 - acc: 0.8799\n",
      "Epoch 293/1000\n",
      "891/891 [==============================] - 0s 40us/step - loss: 0.3270 - acc: 0.8777\n",
      "Epoch 294/1000\n",
      "891/891 [==============================] - 0s 40us/step - loss: 0.3271 - acc: 0.8799\n",
      "Epoch 295/1000\n",
      "891/891 [==============================] - 0s 41us/step - loss: 0.3266 - acc: 0.8799\n",
      "Epoch 296/1000\n",
      "891/891 [==============================] - 0s 42us/step - loss: 0.3267 - acc: 0.8799\n",
      "Epoch 297/1000\n",
      "891/891 [==============================] - 0s 44us/step - loss: 0.3270 - acc: 0.8777\n",
      "Epoch 298/1000\n",
      "891/891 [==============================] - 0s 42us/step - loss: 0.3270 - acc: 0.8799\n",
      "Epoch 299/1000\n",
      "891/891 [==============================] - 0s 41us/step - loss: 0.3274 - acc: 0.8822\n",
      "Epoch 300/1000\n",
      "891/891 [==============================] - 0s 47us/step - loss: 0.3276 - acc: 0.8799\n",
      "Epoch 301/1000\n",
      "891/891 [==============================] - 0s 44us/step - loss: 0.3270 - acc: 0.8777\n",
      "Epoch 302/1000\n",
      "891/891 [==============================] - 0s 41us/step - loss: 0.3263 - acc: 0.8810\n",
      "Epoch 303/1000\n",
      "891/891 [==============================] - 0s 38us/step - loss: 0.3267 - acc: 0.8799\n",
      "Epoch 304/1000\n",
      "891/891 [==============================] - 0s 37us/step - loss: 0.3267 - acc: 0.8788\n",
      "Epoch 305/1000\n",
      "891/891 [==============================] - 0s 39us/step - loss: 0.3267 - acc: 0.8777\n",
      "Epoch 306/1000\n",
      "891/891 [==============================] - 0s 39us/step - loss: 0.3272 - acc: 0.8799\n",
      "Epoch 307/1000\n",
      "891/891 [==============================] - 0s 40us/step - loss: 0.3270 - acc: 0.8810\n",
      "Epoch 308/1000\n",
      "891/891 [==============================] - 0s 40us/step - loss: 0.3266 - acc: 0.8765\n",
      "Epoch 309/1000\n",
      "891/891 [==============================] - 0s 38us/step - loss: 0.3265 - acc: 0.8799\n",
      "Epoch 310/1000\n",
      "891/891 [==============================] - 0s 39us/step - loss: 0.3272 - acc: 0.8810\n",
      "Epoch 311/1000\n",
      "891/891 [==============================] - 0s 40us/step - loss: 0.3269 - acc: 0.8799\n",
      "Epoch 312/1000\n",
      "891/891 [==============================] - 0s 38us/step - loss: 0.3266 - acc: 0.8799\n",
      "Epoch 313/1000\n",
      "891/891 [==============================] - 0s 38us/step - loss: 0.3268 - acc: 0.8799\n",
      "Epoch 314/1000\n",
      "891/891 [==============================] - 0s 38us/step - loss: 0.3265 - acc: 0.8799\n",
      "Epoch 315/1000\n",
      "891/891 [==============================] - 0s 42us/step - loss: 0.3268 - acc: 0.8788\n",
      "Epoch 316/1000\n",
      "891/891 [==============================] - 0s 42us/step - loss: 0.3269 - acc: 0.8788\n",
      "Epoch 317/1000\n",
      "891/891 [==============================] - 0s 42us/step - loss: 0.3262 - acc: 0.8777\n",
      "Epoch 318/1000\n",
      "891/891 [==============================] - 0s 44us/step - loss: 0.3267 - acc: 0.8799\n",
      "Epoch 319/1000\n",
      "891/891 [==============================] - 0s 47us/step - loss: 0.3260 - acc: 0.8799\n",
      "Epoch 320/1000\n",
      "891/891 [==============================] - 0s 46us/step - loss: 0.3270 - acc: 0.8777\n",
      "Epoch 321/1000\n",
      "891/891 [==============================] - 0s 41us/step - loss: 0.3260 - acc: 0.8799\n",
      "Epoch 322/1000\n",
      "891/891 [==============================] - 0s 40us/step - loss: 0.3264 - acc: 0.8810\n",
      "Epoch 323/1000\n",
      "891/891 [==============================] - 0s 40us/step - loss: 0.3259 - acc: 0.8788\n",
      "Epoch 324/1000\n",
      "891/891 [==============================] - 0s 40us/step - loss: 0.3268 - acc: 0.8799\n",
      "Epoch 325/1000\n",
      "891/891 [==============================] - 0s 42us/step - loss: 0.3257 - acc: 0.8799\n",
      "Epoch 326/1000\n",
      "891/891 [==============================] - 0s 43us/step - loss: 0.3268 - acc: 0.8810\n",
      "Epoch 327/1000\n",
      "891/891 [==============================] - 0s 43us/step - loss: 0.3264 - acc: 0.8799\n",
      "Epoch 328/1000\n",
      "891/891 [==============================] - 0s 39us/step - loss: 0.3263 - acc: 0.8765\n",
      "Epoch 329/1000\n"
     ]
    },
    {
     "name": "stdout",
     "output_type": "stream",
     "text": [
      "891/891 [==============================] - 0s 42us/step - loss: 0.3268 - acc: 0.8799\n",
      "Epoch 330/1000\n",
      "891/891 [==============================] - 0s 39us/step - loss: 0.3257 - acc: 0.8810\n",
      "Epoch 331/1000\n",
      "891/891 [==============================] - 0s 40us/step - loss: 0.3265 - acc: 0.8777\n",
      "Epoch 332/1000\n",
      "891/891 [==============================] - 0s 48us/step - loss: 0.3260 - acc: 0.8810\n",
      "Epoch 333/1000\n",
      "891/891 [==============================] - 0s 65us/step - loss: 0.3262 - acc: 0.8799\n",
      "Epoch 334/1000\n",
      "891/891 [==============================] - 0s 52us/step - loss: 0.3259 - acc: 0.8822\n",
      "Epoch 335/1000\n",
      "891/891 [==============================] - 0s 71us/step - loss: 0.3260 - acc: 0.8777\n",
      "Epoch 336/1000\n",
      "891/891 [==============================] - 0s 49us/step - loss: 0.3254 - acc: 0.8799\n",
      "Epoch 337/1000\n",
      "891/891 [==============================] - 0s 53us/step - loss: 0.3261 - acc: 0.8799\n",
      "Epoch 338/1000\n",
      "891/891 [==============================] - 0s 43us/step - loss: 0.3259 - acc: 0.8799\n",
      "Epoch 339/1000\n",
      "891/891 [==============================] - 0s 44us/step - loss: 0.3265 - acc: 0.8810\n",
      "Epoch 340/1000\n",
      "891/891 [==============================] - 0s 42us/step - loss: 0.3265 - acc: 0.8777\n",
      "Epoch 341/1000\n",
      "891/891 [==============================] - 0s 39us/step - loss: 0.3260 - acc: 0.8777\n",
      "Epoch 342/1000\n",
      "891/891 [==============================] - 0s 42us/step - loss: 0.3256 - acc: 0.8810\n",
      "Epoch 343/1000\n",
      "891/891 [==============================] - 0s 40us/step - loss: 0.3256 - acc: 0.8788\n",
      "Epoch 344/1000\n",
      "891/891 [==============================] - 0s 41us/step - loss: 0.3263 - acc: 0.8788\n",
      "Epoch 345/1000\n",
      "891/891 [==============================] - 0s 43us/step - loss: 0.3254 - acc: 0.8799\n",
      "Epoch 346/1000\n",
      "891/891 [==============================] - 0s 39us/step - loss: 0.3259 - acc: 0.8799\n",
      "Epoch 347/1000\n",
      "891/891 [==============================] - 0s 63us/step - loss: 0.3256 - acc: 0.8788\n",
      "Epoch 348/1000\n",
      "891/891 [==============================] - 0s 57us/step - loss: 0.3259 - acc: 0.8788\n",
      "Epoch 349/1000\n",
      "891/891 [==============================] - 0s 44us/step - loss: 0.3253 - acc: 0.8799\n",
      "Epoch 350/1000\n",
      "891/891 [==============================] - 0s 41us/step - loss: 0.3253 - acc: 0.8777\n",
      "Epoch 351/1000\n",
      "891/891 [==============================] - 0s 45us/step - loss: 0.3256 - acc: 0.8788\n",
      "Epoch 352/1000\n",
      "891/891 [==============================] - 0s 45us/step - loss: 0.3256 - acc: 0.8810\n",
      "Epoch 353/1000\n",
      "891/891 [==============================] - 0s 38us/step - loss: 0.3256 - acc: 0.8788\n",
      "Epoch 354/1000\n",
      "891/891 [==============================] - 0s 37us/step - loss: 0.3254 - acc: 0.8799\n",
      "Epoch 355/1000\n",
      "891/891 [==============================] - 0s 39us/step - loss: 0.3261 - acc: 0.8732\n",
      "Epoch 356/1000\n",
      "891/891 [==============================] - 0s 39us/step - loss: 0.3252 - acc: 0.8799\n",
      "Epoch 357/1000\n",
      "891/891 [==============================] - 0s 38us/step - loss: 0.3261 - acc: 0.8788\n",
      "Epoch 358/1000\n",
      "891/891 [==============================] - 0s 39us/step - loss: 0.3255 - acc: 0.8765\n",
      "Epoch 359/1000\n",
      "891/891 [==============================] - 0s 40us/step - loss: 0.3261 - acc: 0.8822\n",
      "Epoch 360/1000\n",
      "891/891 [==============================] - 0s 39us/step - loss: 0.3258 - acc: 0.8743\n",
      "Epoch 361/1000\n",
      "891/891 [==============================] - 0s 40us/step - loss: 0.3260 - acc: 0.8799\n",
      "Epoch 362/1000\n",
      "891/891 [==============================] - 0s 38us/step - loss: 0.3254 - acc: 0.8777\n",
      "Epoch 363/1000\n",
      "891/891 [==============================] - 0s 37us/step - loss: 0.3251 - acc: 0.8777\n",
      "Epoch 364/1000\n",
      "891/891 [==============================] - 0s 38us/step - loss: 0.3249 - acc: 0.8810\n",
      "Epoch 365/1000\n",
      "891/891 [==============================] - 0s 38us/step - loss: 0.3249 - acc: 0.8777\n",
      "Epoch 366/1000\n",
      "891/891 [==============================] - 0s 39us/step - loss: 0.3255 - acc: 0.8754\n",
      "Epoch 367/1000\n",
      "891/891 [==============================] - 0s 39us/step - loss: 0.3248 - acc: 0.8777\n",
      "Epoch 368/1000\n",
      "891/891 [==============================] - 0s 39us/step - loss: 0.3242 - acc: 0.8810\n",
      "Epoch 369/1000\n",
      "891/891 [==============================] - 0s 41us/step - loss: 0.3242 - acc: 0.8788\n",
      "Epoch 370/1000\n",
      "891/891 [==============================] - 0s 42us/step - loss: 0.3241 - acc: 0.8788\n",
      "Epoch 371/1000\n",
      "891/891 [==============================] - 0s 44us/step - loss: 0.3245 - acc: 0.8799\n",
      "Epoch 372/1000\n",
      "891/891 [==============================] - 0s 41us/step - loss: 0.3248 - acc: 0.8765\n",
      "Epoch 373/1000\n",
      "891/891 [==============================] - 0s 40us/step - loss: 0.3244 - acc: 0.8777\n",
      "Epoch 374/1000\n",
      "891/891 [==============================] - 0s 40us/step - loss: 0.3241 - acc: 0.8777\n",
      "Epoch 375/1000\n",
      "891/891 [==============================] - 0s 40us/step - loss: 0.3244 - acc: 0.8810\n",
      "Epoch 376/1000\n",
      "891/891 [==============================] - 0s 39us/step - loss: 0.3249 - acc: 0.8765\n",
      "Epoch 377/1000\n",
      "891/891 [==============================] - 0s 40us/step - loss: 0.3246 - acc: 0.8777\n",
      "Epoch 378/1000\n",
      "891/891 [==============================] - 0s 39us/step - loss: 0.3243 - acc: 0.8765\n",
      "Epoch 379/1000\n",
      "891/891 [==============================] - 0s 37us/step - loss: 0.3240 - acc: 0.8810\n",
      "Epoch 380/1000\n",
      "891/891 [==============================] - 0s 40us/step - loss: 0.3242 - acc: 0.8799\n",
      "Epoch 381/1000\n",
      "891/891 [==============================] - 0s 39us/step - loss: 0.3245 - acc: 0.8754\n",
      "Epoch 382/1000\n",
      "891/891 [==============================] - 0s 39us/step - loss: 0.3241 - acc: 0.8799\n",
      "Epoch 383/1000\n",
      "891/891 [==============================] - 0s 38us/step - loss: 0.3234 - acc: 0.8788\n",
      "Epoch 384/1000\n",
      "891/891 [==============================] - 0s 38us/step - loss: 0.3243 - acc: 0.8765\n",
      "Epoch 385/1000\n",
      "891/891 [==============================] - 0s 43us/step - loss: 0.3242 - acc: 0.8788\n",
      "Epoch 386/1000\n",
      "891/891 [==============================] - 0s 44us/step - loss: 0.3242 - acc: 0.8788\n",
      "Epoch 387/1000\n",
      "891/891 [==============================] - 0s 45us/step - loss: 0.3245 - acc: 0.8765\n",
      "Epoch 388/1000\n",
      "891/891 [==============================] - 0s 42us/step - loss: 0.3233 - acc: 0.8765\n",
      "Epoch 389/1000\n",
      "891/891 [==============================] - 0s 40us/step - loss: 0.3235 - acc: 0.8788\n",
      "Epoch 390/1000\n",
      "891/891 [==============================] - 0s 38us/step - loss: 0.3242 - acc: 0.8777\n",
      "Epoch 391/1000\n",
      "891/891 [==============================] - 0s 39us/step - loss: 0.3240 - acc: 0.8833\n",
      "Epoch 392/1000\n",
      "891/891 [==============================] - 0s 40us/step - loss: 0.3240 - acc: 0.8732\n",
      "Epoch 393/1000\n",
      "891/891 [==============================] - 0s 41us/step - loss: 0.3236 - acc: 0.8788\n",
      "Epoch 394/1000\n",
      "891/891 [==============================] - 0s 39us/step - loss: 0.3235 - acc: 0.8788\n",
      "Epoch 395/1000\n",
      "891/891 [==============================] - 0s 40us/step - loss: 0.3235 - acc: 0.8754\n",
      "Epoch 396/1000\n",
      "891/891 [==============================] - 0s 38us/step - loss: 0.3233 - acc: 0.8833\n",
      "Epoch 397/1000\n",
      "891/891 [==============================] - 0s 40us/step - loss: 0.3230 - acc: 0.8788\n",
      "Epoch 398/1000\n",
      "891/891 [==============================] - 0s 42us/step - loss: 0.3229 - acc: 0.8788\n",
      "Epoch 399/1000\n",
      "891/891 [==============================] - 0s 40us/step - loss: 0.3241 - acc: 0.8822\n",
      "Epoch 400/1000\n",
      "891/891 [==============================] - 0s 39us/step - loss: 0.3240 - acc: 0.8788\n",
      "Epoch 401/1000\n",
      "891/891 [==============================] - 0s 38us/step - loss: 0.3229 - acc: 0.8777\n",
      "Epoch 402/1000\n",
      "891/891 [==============================] - 0s 38us/step - loss: 0.3231 - acc: 0.8788\n",
      "Epoch 403/1000\n",
      "891/891 [==============================] - 0s 39us/step - loss: 0.3232 - acc: 0.8788\n",
      "Epoch 404/1000\n",
      "891/891 [==============================] - 0s 40us/step - loss: 0.3232 - acc: 0.8833\n",
      "Epoch 405/1000\n",
      "891/891 [==============================] - 0s 43us/step - loss: 0.3237 - acc: 0.8822\n",
      "Epoch 406/1000\n",
      "891/891 [==============================] - 0s 44us/step - loss: 0.3230 - acc: 0.8810\n",
      "Epoch 407/1000\n",
      "891/891 [==============================] - 0s 39us/step - loss: 0.3232 - acc: 0.8822\n",
      "Epoch 408/1000\n",
      "891/891 [==============================] - 0s 37us/step - loss: 0.3235 - acc: 0.8799\n",
      "Epoch 409/1000\n",
      "891/891 [==============================] - 0s 41us/step - loss: 0.3239 - acc: 0.8743\n",
      "Epoch 410/1000\n",
      "891/891 [==============================] - 0s 39us/step - loss: 0.3227 - acc: 0.8822\n",
      "Epoch 411/1000\n"
     ]
    },
    {
     "name": "stdout",
     "output_type": "stream",
     "text": [
      "891/891 [==============================] - 0s 39us/step - loss: 0.3231 - acc: 0.8777\n",
      "Epoch 412/1000\n",
      "891/891 [==============================] - 0s 39us/step - loss: 0.3237 - acc: 0.8822\n",
      "Epoch 413/1000\n",
      "891/891 [==============================] - 0s 39us/step - loss: 0.3241 - acc: 0.8788\n",
      "Epoch 414/1000\n",
      "891/891 [==============================] - 0s 41us/step - loss: 0.3228 - acc: 0.8799\n",
      "Epoch 415/1000\n",
      "891/891 [==============================] - 0s 38us/step - loss: 0.3232 - acc: 0.8844\n",
      "Epoch 416/1000\n",
      "891/891 [==============================] - 0s 39us/step - loss: 0.3234 - acc: 0.8732\n",
      "Epoch 417/1000\n",
      "891/891 [==============================] - 0s 38us/step - loss: 0.3228 - acc: 0.8788\n",
      "Epoch 418/1000\n",
      "891/891 [==============================] - 0s 40us/step - loss: 0.3236 - acc: 0.8799\n",
      "Epoch 419/1000\n",
      "891/891 [==============================] - 0s 39us/step - loss: 0.3232 - acc: 0.8810\n",
      "Epoch 420/1000\n",
      "891/891 [==============================] - 0s 42us/step - loss: 0.3222 - acc: 0.8810\n",
      "Epoch 421/1000\n",
      "891/891 [==============================] - 0s 38us/step - loss: 0.3231 - acc: 0.8822\n",
      "Epoch 422/1000\n",
      "891/891 [==============================] - 0s 40us/step - loss: 0.3236 - acc: 0.8810\n",
      "Epoch 423/1000\n",
      "891/891 [==============================] - 0s 48us/step - loss: 0.3233 - acc: 0.8777\n",
      "Epoch 424/1000\n",
      "891/891 [==============================] - 0s 49us/step - loss: 0.3251 - acc: 0.8810\n",
      "Epoch 425/1000\n",
      "891/891 [==============================] - 0s 50us/step - loss: 0.3229 - acc: 0.8777\n",
      "Epoch 426/1000\n",
      "891/891 [==============================] - 0s 46us/step - loss: 0.3228 - acc: 0.8799\n",
      "Epoch 427/1000\n",
      "891/891 [==============================] - 0s 40us/step - loss: 0.3225 - acc: 0.8765\n",
      "Epoch 428/1000\n",
      "891/891 [==============================] - 0s 40us/step - loss: 0.3233 - acc: 0.8799\n",
      "Epoch 429/1000\n",
      "891/891 [==============================] - 0s 39us/step - loss: 0.3223 - acc: 0.8799\n",
      "Epoch 430/1000\n",
      "891/891 [==============================] - 0s 38us/step - loss: 0.3230 - acc: 0.8743\n",
      "Epoch 431/1000\n",
      "891/891 [==============================] - 0s 38us/step - loss: 0.3221 - acc: 0.8844\n",
      "Epoch 432/1000\n",
      "891/891 [==============================] - 0s 39us/step - loss: 0.3219 - acc: 0.8855\n",
      "Epoch 433/1000\n",
      "891/891 [==============================] - 0s 39us/step - loss: 0.3221 - acc: 0.8754\n",
      "Epoch 434/1000\n",
      "891/891 [==============================] - 0s 39us/step - loss: 0.3228 - acc: 0.8799\n",
      "Epoch 435/1000\n",
      "891/891 [==============================] - 0s 39us/step - loss: 0.3227 - acc: 0.8777\n",
      "Epoch 436/1000\n",
      "891/891 [==============================] - 0s 38us/step - loss: 0.3222 - acc: 0.8833\n",
      "Epoch 437/1000\n",
      "891/891 [==============================] - 0s 38us/step - loss: 0.3224 - acc: 0.8844\n",
      "Epoch 438/1000\n",
      "891/891 [==============================] - 0s 38us/step - loss: 0.3228 - acc: 0.8799\n",
      "Epoch 439/1000\n",
      "891/891 [==============================] - 0s 39us/step - loss: 0.3229 - acc: 0.8777\n",
      "Epoch 440/1000\n",
      "891/891 [==============================] - 0s 39us/step - loss: 0.3221 - acc: 0.8810\n",
      "Epoch 441/1000\n",
      "891/891 [==============================] - 0s 38us/step - loss: 0.3224 - acc: 0.8788\n",
      "Epoch 442/1000\n",
      "891/891 [==============================] - 0s 43us/step - loss: 0.3225 - acc: 0.8855\n",
      "Epoch 443/1000\n",
      "891/891 [==============================] - 0s 43us/step - loss: 0.3233 - acc: 0.8777\n",
      "Epoch 444/1000\n",
      "891/891 [==============================] - 0s 44us/step - loss: 0.3220 - acc: 0.8799\n",
      "Epoch 445/1000\n",
      "891/891 [==============================] - 0s 38us/step - loss: 0.3221 - acc: 0.8810\n",
      "Epoch 446/1000\n",
      "891/891 [==============================] - 0s 39us/step - loss: 0.3213 - acc: 0.8788\n",
      "Epoch 447/1000\n",
      "891/891 [==============================] - 0s 39us/step - loss: 0.3230 - acc: 0.8822\n",
      "Epoch 448/1000\n",
      "891/891 [==============================] - 0s 40us/step - loss: 0.3219 - acc: 0.8810\n",
      "Epoch 449/1000\n",
      "891/891 [==============================] - 0s 38us/step - loss: 0.3229 - acc: 0.8833\n",
      "Epoch 450/1000\n",
      "891/891 [==============================] - 0s 39us/step - loss: 0.3222 - acc: 0.8788\n",
      "Epoch 451/1000\n",
      "891/891 [==============================] - 0s 38us/step - loss: 0.3223 - acc: 0.8822\n",
      "Epoch 452/1000\n",
      "891/891 [==============================] - 0s 37us/step - loss: 0.3227 - acc: 0.8799\n",
      "Epoch 453/1000\n",
      "891/891 [==============================] - 0s 39us/step - loss: 0.3217 - acc: 0.8810\n",
      "Epoch 454/1000\n",
      "891/891 [==============================] - 0s 38us/step - loss: 0.3219 - acc: 0.8788\n",
      "Epoch 455/1000\n",
      "891/891 [==============================] - 0s 38us/step - loss: 0.3215 - acc: 0.8833\n",
      "Epoch 456/1000\n",
      "891/891 [==============================] - 0s 40us/step - loss: 0.3227 - acc: 0.8788\n",
      "Epoch 457/1000\n",
      "891/891 [==============================] - 0s 41us/step - loss: 0.3218 - acc: 0.8810\n",
      "Epoch 458/1000\n",
      "891/891 [==============================] - 0s 40us/step - loss: 0.3219 - acc: 0.8822\n",
      "Epoch 459/1000\n",
      "891/891 [==============================] - 0s 39us/step - loss: 0.3218 - acc: 0.8822\n",
      "Epoch 460/1000\n",
      "891/891 [==============================] - 0s 42us/step - loss: 0.3214 - acc: 0.8866\n",
      "Epoch 461/1000\n",
      "891/891 [==============================] - 0s 43us/step - loss: 0.3219 - acc: 0.8765\n",
      "Epoch 462/1000\n",
      "891/891 [==============================] - 0s 43us/step - loss: 0.3217 - acc: 0.8810\n",
      "Epoch 463/1000\n",
      "891/891 [==============================] - 0s 42us/step - loss: 0.3217 - acc: 0.8822\n",
      "Epoch 464/1000\n",
      "891/891 [==============================] - 0s 37us/step - loss: 0.3224 - acc: 0.8810\n",
      "Epoch 465/1000\n",
      "891/891 [==============================] - 0s 39us/step - loss: 0.3220 - acc: 0.8788\n",
      "Epoch 466/1000\n",
      "891/891 [==============================] - 0s 40us/step - loss: 0.3217 - acc: 0.8822\n",
      "Epoch 467/1000\n",
      "891/891 [==============================] - 0s 42us/step - loss: 0.3214 - acc: 0.8799\n",
      "Epoch 468/1000\n",
      "891/891 [==============================] - 0s 42us/step - loss: 0.3224 - acc: 0.8844\n",
      "Epoch 469/1000\n",
      "891/891 [==============================] - 0s 42us/step - loss: 0.3220 - acc: 0.8799\n",
      "Epoch 470/1000\n",
      "891/891 [==============================] - 0s 53us/step - loss: 0.3218 - acc: 0.8810\n",
      "Epoch 471/1000\n",
      "891/891 [==============================] - 0s 65us/step - loss: 0.3231 - acc: 0.8822\n",
      "Epoch 472/1000\n",
      "891/891 [==============================] - 0s 49us/step - loss: 0.3214 - acc: 0.8788\n",
      "Epoch 473/1000\n",
      "891/891 [==============================] - 0s 35us/step - loss: 0.3215 - acc: 0.8844\n",
      "Epoch 474/1000\n",
      "891/891 [==============================] - 0s 44us/step - loss: 0.3218 - acc: 0.8810\n",
      "Epoch 475/1000\n",
      "891/891 [==============================] - 0s 51us/step - loss: 0.3209 - acc: 0.8866\n",
      "Epoch 476/1000\n",
      "891/891 [==============================] - 0s 46us/step - loss: 0.3221 - acc: 0.8788\n",
      "Epoch 477/1000\n",
      "891/891 [==============================] - 0s 52us/step - loss: 0.3224 - acc: 0.8833\n",
      "Epoch 478/1000\n",
      "891/891 [==============================] - 0s 50us/step - loss: 0.3215 - acc: 0.8810\n",
      "Epoch 479/1000\n",
      "891/891 [==============================] - 0s 51us/step - loss: 0.3211 - acc: 0.8788\n",
      "Epoch 480/1000\n",
      "891/891 [==============================] - 0s 57us/step - loss: 0.3218 - acc: 0.8810\n",
      "Epoch 481/1000\n",
      "891/891 [==============================] - 0s 46us/step - loss: 0.3211 - acc: 0.8799\n",
      "Epoch 482/1000\n",
      "891/891 [==============================] - 0s 43us/step - loss: 0.3216 - acc: 0.8833\n",
      "Epoch 483/1000\n",
      "891/891 [==============================] - 0s 41us/step - loss: 0.3215 - acc: 0.8866\n",
      "Epoch 484/1000\n",
      "891/891 [==============================] - 0s 41us/step - loss: 0.3207 - acc: 0.8833\n",
      "Epoch 485/1000\n",
      "891/891 [==============================] - 0s 41us/step - loss: 0.3218 - acc: 0.8844\n",
      "Epoch 486/1000\n",
      "891/891 [==============================] - 0s 44us/step - loss: 0.3207 - acc: 0.8799\n",
      "Epoch 487/1000\n",
      "891/891 [==============================] - 0s 46us/step - loss: 0.3210 - acc: 0.8788\n",
      "Epoch 488/1000\n",
      "891/891 [==============================] - 0s 49us/step - loss: 0.3209 - acc: 0.8833\n",
      "Epoch 489/1000\n",
      "891/891 [==============================] - 0s 45us/step - loss: 0.3215 - acc: 0.8822\n",
      "Epoch 490/1000\n",
      "891/891 [==============================] - 0s 43us/step - loss: 0.3219 - acc: 0.8833\n",
      "Epoch 491/1000\n",
      "891/891 [==============================] - 0s 45us/step - loss: 0.3217 - acc: 0.8810\n",
      "Epoch 492/1000\n",
      "891/891 [==============================] - 0s 57us/step - loss: 0.3215 - acc: 0.8810\n",
      "Epoch 493/1000\n"
     ]
    },
    {
     "name": "stdout",
     "output_type": "stream",
     "text": [
      "891/891 [==============================] - 0s 50us/step - loss: 0.3216 - acc: 0.8799\n",
      "Epoch 494/1000\n",
      "891/891 [==============================] - 0s 45us/step - loss: 0.3210 - acc: 0.8844\n",
      "Epoch 495/1000\n",
      "891/891 [==============================] - 0s 44us/step - loss: 0.3223 - acc: 0.8788\n",
      "Epoch 496/1000\n",
      "891/891 [==============================] - 0s 44us/step - loss: 0.3217 - acc: 0.8833\n",
      "Epoch 497/1000\n",
      "891/891 [==============================] - 0s 50us/step - loss: 0.3219 - acc: 0.8788\n",
      "Epoch 498/1000\n",
      "891/891 [==============================] - 0s 45us/step - loss: 0.3221 - acc: 0.8844\n",
      "Epoch 499/1000\n",
      "891/891 [==============================] - 0s 48us/step - loss: 0.3210 - acc: 0.8810\n",
      "Epoch 500/1000\n",
      "891/891 [==============================] - 0s 45us/step - loss: 0.3212 - acc: 0.8833\n",
      "Epoch 501/1000\n",
      "891/891 [==============================] - 0s 45us/step - loss: 0.3210 - acc: 0.8788\n",
      "Epoch 502/1000\n",
      "891/891 [==============================] - 0s 49us/step - loss: 0.3211 - acc: 0.8810\n",
      "Epoch 503/1000\n",
      "891/891 [==============================] - 0s 50us/step - loss: 0.3206 - acc: 0.8810\n",
      "Epoch 504/1000\n",
      "891/891 [==============================] - 0s 51us/step - loss: 0.3207 - acc: 0.8844\n",
      "Epoch 505/1000\n",
      "891/891 [==============================] - 0s 39us/step - loss: 0.3210 - acc: 0.8833\n",
      "Epoch 506/1000\n",
      "891/891 [==============================] - 0s 39us/step - loss: 0.3208 - acc: 0.8878\n",
      "Epoch 507/1000\n",
      "891/891 [==============================] - 0s 39us/step - loss: 0.3215 - acc: 0.8799\n",
      "Epoch 508/1000\n",
      "891/891 [==============================] - 0s 40us/step - loss: 0.3214 - acc: 0.8822\n",
      "Epoch 509/1000\n",
      "891/891 [==============================] - 0s 39us/step - loss: 0.3215 - acc: 0.8810\n",
      "Epoch 510/1000\n",
      "891/891 [==============================] - 0s 39us/step - loss: 0.3208 - acc: 0.8833\n",
      "Epoch 511/1000\n",
      "891/891 [==============================] - 0s 37us/step - loss: 0.3207 - acc: 0.8822\n",
      "Epoch 512/1000\n",
      "891/891 [==============================] - 0s 38us/step - loss: 0.3212 - acc: 0.8788\n",
      "Epoch 513/1000\n",
      "891/891 [==============================] - 0s 39us/step - loss: 0.3211 - acc: 0.8878\n",
      "Epoch 514/1000\n",
      "891/891 [==============================] - 0s 40us/step - loss: 0.3208 - acc: 0.8799\n",
      "Epoch 515/1000\n",
      "891/891 [==============================] - 0s 38us/step - loss: 0.3207 - acc: 0.8822\n",
      "Epoch 516/1000\n",
      "891/891 [==============================] - 0s 39us/step - loss: 0.3205 - acc: 0.8810\n",
      "Epoch 517/1000\n",
      "891/891 [==============================] - 0s 39us/step - loss: 0.3213 - acc: 0.8810\n",
      "Epoch 518/1000\n",
      "891/891 [==============================] - 0s 43us/step - loss: 0.3200 - acc: 0.8855\n",
      "Epoch 519/1000\n",
      "891/891 [==============================] - 0s 40us/step - loss: 0.3206 - acc: 0.8844\n",
      "Epoch 520/1000\n",
      "891/891 [==============================] - 0s 40us/step - loss: 0.3205 - acc: 0.8855\n",
      "Epoch 521/1000\n",
      "891/891 [==============================] - 0s 47us/step - loss: 0.3207 - acc: 0.8822\n",
      "Epoch 522/1000\n",
      "891/891 [==============================] - 0s 66us/step - loss: 0.3202 - acc: 0.8855\n",
      "Epoch 523/1000\n",
      "891/891 [==============================] - 0s 49us/step - loss: 0.3204 - acc: 0.8822\n",
      "Epoch 524/1000\n",
      "891/891 [==============================] - 0s 42us/step - loss: 0.3205 - acc: 0.8822\n",
      "Epoch 525/1000\n",
      "891/891 [==============================] - 0s 40us/step - loss: 0.3211 - acc: 0.8822\n",
      "Epoch 526/1000\n",
      "891/891 [==============================] - 0s 39us/step - loss: 0.3202 - acc: 0.8833\n",
      "Epoch 527/1000\n",
      "891/891 [==============================] - 0s 39us/step - loss: 0.3205 - acc: 0.8822\n",
      "Epoch 528/1000\n",
      "891/891 [==============================] - 0s 41us/step - loss: 0.3207 - acc: 0.8844\n",
      "Epoch 529/1000\n",
      "891/891 [==============================] - 0s 40us/step - loss: 0.3201 - acc: 0.8810\n",
      "Epoch 530/1000\n",
      "891/891 [==============================] - 0s 41us/step - loss: 0.3204 - acc: 0.8866\n",
      "Epoch 531/1000\n",
      "891/891 [==============================] - 0s 39us/step - loss: 0.3204 - acc: 0.8833\n",
      "Epoch 532/1000\n",
      "891/891 [==============================] - 0s 40us/step - loss: 0.3205 - acc: 0.8833\n",
      "Epoch 533/1000\n",
      "891/891 [==============================] - 0s 40us/step - loss: 0.3201 - acc: 0.8844\n",
      "Epoch 534/1000\n",
      "891/891 [==============================] - 0s 39us/step - loss: 0.3205 - acc: 0.8844\n",
      "Epoch 535/1000\n",
      "891/891 [==============================] - 0s 38us/step - loss: 0.3205 - acc: 0.8833\n",
      "Epoch 536/1000\n",
      "891/891 [==============================] - 0s 42us/step - loss: 0.3215 - acc: 0.8833\n",
      "Epoch 537/1000\n",
      "891/891 [==============================] - 0s 39us/step - loss: 0.3202 - acc: 0.8844\n",
      "Epoch 538/1000\n",
      "891/891 [==============================] - 0s 43us/step - loss: 0.3208 - acc: 0.8799\n",
      "Epoch 539/1000\n",
      "891/891 [==============================] - 0s 63us/step - loss: 0.3200 - acc: 0.8844\n",
      "Epoch 540/1000\n",
      "891/891 [==============================] - 0s 54us/step - loss: 0.3204 - acc: 0.8855\n",
      "Epoch 541/1000\n",
      "891/891 [==============================] - 0s 58us/step - loss: 0.3212 - acc: 0.8844\n",
      "Epoch 542/1000\n",
      "891/891 [==============================] - 0s 41us/step - loss: 0.3199 - acc: 0.8810\n",
      "Epoch 543/1000\n",
      "891/891 [==============================] - 0s 39us/step - loss: 0.3203 - acc: 0.8822\n",
      "Epoch 544/1000\n",
      "891/891 [==============================] - 0s 39us/step - loss: 0.3206 - acc: 0.8833\n",
      "Epoch 545/1000\n",
      "891/891 [==============================] - 0s 39us/step - loss: 0.3204 - acc: 0.8866\n",
      "Epoch 546/1000\n",
      "891/891 [==============================] - 0s 40us/step - loss: 0.3204 - acc: 0.8799\n",
      "Epoch 547/1000\n",
      "891/891 [==============================] - 0s 40us/step - loss: 0.3203 - acc: 0.8855\n",
      "Epoch 548/1000\n",
      "891/891 [==============================] - 0s 40us/step - loss: 0.3198 - acc: 0.8855\n",
      "Epoch 549/1000\n",
      "891/891 [==============================] - 0s 41us/step - loss: 0.3201 - acc: 0.8844\n",
      "Epoch 550/1000\n",
      "891/891 [==============================] - 0s 40us/step - loss: 0.3205 - acc: 0.8765\n",
      "Epoch 551/1000\n",
      "891/891 [==============================] - 0s 37us/step - loss: 0.3200 - acc: 0.8833\n",
      "Epoch 552/1000\n",
      "891/891 [==============================] - 0s 42us/step - loss: 0.3206 - acc: 0.8833\n",
      "Epoch 553/1000\n",
      "891/891 [==============================] - 0s 39us/step - loss: 0.3197 - acc: 0.8810\n",
      "Epoch 554/1000\n",
      "891/891 [==============================] - 0s 39us/step - loss: 0.3199 - acc: 0.8844\n",
      "Epoch 555/1000\n",
      "891/891 [==============================] - 0s 39us/step - loss: 0.3198 - acc: 0.8822\n",
      "Epoch 556/1000\n",
      "891/891 [==============================] - 0s 41us/step - loss: 0.3205 - acc: 0.8833\n",
      "Epoch 557/1000\n",
      "891/891 [==============================] - 0s 45us/step - loss: 0.3198 - acc: 0.8855\n",
      "Epoch 558/1000\n",
      "891/891 [==============================] - 0s 43us/step - loss: 0.3211 - acc: 0.8799\n",
      "Epoch 559/1000\n",
      "891/891 [==============================] - 0s 43us/step - loss: 0.3205 - acc: 0.8855\n",
      "Epoch 560/1000\n",
      "891/891 [==============================] - 0s 40us/step - loss: 0.3203 - acc: 0.8844\n",
      "Epoch 561/1000\n",
      "891/891 [==============================] - 0s 39us/step - loss: 0.3200 - acc: 0.8799\n",
      "Epoch 562/1000\n",
      "891/891 [==============================] - 0s 40us/step - loss: 0.3215 - acc: 0.8810\n",
      "Epoch 563/1000\n",
      "891/891 [==============================] - 0s 40us/step - loss: 0.3201 - acc: 0.8810\n",
      "Epoch 564/1000\n",
      "891/891 [==============================] - 0s 39us/step - loss: 0.3197 - acc: 0.8878\n",
      "Epoch 565/1000\n",
      "891/891 [==============================] - 0s 39us/step - loss: 0.3198 - acc: 0.8822\n",
      "Epoch 566/1000\n",
      "891/891 [==============================] - 0s 38us/step - loss: 0.3202 - acc: 0.8855\n",
      "Epoch 567/1000\n",
      "891/891 [==============================] - 0s 39us/step - loss: 0.3196 - acc: 0.8833\n",
      "Epoch 568/1000\n",
      "891/891 [==============================] - 0s 42us/step - loss: 0.3198 - acc: 0.8855\n",
      "Epoch 569/1000\n",
      "891/891 [==============================] - 0s 39us/step - loss: 0.3201 - acc: 0.8810\n",
      "Epoch 570/1000\n",
      "891/891 [==============================] - 0s 40us/step - loss: 0.3196 - acc: 0.8810\n",
      "Epoch 571/1000\n",
      "891/891 [==============================] - 0s 38us/step - loss: 0.3197 - acc: 0.8822\n",
      "Epoch 572/1000\n",
      "891/891 [==============================] - 0s 40us/step - loss: 0.3200 - acc: 0.8833\n",
      "Epoch 573/1000\n",
      "891/891 [==============================] - 0s 38us/step - loss: 0.3193 - acc: 0.8866\n",
      "Epoch 574/1000\n",
      "891/891 [==============================] - 0s 39us/step - loss: 0.3196 - acc: 0.8822\n",
      "Epoch 575/1000\n"
     ]
    },
    {
     "name": "stdout",
     "output_type": "stream",
     "text": [
      "891/891 [==============================] - 0s 41us/step - loss: 0.3200 - acc: 0.8833\n",
      "Epoch 576/1000\n",
      "891/891 [==============================] - 0s 45us/step - loss: 0.3202 - acc: 0.8799\n",
      "Epoch 577/1000\n",
      "891/891 [==============================] - 0s 46us/step - loss: 0.3192 - acc: 0.8799\n",
      "Epoch 578/1000\n",
      "891/891 [==============================] - 0s 40us/step - loss: 0.3193 - acc: 0.8844\n",
      "Epoch 579/1000\n",
      "891/891 [==============================] - 0s 39us/step - loss: 0.3199 - acc: 0.8777\n",
      "Epoch 580/1000\n",
      "891/891 [==============================] - 0s 43us/step - loss: 0.3195 - acc: 0.8810\n",
      "Epoch 581/1000\n",
      "891/891 [==============================] - 0s 47us/step - loss: 0.3191 - acc: 0.8799\n",
      "Epoch 582/1000\n",
      "891/891 [==============================] - 0s 44us/step - loss: 0.3189 - acc: 0.8777\n",
      "Epoch 583/1000\n",
      "891/891 [==============================] - 0s 39us/step - loss: 0.3195 - acc: 0.8788\n",
      "Epoch 584/1000\n",
      "891/891 [==============================] - 0s 39us/step - loss: 0.3187 - acc: 0.8810\n",
      "Epoch 585/1000\n",
      "891/891 [==============================] - 0s 38us/step - loss: 0.3187 - acc: 0.8799\n",
      "Epoch 586/1000\n",
      "891/891 [==============================] - 0s 38us/step - loss: 0.3188 - acc: 0.8822\n",
      "Epoch 587/1000\n",
      "891/891 [==============================] - 0s 39us/step - loss: 0.3183 - acc: 0.8799\n",
      "Epoch 588/1000\n",
      "891/891 [==============================] - 0s 40us/step - loss: 0.3196 - acc: 0.8833\n",
      "Epoch 589/1000\n",
      "891/891 [==============================] - 0s 40us/step - loss: 0.3189 - acc: 0.8799\n",
      "Epoch 590/1000\n",
      "891/891 [==============================] - 0s 40us/step - loss: 0.3188 - acc: 0.8822\n",
      "Epoch 591/1000\n",
      "891/891 [==============================] - 0s 42us/step - loss: 0.3189 - acc: 0.8822\n",
      "Epoch 592/1000\n",
      "891/891 [==============================] - 0s 40us/step - loss: 0.3190 - acc: 0.8777\n",
      "Epoch 593/1000\n",
      "891/891 [==============================] - 0s 40us/step - loss: 0.3187 - acc: 0.8810\n",
      "Epoch 594/1000\n",
      "891/891 [==============================] - 0s 44us/step - loss: 0.3182 - acc: 0.8822\n",
      "Epoch 595/1000\n",
      "891/891 [==============================] - 0s 45us/step - loss: 0.3191 - acc: 0.8788\n",
      "Epoch 596/1000\n",
      "891/891 [==============================] - 0s 41us/step - loss: 0.3189 - acc: 0.8822\n",
      "Epoch 597/1000\n",
      "891/891 [==============================] - 0s 39us/step - loss: 0.3184 - acc: 0.8822\n",
      "Epoch 598/1000\n",
      "891/891 [==============================] - 0s 40us/step - loss: 0.3184 - acc: 0.8822\n",
      "Epoch 599/1000\n",
      "891/891 [==============================] - 0s 38us/step - loss: 0.3185 - acc: 0.8833\n",
      "Epoch 600/1000\n",
      "891/891 [==============================] - 0s 39us/step - loss: 0.3185 - acc: 0.8810\n",
      "Epoch 601/1000\n",
      "891/891 [==============================] - 0s 38us/step - loss: 0.3203 - acc: 0.8777\n",
      "Epoch 602/1000\n",
      "891/891 [==============================] - 0s 44us/step - loss: 0.3193 - acc: 0.8788\n",
      "Epoch 603/1000\n",
      "891/891 [==============================] - 0s 39us/step - loss: 0.3185 - acc: 0.8788\n",
      "Epoch 604/1000\n",
      "891/891 [==============================] - 0s 41us/step - loss: 0.3198 - acc: 0.8810\n",
      "Epoch 605/1000\n",
      "891/891 [==============================] - 0s 39us/step - loss: 0.3185 - acc: 0.8799\n",
      "Epoch 606/1000\n",
      "891/891 [==============================] - 0s 39us/step - loss: 0.3177 - acc: 0.8788\n",
      "Epoch 607/1000\n",
      "891/891 [==============================] - 0s 39us/step - loss: 0.3194 - acc: 0.8799\n",
      "Epoch 608/1000\n",
      "891/891 [==============================] - 0s 39us/step - loss: 0.3176 - acc: 0.8799\n",
      "Epoch 609/1000\n",
      "891/891 [==============================] - 0s 40us/step - loss: 0.3186 - acc: 0.8833\n",
      "Epoch 610/1000\n",
      "891/891 [==============================] - 0s 39us/step - loss: 0.3200 - acc: 0.8777\n",
      "Epoch 611/1000\n",
      "891/891 [==============================] - 0s 43us/step - loss: 0.3194 - acc: 0.8844\n",
      "Epoch 612/1000\n",
      "891/891 [==============================] - 0s 42us/step - loss: 0.3181 - acc: 0.8833\n",
      "Epoch 613/1000\n",
      "891/891 [==============================] - 0s 42us/step - loss: 0.3185 - acc: 0.8765\n",
      "Epoch 614/1000\n",
      "891/891 [==============================] - 0s 42us/step - loss: 0.3189 - acc: 0.8810\n",
      "Epoch 615/1000\n",
      "891/891 [==============================] - 0s 38us/step - loss: 0.3189 - acc: 0.8799\n",
      "Epoch 616/1000\n",
      "891/891 [==============================] - 0s 41us/step - loss: 0.3181 - acc: 0.8810\n",
      "Epoch 617/1000\n",
      "891/891 [==============================] - 0s 39us/step - loss: 0.3179 - acc: 0.8788\n",
      "Epoch 618/1000\n",
      "891/891 [==============================] - 0s 38us/step - loss: 0.3192 - acc: 0.8844\n",
      "Epoch 619/1000\n",
      "891/891 [==============================] - 0s 39us/step - loss: 0.3192 - acc: 0.8765\n",
      "Epoch 620/1000\n",
      "891/891 [==============================] - 0s 40us/step - loss: 0.3179 - acc: 0.8833\n",
      "Epoch 621/1000\n",
      "891/891 [==============================] - 0s 40us/step - loss: 0.3182 - acc: 0.8799\n",
      "Epoch 622/1000\n",
      "891/891 [==============================] - 0s 40us/step - loss: 0.3180 - acc: 0.8810\n",
      "Epoch 623/1000\n",
      "891/891 [==============================] - 0s 39us/step - loss: 0.3177 - acc: 0.8777\n",
      "Epoch 624/1000\n",
      "891/891 [==============================] - 0s 40us/step - loss: 0.3184 - acc: 0.8822\n",
      "Epoch 625/1000\n",
      "891/891 [==============================] - 0s 39us/step - loss: 0.3180 - acc: 0.8833\n",
      "Epoch 626/1000\n",
      "891/891 [==============================] - 0s 41us/step - loss: 0.3183 - acc: 0.8788\n",
      "Epoch 627/1000\n",
      "891/891 [==============================] - 0s 40us/step - loss: 0.3179 - acc: 0.8799\n",
      "Epoch 628/1000\n",
      "891/891 [==============================] - 0s 39us/step - loss: 0.3178 - acc: 0.8866\n",
      "Epoch 629/1000\n",
      "891/891 [==============================] - 0s 39us/step - loss: 0.3177 - acc: 0.8788\n",
      "Epoch 630/1000\n",
      "891/891 [==============================] - 0s 41us/step - loss: 0.3179 - acc: 0.8822\n",
      "Epoch 631/1000\n",
      "891/891 [==============================] - 0s 45us/step - loss: 0.3179 - acc: 0.8788\n",
      "Epoch 632/1000\n",
      "891/891 [==============================] - 0s 43us/step - loss: 0.3177 - acc: 0.8799\n",
      "Epoch 633/1000\n",
      "891/891 [==============================] - 0s 40us/step - loss: 0.3175 - acc: 0.8799\n",
      "Epoch 634/1000\n",
      "891/891 [==============================] - 0s 41us/step - loss: 0.3176 - acc: 0.8833\n",
      "Epoch 635/1000\n",
      "891/891 [==============================] - 0s 39us/step - loss: 0.3173 - acc: 0.8822\n",
      "Epoch 636/1000\n",
      "891/891 [==============================] - 0s 41us/step - loss: 0.3180 - acc: 0.8799\n",
      "Epoch 637/1000\n",
      "891/891 [==============================] - 0s 39us/step - loss: 0.3175 - acc: 0.8765\n",
      "Epoch 638/1000\n",
      "891/891 [==============================] - 0s 39us/step - loss: 0.3172 - acc: 0.8799\n",
      "Epoch 639/1000\n",
      "891/891 [==============================] - 0s 46us/step - loss: 0.3168 - acc: 0.8822\n",
      "Epoch 640/1000\n",
      "891/891 [==============================] - 0s 43us/step - loss: 0.3183 - acc: 0.8833\n",
      "Epoch 641/1000\n",
      "891/891 [==============================] - 0s 45us/step - loss: 0.3176 - acc: 0.8844\n",
      "Epoch 642/1000\n",
      "891/891 [==============================] - 0s 40us/step - loss: 0.3179 - acc: 0.8822\n",
      "Epoch 643/1000\n",
      "891/891 [==============================] - 0s 40us/step - loss: 0.3180 - acc: 0.8810\n",
      "Epoch 644/1000\n",
      "891/891 [==============================] - 0s 38us/step - loss: 0.3175 - acc: 0.8788\n",
      "Epoch 645/1000\n",
      "891/891 [==============================] - 0s 37us/step - loss: 0.3174 - acc: 0.8822\n",
      "Epoch 646/1000\n",
      "891/891 [==============================] - 0s 39us/step - loss: 0.3172 - acc: 0.8833\n",
      "Epoch 647/1000\n",
      "891/891 [==============================] - 0s 44us/step - loss: 0.3177 - acc: 0.8822\n",
      "Epoch 648/1000\n",
      "891/891 [==============================] - 0s 47us/step - loss: 0.3176 - acc: 0.8799\n",
      "Epoch 649/1000\n",
      "891/891 [==============================] - 0s 43us/step - loss: 0.3180 - acc: 0.8799\n",
      "Epoch 650/1000\n",
      "891/891 [==============================] - 0s 40us/step - loss: 0.3174 - acc: 0.8810\n",
      "Epoch 651/1000\n",
      "891/891 [==============================] - 0s 39us/step - loss: 0.3175 - acc: 0.8822\n",
      "Epoch 652/1000\n",
      "891/891 [==============================] - 0s 39us/step - loss: 0.3183 - acc: 0.8810\n",
      "Epoch 653/1000\n",
      "891/891 [==============================] - 0s 39us/step - loss: 0.3182 - acc: 0.8777\n",
      "Epoch 654/1000\n",
      "891/891 [==============================] - 0s 41us/step - loss: 0.3192 - acc: 0.8844\n",
      "Epoch 655/1000\n",
      "891/891 [==============================] - 0s 43us/step - loss: 0.3178 - acc: 0.8754\n",
      "Epoch 656/1000\n",
      "891/891 [==============================] - 0s 44us/step - loss: 0.3184 - acc: 0.8855\n",
      "Epoch 657/1000\n"
     ]
    },
    {
     "name": "stdout",
     "output_type": "stream",
     "text": [
      "891/891 [==============================] - 0s 44us/step - loss: 0.3176 - acc: 0.8822\n",
      "Epoch 658/1000\n",
      "891/891 [==============================] - 0s 39us/step - loss: 0.3174 - acc: 0.8844\n",
      "Epoch 659/1000\n",
      "891/891 [==============================] - 0s 39us/step - loss: 0.3170 - acc: 0.8810\n",
      "Epoch 660/1000\n",
      "891/891 [==============================] - 0s 40us/step - loss: 0.3174 - acc: 0.8822\n",
      "Epoch 661/1000\n",
      "891/891 [==============================] - 0s 39us/step - loss: 0.3170 - acc: 0.8799\n",
      "Epoch 662/1000\n",
      "891/891 [==============================] - 0s 44us/step - loss: 0.3172 - acc: 0.8810\n",
      "Epoch 663/1000\n",
      "891/891 [==============================] - 0s 39us/step - loss: 0.3185 - acc: 0.8810\n",
      "Epoch 664/1000\n",
      "891/891 [==============================] - 0s 40us/step - loss: 0.3172 - acc: 0.8822\n",
      "Epoch 665/1000\n",
      "891/891 [==============================] - 0s 41us/step - loss: 0.3175 - acc: 0.8844\n",
      "Epoch 666/1000\n",
      "891/891 [==============================] - 0s 43us/step - loss: 0.3179 - acc: 0.8799\n",
      "Epoch 667/1000\n",
      "891/891 [==============================] - 0s 40us/step - loss: 0.3174 - acc: 0.8777\n",
      "Epoch 668/1000\n",
      "891/891 [==============================] - 0s 40us/step - loss: 0.3172 - acc: 0.8799\n",
      "Epoch 669/1000\n",
      "891/891 [==============================] - 0s 39us/step - loss: 0.3174 - acc: 0.8765\n",
      "Epoch 670/1000\n",
      "891/891 [==============================] - 0s 39us/step - loss: 0.3172 - acc: 0.8810\n",
      "Epoch 671/1000\n",
      "891/891 [==============================] - 0s 40us/step - loss: 0.3186 - acc: 0.8810\n",
      "Epoch 672/1000\n",
      "891/891 [==============================] - 0s 40us/step - loss: 0.3168 - acc: 0.8799\n",
      "Epoch 673/1000\n",
      "891/891 [==============================] - 0s 39us/step - loss: 0.3178 - acc: 0.8822\n",
      "Epoch 674/1000\n",
      "891/891 [==============================] - 0s 40us/step - loss: 0.3172 - acc: 0.8777\n",
      "Epoch 675/1000\n",
      "891/891 [==============================] - 0s 43us/step - loss: 0.3179 - acc: 0.8810\n",
      "Epoch 676/1000\n",
      "891/891 [==============================] - 0s 42us/step - loss: 0.3167 - acc: 0.8799\n",
      "Epoch 677/1000\n",
      "891/891 [==============================] - 0s 38us/step - loss: 0.3174 - acc: 0.8810\n",
      "Epoch 678/1000\n",
      "891/891 [==============================] - 0s 39us/step - loss: 0.3187 - acc: 0.8866\n",
      "Epoch 679/1000\n",
      "891/891 [==============================] - 0s 39us/step - loss: 0.3188 - acc: 0.8810\n",
      "Epoch 680/1000\n",
      "891/891 [==============================] - 0s 40us/step - loss: 0.3170 - acc: 0.8788\n",
      "Epoch 681/1000\n",
      "891/891 [==============================] - 0s 41us/step - loss: 0.3172 - acc: 0.8788\n",
      "Epoch 682/1000\n",
      "891/891 [==============================] - 0s 40us/step - loss: 0.3166 - acc: 0.8788\n",
      "Epoch 683/1000\n",
      "891/891 [==============================] - 0s 42us/step - loss: 0.3175 - acc: 0.8788\n",
      "Epoch 684/1000\n",
      "891/891 [==============================] - 0s 39us/step - loss: 0.3168 - acc: 0.8833\n",
      "Epoch 685/1000\n",
      "891/891 [==============================] - 0s 40us/step - loss: 0.3167 - acc: 0.8799\n",
      "Epoch 686/1000\n",
      "891/891 [==============================] - 0s 39us/step - loss: 0.3172 - acc: 0.8822\n",
      "Epoch 687/1000\n",
      "891/891 [==============================] - 0s 41us/step - loss: 0.3170 - acc: 0.8799\n",
      "Epoch 688/1000\n",
      "891/891 [==============================] - 0s 40us/step - loss: 0.3184 - acc: 0.8777\n",
      "Epoch 689/1000\n",
      "891/891 [==============================] - 0s 39us/step - loss: 0.3171 - acc: 0.8765\n",
      "Epoch 690/1000\n",
      "891/891 [==============================] - 0s 38us/step - loss: 0.3165 - acc: 0.8799\n",
      "Epoch 691/1000\n",
      "891/891 [==============================] - 0s 39us/step - loss: 0.3166 - acc: 0.8799\n",
      "Epoch 692/1000\n",
      "891/891 [==============================] - 0s 41us/step - loss: 0.3166 - acc: 0.8833\n",
      "Epoch 693/1000\n",
      "891/891 [==============================] - 0s 54us/step - loss: 0.3172 - acc: 0.8799\n",
      "Epoch 694/1000\n",
      "891/891 [==============================] - 0s 56us/step - loss: 0.3162 - acc: 0.8799\n",
      "Epoch 695/1000\n",
      "891/891 [==============================] - 0s 49us/step - loss: 0.3169 - acc: 0.8788\n",
      "Epoch 696/1000\n",
      "891/891 [==============================] - 0s 59us/step - loss: 0.3169 - acc: 0.8810\n",
      "Epoch 697/1000\n",
      "891/891 [==============================] - 0s 48us/step - loss: 0.3174 - acc: 0.8799\n",
      "Epoch 698/1000\n",
      "891/891 [==============================] - 0s 42us/step - loss: 0.3169 - acc: 0.8777\n",
      "Epoch 699/1000\n",
      "891/891 [==============================] - 0s 41us/step - loss: 0.3170 - acc: 0.8799\n",
      "Epoch 700/1000\n",
      "891/891 [==============================] - 0s 42us/step - loss: 0.3169 - acc: 0.8833\n",
      "Epoch 701/1000\n",
      "891/891 [==============================] - 0s 43us/step - loss: 0.3164 - acc: 0.8799\n",
      "Epoch 702/1000\n",
      "891/891 [==============================] - 0s 44us/step - loss: 0.3171 - acc: 0.8799\n",
      "Epoch 703/1000\n",
      "891/891 [==============================] - 0s 44us/step - loss: 0.3170 - acc: 0.8799\n",
      "Epoch 704/1000\n",
      "891/891 [==============================] - 0s 38us/step - loss: 0.3166 - acc: 0.8833\n",
      "Epoch 705/1000\n",
      "891/891 [==============================] - 0s 40us/step - loss: 0.3173 - acc: 0.8788\n",
      "Epoch 706/1000\n",
      "891/891 [==============================] - 0s 39us/step - loss: 0.3163 - acc: 0.8788\n",
      "Epoch 707/1000\n",
      "891/891 [==============================] - 0s 41us/step - loss: 0.3174 - acc: 0.8788\n",
      "Epoch 708/1000\n",
      "891/891 [==============================] - 0s 40us/step - loss: 0.3179 - acc: 0.8855\n",
      "Epoch 709/1000\n",
      "891/891 [==============================] - 0s 42us/step - loss: 0.3177 - acc: 0.8765\n",
      "Epoch 710/1000\n",
      "891/891 [==============================] - 0s 42us/step - loss: 0.3165 - acc: 0.8799\n",
      "Epoch 711/1000\n",
      "891/891 [==============================] - 0s 44us/step - loss: 0.3171 - acc: 0.8799\n",
      "Epoch 712/1000\n",
      "891/891 [==============================] - 0s 42us/step - loss: 0.3177 - acc: 0.8822\n",
      "Epoch 713/1000\n",
      "891/891 [==============================] - 0s 38us/step - loss: 0.3168 - acc: 0.8788\n",
      "Epoch 714/1000\n",
      "891/891 [==============================] - 0s 39us/step - loss: 0.3158 - acc: 0.8788\n",
      "Epoch 715/1000\n",
      "891/891 [==============================] - 0s 38us/step - loss: 0.3168 - acc: 0.8810\n",
      "Epoch 716/1000\n",
      "891/891 [==============================] - 0s 40us/step - loss: 0.3168 - acc: 0.8799\n",
      "Epoch 717/1000\n",
      "891/891 [==============================] - 0s 42us/step - loss: 0.3166 - acc: 0.8799\n",
      "Epoch 718/1000\n",
      "891/891 [==============================] - 0s 42us/step - loss: 0.3171 - acc: 0.8765\n",
      "Epoch 719/1000\n",
      "891/891 [==============================] - 0s 42us/step - loss: 0.3171 - acc: 0.8822\n",
      "Epoch 720/1000\n",
      "891/891 [==============================] - 0s 42us/step - loss: 0.3179 - acc: 0.8788\n",
      "Epoch 721/1000\n",
      "891/891 [==============================] - 0s 41us/step - loss: 0.3168 - acc: 0.8788\n",
      "Epoch 722/1000\n",
      "891/891 [==============================] - 0s 40us/step - loss: 0.3164 - acc: 0.8799\n",
      "Epoch 723/1000\n",
      "891/891 [==============================] - 0s 39us/step - loss: 0.3162 - acc: 0.8799\n",
      "Epoch 724/1000\n",
      "891/891 [==============================] - 0s 42us/step - loss: 0.3180 - acc: 0.8788\n",
      "Epoch 725/1000\n",
      "891/891 [==============================] - 0s 40us/step - loss: 0.3167 - acc: 0.8833\n",
      "Epoch 726/1000\n",
      "891/891 [==============================] - 0s 40us/step - loss: 0.3172 - acc: 0.8799\n",
      "Epoch 727/1000\n",
      "891/891 [==============================] - 0s 41us/step - loss: 0.3164 - acc: 0.8765\n",
      "Epoch 728/1000\n",
      "891/891 [==============================] - 0s 46us/step - loss: 0.3164 - acc: 0.8788\n",
      "Epoch 729/1000\n",
      "891/891 [==============================] - 0s 43us/step - loss: 0.3177 - acc: 0.8822\n",
      "Epoch 730/1000\n",
      "891/891 [==============================] - 0s 42us/step - loss: 0.3171 - acc: 0.8822\n",
      "Epoch 731/1000\n",
      "891/891 [==============================] - 0s 38us/step - loss: 0.3165 - acc: 0.8822\n",
      "Epoch 732/1000\n",
      "891/891 [==============================] - 0s 38us/step - loss: 0.3165 - acc: 0.8810\n",
      "Epoch 733/1000\n",
      "891/891 [==============================] - 0s 38us/step - loss: 0.3159 - acc: 0.8765\n",
      "Epoch 734/1000\n",
      "891/891 [==============================] - 0s 37us/step - loss: 0.3170 - acc: 0.8855\n",
      "Epoch 735/1000\n",
      "891/891 [==============================] - 0s 36us/step - loss: 0.3161 - acc: 0.8777\n",
      "Epoch 736/1000\n",
      "891/891 [==============================] - 0s 36us/step - loss: 0.3159 - acc: 0.8799\n",
      "Epoch 737/1000\n",
      "891/891 [==============================] - 0s 41us/step - loss: 0.3162 - acc: 0.8822\n",
      "Epoch 738/1000\n",
      "891/891 [==============================] - 0s 42us/step - loss: 0.3175 - acc: 0.8788\n",
      "Epoch 739/1000\n"
     ]
    },
    {
     "name": "stdout",
     "output_type": "stream",
     "text": [
      "891/891 [==============================] - 0s 41us/step - loss: 0.3162 - acc: 0.8833\n",
      "Epoch 740/1000\n",
      "891/891 [==============================] - 0s 43us/step - loss: 0.3163 - acc: 0.8799\n",
      "Epoch 741/1000\n",
      "891/891 [==============================] - 0s 41us/step - loss: 0.3163 - acc: 0.8788\n",
      "Epoch 742/1000\n",
      "891/891 [==============================] - 0s 41us/step - loss: 0.3169 - acc: 0.8788\n",
      "Epoch 743/1000\n",
      "891/891 [==============================] - 0s 42us/step - loss: 0.3163 - acc: 0.8777\n",
      "Epoch 744/1000\n",
      "891/891 [==============================] - 0s 41us/step - loss: 0.3167 - acc: 0.8799\n",
      "Epoch 745/1000\n",
      "891/891 [==============================] - 0s 41us/step - loss: 0.3170 - acc: 0.8788\n",
      "Epoch 746/1000\n",
      "891/891 [==============================] - 0s 44us/step - loss: 0.3160 - acc: 0.8799\n",
      "Epoch 747/1000\n",
      "891/891 [==============================] - 0s 46us/step - loss: 0.3165 - acc: 0.8777\n",
      "Epoch 748/1000\n",
      "891/891 [==============================] - 0s 48us/step - loss: 0.3157 - acc: 0.8765\n",
      "Epoch 749/1000\n",
      "891/891 [==============================] - 0s 42us/step - loss: 0.3161 - acc: 0.8777\n",
      "Epoch 750/1000\n",
      "891/891 [==============================] - 0s 43us/step - loss: 0.3167 - acc: 0.8799\n",
      "Epoch 751/1000\n",
      "891/891 [==============================] - 0s 41us/step - loss: 0.3161 - acc: 0.8822\n",
      "Epoch 752/1000\n",
      "891/891 [==============================] - 0s 42us/step - loss: 0.3167 - acc: 0.8810\n",
      "Epoch 753/1000\n",
      "891/891 [==============================] - 0s 43us/step - loss: 0.3169 - acc: 0.8799\n",
      "Epoch 754/1000\n",
      "891/891 [==============================] - 0s 42us/step - loss: 0.3165 - acc: 0.8810\n",
      "Epoch 755/1000\n",
      "891/891 [==============================] - 0s 41us/step - loss: 0.3174 - acc: 0.8822\n",
      "Epoch 756/1000\n",
      "891/891 [==============================] - 0s 41us/step - loss: 0.3165 - acc: 0.8799\n",
      "Epoch 757/1000\n",
      "891/891 [==============================] - 0s 39us/step - loss: 0.3167 - acc: 0.8810\n",
      "Epoch 758/1000\n",
      "891/891 [==============================] - 0s 41us/step - loss: 0.3172 - acc: 0.8799\n",
      "Epoch 759/1000\n",
      "891/891 [==============================] - 0s 40us/step - loss: 0.3167 - acc: 0.8844\n",
      "Epoch 760/1000\n",
      "891/891 [==============================] - 0s 40us/step - loss: 0.3170 - acc: 0.8788\n",
      "Epoch 761/1000\n",
      "891/891 [==============================] - 0s 42us/step - loss: 0.3162 - acc: 0.8799\n",
      "Epoch 762/1000\n",
      "891/891 [==============================] - 0s 43us/step - loss: 0.3157 - acc: 0.8810\n",
      "Epoch 763/1000\n",
      "891/891 [==============================] - 0s 39us/step - loss: 0.3175 - acc: 0.8799\n",
      "Epoch 764/1000\n",
      "891/891 [==============================] - 0s 45us/step - loss: 0.3163 - acc: 0.8810\n",
      "Epoch 765/1000\n",
      "891/891 [==============================] - 0s 46us/step - loss: 0.3171 - acc: 0.8822\n",
      "Epoch 766/1000\n",
      "891/891 [==============================] - 0s 45us/step - loss: 0.3161 - acc: 0.8788\n",
      "Epoch 767/1000\n",
      "891/891 [==============================] - 0s 42us/step - loss: 0.3153 - acc: 0.8799\n",
      "Epoch 768/1000\n",
      "891/891 [==============================] - 0s 43us/step - loss: 0.3162 - acc: 0.8810\n",
      "Epoch 769/1000\n",
      "891/891 [==============================] - 0s 41us/step - loss: 0.3162 - acc: 0.8777\n",
      "Epoch 770/1000\n",
      "891/891 [==============================] - 0s 40us/step - loss: 0.3158 - acc: 0.8822\n",
      "Epoch 771/1000\n",
      "891/891 [==============================] - 0s 41us/step - loss: 0.3157 - acc: 0.8799\n",
      "Epoch 772/1000\n",
      "891/891 [==============================] - 0s 40us/step - loss: 0.3158 - acc: 0.8799\n",
      "Epoch 773/1000\n",
      "891/891 [==============================] - 0s 40us/step - loss: 0.3164 - acc: 0.8833\n",
      "Epoch 774/1000\n",
      "891/891 [==============================] - 0s 41us/step - loss: 0.3163 - acc: 0.8833\n",
      "Epoch 775/1000\n",
      "891/891 [==============================] - 0s 39us/step - loss: 0.3180 - acc: 0.8788\n",
      "Epoch 776/1000\n",
      "891/891 [==============================] - 0s 41us/step - loss: 0.3167 - acc: 0.8810\n",
      "Epoch 777/1000\n",
      "891/891 [==============================] - 0s 41us/step - loss: 0.3166 - acc: 0.8822\n",
      "Epoch 778/1000\n",
      "891/891 [==============================] - 0s 42us/step - loss: 0.3159 - acc: 0.8810\n",
      "Epoch 779/1000\n",
      "891/891 [==============================] - 0s 42us/step - loss: 0.3162 - acc: 0.8799\n",
      "Epoch 780/1000\n",
      "891/891 [==============================] - 0s 41us/step - loss: 0.3165 - acc: 0.8788\n",
      "Epoch 781/1000\n",
      "891/891 [==============================] - 0s 40us/step - loss: 0.3158 - acc: 0.8777\n",
      "Epoch 782/1000\n",
      "891/891 [==============================] - 0s 44us/step - loss: 0.3158 - acc: 0.8822\n",
      "Epoch 783/1000\n",
      "891/891 [==============================] - 0s 44us/step - loss: 0.3158 - acc: 0.8788\n",
      "Epoch 784/1000\n",
      "891/891 [==============================] - 0s 45us/step - loss: 0.3165 - acc: 0.8799\n",
      "Epoch 785/1000\n",
      "891/891 [==============================] - 0s 39us/step - loss: 0.3163 - acc: 0.8799\n",
      "Epoch 786/1000\n",
      "891/891 [==============================] - 0s 41us/step - loss: 0.3163 - acc: 0.8844\n",
      "Epoch 787/1000\n",
      "891/891 [==============================] - 0s 41us/step - loss: 0.3162 - acc: 0.8788\n",
      "Epoch 788/1000\n",
      "891/891 [==============================] - 0s 39us/step - loss: 0.3158 - acc: 0.8810\n",
      "Epoch 789/1000\n",
      "891/891 [==============================] - 0s 40us/step - loss: 0.3155 - acc: 0.8799\n",
      "Epoch 790/1000\n",
      "891/891 [==============================] - 0s 39us/step - loss: 0.3162 - acc: 0.8788\n",
      "Epoch 791/1000\n",
      "891/891 [==============================] - 0s 38us/step - loss: 0.3161 - acc: 0.8788\n",
      "Epoch 792/1000\n",
      "891/891 [==============================] - 0s 41us/step - loss: 0.3163 - acc: 0.8844\n",
      "Epoch 793/1000\n",
      "891/891 [==============================] - 0s 38us/step - loss: 0.3153 - acc: 0.8822\n",
      "Epoch 794/1000\n",
      "891/891 [==============================] - 0s 38us/step - loss: 0.3165 - acc: 0.8822\n",
      "Epoch 795/1000\n",
      "891/891 [==============================] - 0s 41us/step - loss: 0.3157 - acc: 0.8788\n",
      "Epoch 796/1000\n",
      "891/891 [==============================] - 0s 40us/step - loss: 0.3161 - acc: 0.8788\n",
      "Epoch 797/1000\n",
      "891/891 [==============================] - 0s 39us/step - loss: 0.3157 - acc: 0.8810\n",
      "Epoch 798/1000\n",
      "891/891 [==============================] - 0s 41us/step - loss: 0.3160 - acc: 0.8810\n",
      "Epoch 799/1000\n",
      "891/891 [==============================] - 0s 38us/step - loss: 0.3155 - acc: 0.8822\n",
      "Epoch 800/1000\n",
      "891/891 [==============================] - 0s 40us/step - loss: 0.3157 - acc: 0.8844\n",
      "Epoch 801/1000\n",
      "891/891 [==============================] - 0s 44us/step - loss: 0.3154 - acc: 0.8833\n",
      "Epoch 802/1000\n",
      "891/891 [==============================] - 0s 44us/step - loss: 0.3162 - acc: 0.8822\n",
      "Epoch 803/1000\n",
      "891/891 [==============================] - 0s 45us/step - loss: 0.3163 - acc: 0.8799\n",
      "Epoch 804/1000\n",
      "891/891 [==============================] - 0s 43us/step - loss: 0.3162 - acc: 0.8866\n",
      "Epoch 805/1000\n",
      "891/891 [==============================] - 0s 41us/step - loss: 0.3160 - acc: 0.8799\n",
      "Epoch 806/1000\n",
      "891/891 [==============================] - 0s 40us/step - loss: 0.3160 - acc: 0.8810\n",
      "Epoch 807/1000\n",
      "891/891 [==============================] - 0s 43us/step - loss: 0.3158 - acc: 0.8810\n",
      "Epoch 808/1000\n",
      "891/891 [==============================] - 0s 41us/step - loss: 0.3154 - acc: 0.8833\n",
      "Epoch 809/1000\n",
      "891/891 [==============================] - 0s 40us/step - loss: 0.3152 - acc: 0.8822\n",
      "Epoch 810/1000\n",
      "891/891 [==============================] - 0s 43us/step - loss: 0.3158 - acc: 0.8822\n",
      "Epoch 811/1000\n",
      "891/891 [==============================] - 0s 42us/step - loss: 0.3156 - acc: 0.8799\n",
      "Epoch 812/1000\n",
      "891/891 [==============================] - 0s 40us/step - loss: 0.3174 - acc: 0.8799\n",
      "Epoch 813/1000\n",
      "891/891 [==============================] - 0s 40us/step - loss: 0.3167 - acc: 0.8844\n",
      "Epoch 814/1000\n",
      "891/891 [==============================] - 0s 41us/step - loss: 0.3153 - acc: 0.8810\n",
      "Epoch 815/1000\n",
      "891/891 [==============================] - 0s 43us/step - loss: 0.3168 - acc: 0.8822\n",
      "Epoch 816/1000\n",
      "891/891 [==============================] - 0s 40us/step - loss: 0.3165 - acc: 0.8810\n",
      "Epoch 817/1000\n",
      "891/891 [==============================] - 0s 42us/step - loss: 0.3171 - acc: 0.8855\n",
      "Epoch 818/1000\n",
      "891/891 [==============================] - 0s 43us/step - loss: 0.3158 - acc: 0.8822\n",
      "Epoch 819/1000\n",
      "891/891 [==============================] - 0s 47us/step - loss: 0.3152 - acc: 0.8810\n",
      "Epoch 820/1000\n",
      "891/891 [==============================] - 0s 46us/step - loss: 0.3155 - acc: 0.8777\n",
      "Epoch 821/1000\n"
     ]
    },
    {
     "name": "stdout",
     "output_type": "stream",
     "text": [
      "891/891 [==============================] - 0s 44us/step - loss: 0.3153 - acc: 0.8822\n",
      "Epoch 822/1000\n",
      "891/891 [==============================] - 0s 42us/step - loss: 0.3158 - acc: 0.8810\n",
      "Epoch 823/1000\n",
      "891/891 [==============================] - 0s 43us/step - loss: 0.3165 - acc: 0.8833\n",
      "Epoch 824/1000\n",
      "891/891 [==============================] - 0s 42us/step - loss: 0.3159 - acc: 0.8822\n",
      "Epoch 825/1000\n",
      "891/891 [==============================] - 0s 42us/step - loss: 0.3151 - acc: 0.8810\n",
      "Epoch 826/1000\n",
      "891/891 [==============================] - 0s 40us/step - loss: 0.3156 - acc: 0.8799\n",
      "Epoch 827/1000\n",
      "891/891 [==============================] - 0s 41us/step - loss: 0.3160 - acc: 0.8810\n",
      "Epoch 828/1000\n",
      "891/891 [==============================] - 0s 41us/step - loss: 0.3154 - acc: 0.8799\n",
      "Epoch 829/1000\n",
      "891/891 [==============================] - 0s 43us/step - loss: 0.3156 - acc: 0.8833\n",
      "Epoch 830/1000\n",
      "891/891 [==============================] - 0s 38us/step - loss: 0.3149 - acc: 0.8799\n",
      "Epoch 831/1000\n",
      "891/891 [==============================] - 0s 39us/step - loss: 0.3157 - acc: 0.8810\n",
      "Epoch 832/1000\n",
      "891/891 [==============================] - 0s 39us/step - loss: 0.3160 - acc: 0.8844\n",
      "Epoch 833/1000\n",
      "891/891 [==============================] - 0s 38us/step - loss: 0.3155 - acc: 0.8799\n",
      "Epoch 834/1000\n",
      "891/891 [==============================] - 0s 38us/step - loss: 0.3156 - acc: 0.8810\n",
      "Epoch 835/1000\n",
      "891/891 [==============================] - 0s 38us/step - loss: 0.3152 - acc: 0.8810\n",
      "Epoch 836/1000\n",
      "891/891 [==============================] - 0s 40us/step - loss: 0.3158 - acc: 0.8799\n",
      "Epoch 837/1000\n",
      "891/891 [==============================] - 0s 47us/step - loss: 0.3160 - acc: 0.8855\n",
      "Epoch 838/1000\n",
      "891/891 [==============================] - 0s 50us/step - loss: 0.3162 - acc: 0.8833\n",
      "Epoch 839/1000\n",
      "891/891 [==============================] - 0s 44us/step - loss: 0.3155 - acc: 0.8810\n",
      "Epoch 840/1000\n",
      "891/891 [==============================] - 0s 38us/step - loss: 0.3152 - acc: 0.8822\n",
      "Epoch 841/1000\n",
      "891/891 [==============================] - 0s 37us/step - loss: 0.3158 - acc: 0.8844\n",
      "Epoch 842/1000\n",
      "891/891 [==============================] - 0s 39us/step - loss: 0.3149 - acc: 0.8833\n",
      "Epoch 843/1000\n",
      "891/891 [==============================] - 0s 44us/step - loss: 0.3166 - acc: 0.8810\n",
      "Epoch 844/1000\n",
      "891/891 [==============================] - 0s 43us/step - loss: 0.3161 - acc: 0.8866\n",
      "Epoch 845/1000\n",
      "891/891 [==============================] - 0s 44us/step - loss: 0.3155 - acc: 0.8822\n",
      "Epoch 846/1000\n",
      "891/891 [==============================] - 0s 42us/step - loss: 0.3156 - acc: 0.8822\n",
      "Epoch 847/1000\n",
      "891/891 [==============================] - 0s 37us/step - loss: 0.3150 - acc: 0.8822\n",
      "Epoch 848/1000\n",
      "891/891 [==============================] - 0s 39us/step - loss: 0.3161 - acc: 0.8822\n",
      "Epoch 849/1000\n",
      "891/891 [==============================] - 0s 38us/step - loss: 0.3154 - acc: 0.8822\n",
      "Epoch 850/1000\n",
      "891/891 [==============================] - 0s 38us/step - loss: 0.3160 - acc: 0.8799\n",
      "Epoch 851/1000\n",
      "891/891 [==============================] - 0s 41us/step - loss: 0.3159 - acc: 0.8855\n",
      "Epoch 852/1000\n",
      "891/891 [==============================] - 0s 40us/step - loss: 0.3162 - acc: 0.8799\n",
      "Epoch 853/1000\n",
      "891/891 [==============================] - 0s 38us/step - loss: 0.3150 - acc: 0.8822\n",
      "Epoch 854/1000\n",
      "891/891 [==============================] - 0s 40us/step - loss: 0.3148 - acc: 0.8822\n",
      "Epoch 855/1000\n",
      "891/891 [==============================] - 0s 40us/step - loss: 0.3153 - acc: 0.8810\n",
      "Epoch 856/1000\n",
      "891/891 [==============================] - 0s 40us/step - loss: 0.3154 - acc: 0.8855\n",
      "Epoch 857/1000\n",
      "891/891 [==============================] - 0s 38us/step - loss: 0.3153 - acc: 0.8822\n",
      "Epoch 858/1000\n",
      "891/891 [==============================] - 0s 37us/step - loss: 0.3159 - acc: 0.8844\n",
      "Epoch 859/1000\n",
      "891/891 [==============================] - 0s 38us/step - loss: 0.3159 - acc: 0.8810\n",
      "Epoch 860/1000\n",
      "891/891 [==============================] - 0s 40us/step - loss: 0.3158 - acc: 0.8844\n",
      "Epoch 861/1000\n",
      "891/891 [==============================] - 0s 39us/step - loss: 0.3154 - acc: 0.8799\n",
      "Epoch 862/1000\n",
      "891/891 [==============================] - 0s 42us/step - loss: 0.3154 - acc: 0.8822\n",
      "Epoch 863/1000\n",
      "891/891 [==============================] - 0s 48us/step - loss: 0.3160 - acc: 0.8833\n",
      "Epoch 864/1000\n",
      "891/891 [==============================] - 0s 47us/step - loss: 0.3154 - acc: 0.8833\n",
      "Epoch 865/1000\n",
      "891/891 [==============================] - 0s 41us/step - loss: 0.3154 - acc: 0.8799\n",
      "Epoch 866/1000\n",
      "891/891 [==============================] - 0s 40us/step - loss: 0.3165 - acc: 0.8844\n",
      "Epoch 867/1000\n",
      "891/891 [==============================] - 0s 43us/step - loss: 0.3167 - acc: 0.8866\n",
      "Epoch 868/1000\n",
      "891/891 [==============================] - 0s 38us/step - loss: 0.3156 - acc: 0.8822\n",
      "Epoch 869/1000\n",
      "891/891 [==============================] - 0s 40us/step - loss: 0.3158 - acc: 0.8833\n",
      "Epoch 870/1000\n",
      "891/891 [==============================] - 0s 42us/step - loss: 0.3155 - acc: 0.8810\n",
      "Epoch 871/1000\n",
      "891/891 [==============================] - 0s 42us/step - loss: 0.3149 - acc: 0.8844\n",
      "Epoch 872/1000\n",
      "891/891 [==============================] - 0s 40us/step - loss: 0.3148 - acc: 0.8810\n",
      "Epoch 873/1000\n",
      "891/891 [==============================] - 0s 40us/step - loss: 0.3144 - acc: 0.8833\n",
      "Epoch 874/1000\n",
      "891/891 [==============================] - 0s 39us/step - loss: 0.3149 - acc: 0.8833\n",
      "Epoch 875/1000\n",
      "891/891 [==============================] - 0s 42us/step - loss: 0.3154 - acc: 0.8833\n",
      "Epoch 876/1000\n",
      "891/891 [==============================] - 0s 41us/step - loss: 0.3150 - acc: 0.8822\n",
      "Epoch 877/1000\n",
      "891/891 [==============================] - 0s 41us/step - loss: 0.3161 - acc: 0.8810\n",
      "Epoch 878/1000\n",
      "891/891 [==============================] - 0s 39us/step - loss: 0.3166 - acc: 0.8822\n",
      "Epoch 879/1000\n",
      "891/891 [==============================] - 0s 42us/step - loss: 0.3154 - acc: 0.8810\n",
      "Epoch 880/1000\n",
      "891/891 [==============================] - 0s 44us/step - loss: 0.3155 - acc: 0.8822\n",
      "Epoch 881/1000\n",
      "891/891 [==============================] - 0s 48us/step - loss: 0.3158 - acc: 0.8844\n",
      "Epoch 882/1000\n",
      "891/891 [==============================] - 0s 45us/step - loss: 0.3166 - acc: 0.8799\n",
      "Epoch 883/1000\n",
      "891/891 [==============================] - 0s 38us/step - loss: 0.3150 - acc: 0.8810\n",
      "Epoch 884/1000\n",
      "891/891 [==============================] - 0s 40us/step - loss: 0.3149 - acc: 0.8822\n",
      "Epoch 885/1000\n",
      "891/891 [==============================] - 0s 39us/step - loss: 0.3158 - acc: 0.8799\n",
      "Epoch 886/1000\n",
      "891/891 [==============================] - 0s 39us/step - loss: 0.3164 - acc: 0.8844\n",
      "Epoch 887/1000\n",
      "891/891 [==============================] - 0s 38us/step - loss: 0.3160 - acc: 0.8833\n",
      "Epoch 888/1000\n",
      "891/891 [==============================] - 0s 39us/step - loss: 0.3153 - acc: 0.8833\n",
      "Epoch 889/1000\n",
      "891/891 [==============================] - 0s 39us/step - loss: 0.3152 - acc: 0.8833\n",
      "Epoch 890/1000\n",
      "891/891 [==============================] - 0s 39us/step - loss: 0.3152 - acc: 0.8844\n",
      "Epoch 891/1000\n",
      "891/891 [==============================] - 0s 40us/step - loss: 0.3157 - acc: 0.8810\n",
      "Epoch 892/1000\n",
      "891/891 [==============================] - 0s 38us/step - loss: 0.3158 - acc: 0.8844\n",
      "Epoch 893/1000\n",
      "891/891 [==============================] - 0s 40us/step - loss: 0.3153 - acc: 0.8822\n",
      "Epoch 894/1000\n",
      "891/891 [==============================] - 0s 43us/step - loss: 0.3152 - acc: 0.8810\n",
      "Epoch 895/1000\n",
      "891/891 [==============================] - 0s 38us/step - loss: 0.3155 - acc: 0.8844\n",
      "Epoch 896/1000\n",
      "891/891 [==============================] - 0s 43us/step - loss: 0.3147 - acc: 0.8833\n",
      "Epoch 897/1000\n",
      "891/891 [==============================] - 0s 41us/step - loss: 0.3153 - acc: 0.8844\n",
      "Epoch 898/1000\n",
      "891/891 [==============================] - 0s 36us/step - loss: 0.3160 - acc: 0.8810\n",
      "Epoch 899/1000\n",
      "891/891 [==============================] - 0s 35us/step - loss: 0.3161 - acc: 0.8822\n",
      "Epoch 900/1000\n",
      "891/891 [==============================] - 0s 43us/step - loss: 0.3152 - acc: 0.8822\n",
      "Epoch 901/1000\n",
      "891/891 [==============================] - 0s 40us/step - loss: 0.3155 - acc: 0.8822\n",
      "Epoch 902/1000\n",
      "891/891 [==============================] - 0s 43us/step - loss: 0.3155 - acc: 0.8810\n",
      "Epoch 903/1000\n"
     ]
    },
    {
     "name": "stdout",
     "output_type": "stream",
     "text": [
      "891/891 [==============================] - 0s 40us/step - loss: 0.3144 - acc: 0.8810\n",
      "Epoch 904/1000\n",
      "891/891 [==============================] - 0s 39us/step - loss: 0.3153 - acc: 0.8822\n",
      "Epoch 905/1000\n",
      "891/891 [==============================] - 0s 37us/step - loss: 0.3161 - acc: 0.8833\n",
      "Epoch 906/1000\n",
      "891/891 [==============================] - 0s 38us/step - loss: 0.3157 - acc: 0.8799\n",
      "Epoch 907/1000\n",
      "891/891 [==============================] - 0s 38us/step - loss: 0.3150 - acc: 0.8844\n",
      "Epoch 908/1000\n",
      "891/891 [==============================] - 0s 38us/step - loss: 0.3155 - acc: 0.8822\n",
      "Epoch 909/1000\n",
      "891/891 [==============================] - 0s 39us/step - loss: 0.3168 - acc: 0.8855\n",
      "Epoch 910/1000\n",
      "891/891 [==============================] - 0s 37us/step - loss: 0.3150 - acc: 0.8822\n",
      "Epoch 911/1000\n",
      "891/891 [==============================] - 0s 39us/step - loss: 0.3156 - acc: 0.8822\n",
      "Epoch 912/1000\n",
      "891/891 [==============================] - 0s 39us/step - loss: 0.3162 - acc: 0.8833\n",
      "Epoch 913/1000\n",
      "891/891 [==============================] - 0s 39us/step - loss: 0.3170 - acc: 0.8822\n",
      "Epoch 914/1000\n",
      "891/891 [==============================] - 0s 38us/step - loss: 0.3148 - acc: 0.8844\n",
      "Epoch 915/1000\n",
      "891/891 [==============================] - 0s 38us/step - loss: 0.3152 - acc: 0.8810\n",
      "Epoch 916/1000\n",
      "891/891 [==============================] - 0s 40us/step - loss: 0.3151 - acc: 0.8810\n",
      "Epoch 917/1000\n",
      "891/891 [==============================] - 0s 41us/step - loss: 0.3147 - acc: 0.8822\n",
      "Epoch 918/1000\n",
      "891/891 [==============================] - 0s 47us/step - loss: 0.3150 - acc: 0.8833\n",
      "Epoch 919/1000\n",
      "891/891 [==============================] - 0s 43us/step - loss: 0.3148 - acc: 0.8822\n",
      "Epoch 920/1000\n",
      "891/891 [==============================] - 0s 41us/step - loss: 0.3154 - acc: 0.8844\n",
      "Epoch 921/1000\n",
      "891/891 [==============================] - 0s 38us/step - loss: 0.3154 - acc: 0.8810\n",
      "Epoch 922/1000\n",
      "891/891 [==============================] - 0s 41us/step - loss: 0.3151 - acc: 0.8810\n",
      "Epoch 923/1000\n",
      "891/891 [==============================] - 0s 41us/step - loss: 0.3152 - acc: 0.8844\n",
      "Epoch 924/1000\n",
      "891/891 [==============================] - 0s 43us/step - loss: 0.3155 - acc: 0.8833\n",
      "Epoch 925/1000\n",
      "891/891 [==============================] - 0s 41us/step - loss: 0.3164 - acc: 0.8866\n",
      "Epoch 926/1000\n",
      "891/891 [==============================] - 0s 40us/step - loss: 0.3155 - acc: 0.8855\n",
      "Epoch 927/1000\n",
      "891/891 [==============================] - 0s 44us/step - loss: 0.3153 - acc: 0.8788\n",
      "Epoch 928/1000\n",
      "891/891 [==============================] - 0s 41us/step - loss: 0.3160 - acc: 0.8810\n",
      "Epoch 929/1000\n",
      "891/891 [==============================] - 0s 42us/step - loss: 0.3153 - acc: 0.8833\n",
      "Epoch 930/1000\n",
      "891/891 [==============================] - 0s 42us/step - loss: 0.3152 - acc: 0.8866\n",
      "Epoch 931/1000\n",
      "891/891 [==============================] - 0s 40us/step - loss: 0.3149 - acc: 0.8810\n",
      "Epoch 932/1000\n",
      "891/891 [==============================] - 0s 41us/step - loss: 0.3150 - acc: 0.8822\n",
      "Epoch 933/1000\n",
      "891/891 [==============================] - 0s 42us/step - loss: 0.3155 - acc: 0.8833\n",
      "Epoch 934/1000\n",
      "891/891 [==============================] - 0s 40us/step - loss: 0.3154 - acc: 0.8810\n",
      "Epoch 935/1000\n",
      "891/891 [==============================] - 0s 43us/step - loss: 0.3151 - acc: 0.8833\n",
      "Epoch 936/1000\n",
      "891/891 [==============================] - 0s 45us/step - loss: 0.3149 - acc: 0.8866\n",
      "Epoch 937/1000\n",
      "891/891 [==============================] - 0s 47us/step - loss: 0.3162 - acc: 0.8810\n",
      "Epoch 938/1000\n",
      "891/891 [==============================] - 0s 43us/step - loss: 0.3155 - acc: 0.8855\n",
      "Epoch 939/1000\n",
      "891/891 [==============================] - 0s 40us/step - loss: 0.3156 - acc: 0.8833\n",
      "Epoch 940/1000\n",
      "891/891 [==============================] - 0s 39us/step - loss: 0.3153 - acc: 0.8810\n",
      "Epoch 941/1000\n",
      "891/891 [==============================] - 0s 42us/step - loss: 0.3154 - acc: 0.8844\n",
      "Epoch 942/1000\n",
      "891/891 [==============================] - 0s 40us/step - loss: 0.3150 - acc: 0.8833\n",
      "Epoch 943/1000\n",
      "891/891 [==============================] - 0s 41us/step - loss: 0.3151 - acc: 0.8822\n",
      "Epoch 944/1000\n",
      "891/891 [==============================] - 0s 40us/step - loss: 0.3149 - acc: 0.8799\n",
      "Epoch 945/1000\n",
      "891/891 [==============================] - 0s 41us/step - loss: 0.3149 - acc: 0.8855\n",
      "Epoch 946/1000\n",
      "891/891 [==============================] - 0s 43us/step - loss: 0.3146 - acc: 0.8822\n",
      "Epoch 947/1000\n",
      "891/891 [==============================] - 0s 41us/step - loss: 0.3154 - acc: 0.8822\n",
      "Epoch 948/1000\n",
      "891/891 [==============================] - 0s 39us/step - loss: 0.3151 - acc: 0.8833\n",
      "Epoch 949/1000\n",
      "891/891 [==============================] - 0s 41us/step - loss: 0.3147 - acc: 0.8822\n",
      "Epoch 950/1000\n",
      "891/891 [==============================] - 0s 38us/step - loss: 0.3155 - acc: 0.8844\n",
      "Epoch 951/1000\n",
      "891/891 [==============================] - 0s 40us/step - loss: 0.3159 - acc: 0.8844\n",
      "Epoch 952/1000\n",
      "891/891 [==============================] - 0s 38us/step - loss: 0.3152 - acc: 0.8822\n",
      "Epoch 953/1000\n",
      "891/891 [==============================] - 0s 39us/step - loss: 0.3151 - acc: 0.8855\n",
      "Epoch 954/1000\n",
      "891/891 [==============================] - 0s 42us/step - loss: 0.3148 - acc: 0.8833\n",
      "Epoch 955/1000\n",
      "891/891 [==============================] - 0s 45us/step - loss: 0.3162 - acc: 0.8822\n",
      "Epoch 956/1000\n",
      "891/891 [==============================] - 0s 41us/step - loss: 0.3158 - acc: 0.8844\n",
      "Epoch 957/1000\n",
      "891/891 [==============================] - 0s 40us/step - loss: 0.3151 - acc: 0.8822\n",
      "Epoch 958/1000\n",
      "891/891 [==============================] - 0s 39us/step - loss: 0.3151 - acc: 0.8855\n",
      "Epoch 959/1000\n",
      "891/891 [==============================] - 0s 41us/step - loss: 0.3148 - acc: 0.8799\n",
      "Epoch 960/1000\n",
      "891/891 [==============================] - 0s 39us/step - loss: 0.3148 - acc: 0.8822\n",
      "Epoch 961/1000\n",
      "891/891 [==============================] - 0s 43us/step - loss: 0.3146 - acc: 0.8866\n",
      "Epoch 962/1000\n",
      "891/891 [==============================] - 0s 40us/step - loss: 0.3146 - acc: 0.8822\n",
      "Epoch 963/1000\n",
      "891/891 [==============================] - 0s 39us/step - loss: 0.3149 - acc: 0.8822\n",
      "Epoch 964/1000\n",
      "891/891 [==============================] - 0s 39us/step - loss: 0.3155 - acc: 0.8844\n",
      "Epoch 965/1000\n",
      "891/891 [==============================] - 0s 40us/step - loss: 0.3147 - acc: 0.8833\n",
      "Epoch 966/1000\n",
      "891/891 [==============================] - 0s 42us/step - loss: 0.3143 - acc: 0.8833\n",
      "Epoch 967/1000\n",
      "891/891 [==============================] - 0s 43us/step - loss: 0.3159 - acc: 0.8822\n",
      "Epoch 968/1000\n",
      "891/891 [==============================] - 0s 40us/step - loss: 0.3145 - acc: 0.8822\n",
      "Epoch 969/1000\n",
      "891/891 [==============================] - 0s 43us/step - loss: 0.3147 - acc: 0.8822\n",
      "Epoch 970/1000\n",
      "891/891 [==============================] - 0s 45us/step - loss: 0.3144 - acc: 0.8833\n",
      "Epoch 971/1000\n",
      "891/891 [==============================] - 0s 46us/step - loss: 0.3149 - acc: 0.8822\n",
      "Epoch 972/1000\n",
      "891/891 [==============================] - 0s 50us/step - loss: 0.3154 - acc: 0.8810\n",
      "Epoch 973/1000\n",
      "891/891 [==============================] - 0s 40us/step - loss: 0.3150 - acc: 0.8833\n",
      "Epoch 974/1000\n",
      "891/891 [==============================] - 0s 41us/step - loss: 0.3149 - acc: 0.8810\n",
      "Epoch 975/1000\n",
      "891/891 [==============================] - 0s 42us/step - loss: 0.3145 - acc: 0.8833\n",
      "Epoch 976/1000\n",
      "891/891 [==============================] - 0s 39us/step - loss: 0.3146 - acc: 0.8822\n",
      "Epoch 977/1000\n",
      "891/891 [==============================] - 0s 43us/step - loss: 0.3150 - acc: 0.8833\n",
      "Epoch 978/1000\n",
      "891/891 [==============================] - 0s 46us/step - loss: 0.3156 - acc: 0.8810\n",
      "Epoch 979/1000\n",
      "891/891 [==============================] - 0s 39us/step - loss: 0.3151 - acc: 0.8855\n",
      "Epoch 980/1000\n",
      "891/891 [==============================] - 0s 42us/step - loss: 0.3153 - acc: 0.8822\n",
      "Epoch 981/1000\n",
      "891/891 [==============================] - 0s 43us/step - loss: 0.3154 - acc: 0.8855\n",
      "Epoch 982/1000\n",
      "891/891 [==============================] - 0s 40us/step - loss: 0.3149 - acc: 0.8833\n",
      "Epoch 983/1000\n",
      "891/891 [==============================] - 0s 42us/step - loss: 0.3146 - acc: 0.8844\n",
      "Epoch 984/1000\n",
      "891/891 [==============================] - 0s 42us/step - loss: 0.3146 - acc: 0.8833\n",
      "Epoch 985/1000\n"
     ]
    },
    {
     "name": "stdout",
     "output_type": "stream",
     "text": [
      "891/891 [==============================] - 0s 41us/step - loss: 0.3151 - acc: 0.8833\n",
      "Epoch 986/1000\n",
      "891/891 [==============================] - 0s 42us/step - loss: 0.3156 - acc: 0.8844\n",
      "Epoch 987/1000\n",
      "891/891 [==============================] - 0s 43us/step - loss: 0.3148 - acc: 0.8810\n",
      "Epoch 988/1000\n",
      "891/891 [==============================] - 0s 47us/step - loss: 0.3157 - acc: 0.8822\n",
      "Epoch 989/1000\n",
      "891/891 [==============================] - 0s 46us/step - loss: 0.3151 - acc: 0.8810\n",
      "Epoch 990/1000\n",
      "891/891 [==============================] - 0s 43us/step - loss: 0.3148 - acc: 0.8810\n",
      "Epoch 991/1000\n",
      "891/891 [==============================] - 0s 43us/step - loss: 0.3143 - acc: 0.8810\n",
      "Epoch 992/1000\n",
      "891/891 [==============================] - 0s 41us/step - loss: 0.3143 - acc: 0.8833\n",
      "Epoch 993/1000\n",
      "891/891 [==============================] - 0s 39us/step - loss: 0.3150 - acc: 0.8844\n",
      "Epoch 994/1000\n",
      "891/891 [==============================] - 0s 41us/step - loss: 0.3160 - acc: 0.8833\n",
      "Epoch 995/1000\n",
      "891/891 [==============================] - 0s 43us/step - loss: 0.3164 - acc: 0.8810\n",
      "Epoch 996/1000\n",
      "891/891 [==============================] - 0s 41us/step - loss: 0.3151 - acc: 0.8844\n",
      "Epoch 997/1000\n",
      "891/891 [==============================] - 0s 40us/step - loss: 0.3144 - acc: 0.8810\n",
      "Epoch 998/1000\n",
      "891/891 [==============================] - 0s 41us/step - loss: 0.3148 - acc: 0.8822\n",
      "Epoch 999/1000\n",
      "891/891 [==============================] - 0s 41us/step - loss: 0.3149 - acc: 0.8833\n",
      "Epoch 1000/1000\n",
      "891/891 [==============================] - 0s 43us/step - loss: 0.3149 - acc: 0.8822\n"
     ]
    },
    {
     "data": {
      "text/plain": [
       "<keras.callbacks.History at 0x1a2126fc18>"
      ]
     },
     "execution_count": 115,
     "metadata": {},
     "output_type": "execute_result"
    }
   ],
   "source": [
    "classifier.fit(X_train, Y_train, batch_size = 25, epochs = 1000)"
   ]
  },
  {
   "cell_type": "code",
   "execution_count": 116,
   "metadata": {},
   "outputs": [
    {
     "data": {
      "text/html": [
       "<div>\n",
       "<style scoped>\n",
       "    .dataframe tbody tr th:only-of-type {\n",
       "        vertical-align: middle;\n",
       "    }\n",
       "\n",
       "    .dataframe tbody tr th {\n",
       "        vertical-align: top;\n",
       "    }\n",
       "\n",
       "    .dataframe thead th {\n",
       "        text-align: right;\n",
       "    }\n",
       "</style>\n",
       "<table border=\"1\" class=\"dataframe\">\n",
       "  <thead>\n",
       "    <tr style=\"text-align: right;\">\n",
       "      <th></th>\n",
       "      <th>PassengerId</th>\n",
       "      <th>Survived</th>\n",
       "      <th>check</th>\n",
       "      <th>final</th>\n",
       "    </tr>\n",
       "  </thead>\n",
       "  <tbody>\n",
       "    <tr>\n",
       "      <th>0</th>\n",
       "      <td>892</td>\n",
       "      <td>0</td>\n",
       "      <td>0.088204</td>\n",
       "      <td>0</td>\n",
       "    </tr>\n",
       "    <tr>\n",
       "      <th>1</th>\n",
       "      <td>893</td>\n",
       "      <td>1</td>\n",
       "      <td>0.852284</td>\n",
       "      <td>1</td>\n",
       "    </tr>\n",
       "    <tr>\n",
       "      <th>2</th>\n",
       "      <td>894</td>\n",
       "      <td>0</td>\n",
       "      <td>0.053763</td>\n",
       "      <td>0</td>\n",
       "    </tr>\n",
       "    <tr>\n",
       "      <th>3</th>\n",
       "      <td>895</td>\n",
       "      <td>0</td>\n",
       "      <td>0.045253</td>\n",
       "      <td>0</td>\n",
       "    </tr>\n",
       "    <tr>\n",
       "      <th>4</th>\n",
       "      <td>896</td>\n",
       "      <td>1</td>\n",
       "      <td>0.613846</td>\n",
       "      <td>1</td>\n",
       "    </tr>\n",
       "  </tbody>\n",
       "</table>\n",
       "</div>"
      ],
      "text/plain": [
       "   PassengerId  Survived     check  final\n",
       "0          892         0  0.088204      0\n",
       "1          893         1  0.852284      1\n",
       "2          894         0  0.053763      0\n",
       "3          895         0  0.045253      0\n",
       "4          896         1  0.613846      1"
      ]
     },
     "execution_count": 116,
     "metadata": {},
     "output_type": "execute_result"
    }
   ],
   "source": [
    "#Our model is trained, Now it can predict on its own on any new situation, Lets test our model on the testing data and get all the predictions to a series.\n",
    "\n",
    "# getting predictions of test data\n",
    "prediction = classifier.predict(X_test).tolist()\n",
    "\n",
    "# list to series\n",
    "se = pd.Series(prediction)\n",
    "\n",
    "# Read submit template\n",
    "data_check = pd.read_csv('data/test_result.csv')\n",
    "\n",
    "# creating new column of predictions in data_check dataframe\n",
    "data_check['check'] = se\n",
    "data_check['check'] = data_check['check'].str.get(0)\n",
    "\n",
    "# We can easily notice that, values greater then 0.5 in column (check) are actually predicted as 1, now lets write a for loop to add another column in which value ≥ 0.5 has 1 and < 0.5 has 0.\n",
    "series = []\n",
    "for val in data_check.check:\n",
    "    if val >= 0.5:\n",
    "        series.append(1)\n",
    "    else:\n",
    "        series.append(0)\n",
    "data_check['final'] = series\n",
    "\n",
    "data_check.head()"
   ]
  },
  {
   "cell_type": "code",
   "execution_count": 118,
   "metadata": {},
   "outputs": [],
   "source": [
    "result = data_check.filter(['PassengerId','final'], axis=1)\n",
    "\n",
    "result.head()\n",
    "# Save the csv\n",
    "result.to_csv('keras.csv')"
   ]
  },
  {
   "cell_type": "code",
   "execution_count": null,
   "metadata": {},
   "outputs": [],
   "source": []
  }
 ],
 "metadata": {
  "kernelspec": {
   "display_name": "Python 3",
   "language": "python",
   "name": "python3"
  },
  "language_info": {
   "codemirror_mode": {
    "name": "ipython",
    "version": 3
   },
   "file_extension": ".py",
   "mimetype": "text/x-python",
   "name": "python",
   "nbconvert_exporter": "python",
   "pygments_lexer": "ipython3",
   "version": "3.6.7"
  }
 },
 "nbformat": 4,
 "nbformat_minor": 2
}
